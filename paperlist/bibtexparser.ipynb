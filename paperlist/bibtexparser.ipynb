{
 "cells": [
  {
   "cell_type": "markdown",
   "metadata": {},
   "source": [
    "# Create paper list from .bib file."
   ]
  },
  {
   "cell_type": "markdown",
   "metadata": {},
   "source": [
    "## 1. Build bibtexparser"
   ]
  },
  {
   "cell_type": "code",
   "execution_count": 1,
   "metadata": {
    "tags": []
   },
   "outputs": [],
   "source": [
    "# coding = utf-8\n",
    "import bibtexparser as bp\n",
    "from bibtexparser.bparser import BibTexParser\n",
    "from bibtexparser.customization import convert_to_unicode"
   ]
  },
  {
   "cell_type": "code",
   "execution_count": 2,
   "metadata": {
    "tags": []
   },
   "outputs": [],
   "source": [
    "bibfile_name = \"paperlist.bib\""
   ]
  },
  {
   "cell_type": "code",
   "execution_count": 3,
   "metadata": {
    "tags": []
   },
   "outputs": [],
   "source": [
    "with open(bibfile_name) as bibfile:\n",
    "    parser = BibTexParser()\n",
    "    parser.customization = convert_to_unicode\n",
    "    bibdata = bp.load(bibfile, parser=parser)"
   ]
  },
  {
   "cell_type": "markdown",
   "metadata": {},
   "source": [
    "## 2. Parse .bib file"
   ]
  },
  {
   "cell_type": "code",
   "execution_count": 4,
   "metadata": {
    "tags": []
   },
   "outputs": [],
   "source": [
    "# sort by year\n",
    "biblist = bibdata.entries\n",
    "biblist.sort(key=lambda x: x['year'], reverse=True)"
   ]
  },
  {
   "cell_type": "code",
   "execution_count": 5,
   "metadata": {
    "tags": []
   },
   "outputs": [],
   "source": [
    "# other keywords, e.g. paper or code links\n",
    "other_kws = {\"paper_link\": \"paper\", \"code_link\": \"code\"}"
   ]
  },
  {
   "cell_type": "code",
   "execution_count": 6,
   "metadata": {
    "tags": []
   },
   "outputs": [],
   "source": [
    "bibmd = []\n",
    "for i in range(len(biblist)):\n",
    "    author = biblist[i]['author'].replace(\",\", \"\")\n",
    "    author = author.replace(\" and\", \",\")\n",
    "    year = biblist[i]['year']\n",
    "    title = biblist[i]['title']\n",
    "    bibmd_string = f\"1. **{title}** *{author}*. {year}.\"\n",
    "    for kw in other_kws:\n",
    "        if kw in biblist[i]:\n",
    "            bibmd_string += f\" [{other_kws[kw]}]({biblist[i][kw]})\"\n",
    "    bibmd.append(bibmd_string)\n",
    "    bibmd.append(\"\\n\")"
   ]
  },
  {
   "cell_type": "markdown",
   "metadata": {},
   "source": [
    "## 3. Create .md file"
   ]
  },
  {
   "cell_type": "code",
   "execution_count": 7,
   "metadata": {
    "tags": []
   },
   "outputs": [],
   "source": [
    "from mdutils import Html\n",
    "from mdutils.mdutils import MdUtils"
   ]
  },
  {
   "cell_type": "code",
   "execution_count": 8,
   "metadata": {
    "tags": []
   },
   "outputs": [],
   "source": [
    "file_name = \"paperlist.md\"\n",
    "title = \"Paper List of Adversarial Robustness in Graph Machine Learning\"\n",
    "mdFile = MdUtils(file_name, title)"
   ]
  },
  {
   "cell_type": "code",
   "execution_count": 9,
   "metadata": {
    "tags": []
   },
   "outputs": [
    {
     "data": {
      "text/plain": [
       "<mdutils.fileutils.fileutils.MarkDownFile at 0x11046e950>"
      ]
     },
     "execution_count": 9,
     "metadata": {},
     "output_type": "execute_result"
    }
   ],
   "source": [
    "mdFile.new_paragraph(\"This list collects papers related to the adversarial robustness in graph machine learning.\")\n",
    "mdFile.new_list(bibmd, marked_with=' ')\n",
    "mdFile.create_md_file()"
   ]
  }
 ],
 "metadata": {
  "kernelspec": {
   "display_name": "Python 3 (ipykernel)",
   "language": "python",
   "name": "python3"
  },
  "language_info": {
   "codemirror_mode": {
    "name": "ipython",
    "version": 3
   },
   "file_extension": ".py",
   "mimetype": "text/x-python",
   "name": "python",
   "nbconvert_exporter": "python",
   "pygments_lexer": "ipython3",
   "version": "3.7.4"
  }
 },
 "nbformat": 4,
 "nbformat_minor": 4
}