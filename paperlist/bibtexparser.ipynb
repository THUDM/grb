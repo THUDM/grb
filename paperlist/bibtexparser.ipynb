{
 "cells": [
  {
   "cell_type": "markdown",
   "metadata": {},
   "source": [
    "# Create paper list from .bib file."
   ]
  },
  {
   "cell_type": "markdown",
   "metadata": {},
   "source": [
    "## 1. Build bibtexparser"
   ]
  },
  {
   "cell_type": "code",
   "execution_count": 1,
   "metadata": {
    "tags": []
   },
   "outputs": [],
   "source": [
    "# coding = utf-8\n",
    "import re\n",
    "import bibtexparser as bp\n",
    "from bibtexparser.bparser import BibTexParser\n",
    "from bibtexparser.customization import convert_to_unicode"
   ]
  },
  {
   "cell_type": "code",
   "execution_count": 2,
   "metadata": {
    "tags": []
   },
   "outputs": [],
   "source": [
    "bibfile_name = \"paperlist_10.bib\""
   ]
  },
  {
   "cell_type": "code",
   "execution_count": 3,
   "metadata": {
    "tags": []
   },
   "outputs": [],
   "source": [
    "with open(bibfile_name) as bibfile:\n",
    "    parser = BibTexParser()\n",
    "    parser.customization = convert_to_unicode\n",
    "    bibdata = bp.load(bibfile, parser=parser)"
   ]
  },
  {
   "cell_type": "markdown",
   "metadata": {},
   "source": [
    "## 2. Parse .bib file"
   ]
  },
  {
   "cell_type": "code",
   "execution_count": 4,
   "metadata": {
    "tags": []
   },
   "outputs": [],
   "source": [
    "# sort by year\n",
    "biblist = bibdata.entries\n",
    "# biblist.sort(key=lambda x: x['year'], reverse=True)"
   ]
  },
  {
   "cell_type": "code",
   "execution_count": 5,
   "metadata": {},
   "outputs": [],
   "source": [
    "def bib_to_md(biblist, venue_kws=None, link_kws=None):\n",
    "    bibmd = []\n",
    "    for i in range(len(biblist)):\n",
    "        # author\n",
    "        author = biblist[i]['author'].replace(\",\", \"\")\n",
    "        author = author.replace(\" and\", \",\")\n",
    "        # year\n",
    "        year = biblist[i]['year']\n",
    "        # title\n",
    "        title = biblist[i]['title']\n",
    "        # venue\n",
    "        venue = \"\"\n",
    "        for v_kw in venue_kws:\n",
    "            if v_kw in biblist[i].keys():\n",
    "                if \"arXiv\" in biblist[i][v_kw]:\n",
    "                    venue = biblist[i][v_kw]\n",
    "                    break\n",
    "                else:\n",
    "                    venue = re.sub(u\"([^\\u0020\\u0041-\\u005a\\u0061-\\u007a])\", \"\", biblist[i][v_kw])\n",
    "                    break\n",
    "        \n",
    "        bibmd_string = f\"1. **{title}**. *{author}*. {venue} {year}.\"\n",
    "        # link keywords\n",
    "        for kw in link_kws:\n",
    "            if kw in biblist[i]:\n",
    "                bibmd_string += f\" [{link_kws[kw]}]({biblist[i][kw]})\"\n",
    "        bibmd.append(bibmd_string)\n",
    "        bibmd.append(\"\\n\")\n",
    "    \n",
    "    return bibmd"
   ]
  },
  {
   "cell_type": "code",
   "execution_count": 6,
   "metadata": {
    "tags": []
   },
   "outputs": [],
   "source": [
    "bibmd = bib_to_md(biblist, venue_kws={'booktitle', 'journal', 'venue'}, link_kws={\"paper_link\": \"paper\", \"code_link\": \"code\"})"
   ]
  },
  {
   "cell_type": "markdown",
   "metadata": {},
   "source": [
    "## 3. Create .md file"
   ]
  },
  {
   "cell_type": "code",
   "execution_count": 7,
   "metadata": {
    "tags": []
   },
   "outputs": [],
   "source": [
    "from mdutils import Html\n",
    "from mdutils.mdutils import MdUtils"
   ]
  },
  {
   "cell_type": "code",
   "execution_count": 8,
   "metadata": {
    "tags": []
   },
   "outputs": [],
   "source": [
    "file_name = \"paperlist_10.md\"\n",
    "title = \"Paper List of Adversarial Robustness in Graph Machine Learning\"\n",
    "mdFile = MdUtils(file_name, title)"
   ]
  },
  {
   "cell_type": "code",
   "execution_count": 9,
   "metadata": {
    "tags": []
   },
   "outputs": [
    {
     "data": {
      "text/plain": [
       "<mdutils.fileutils.fileutils.MarkDownFile at 0x110a0f650>"
      ]
     },
     "execution_count": 9,
     "metadata": {},
     "output_type": "execute_result"
    }
   ],
   "source": [
    "mdFile.new_paragraph(\"This list collects papers related to the adversarial robustness in graph machine learning.\")\n",
    "mdFile.new_list(bibmd, marked_with=' ')\n",
    "mdFile.create_md_file()"
   ]
  },
  {
   "cell_type": "markdown",
   "metadata": {},
   "source": [
    "# 4. Create .md file with hierachical classes"
   ]
  },
  {
   "cell_type": "code",
   "execution_count": null,
   "metadata": {},
   "outputs": [],
   "source": []
  }
 ],
 "metadata": {
  "kernelspec": {
   "display_name": "Python 3 (ipykernel)",
   "language": "python",
   "name": "python3"
  },
  "language_info": {
   "codemirror_mode": {
    "name": "ipython",
    "version": 3
   },
   "file_extension": ".py",
   "mimetype": "text/x-python",
   "name": "python",
   "nbconvert_exporter": "python",
   "pygments_lexer": "ipython3",
   "version": "3.7.4"
  }
 },
 "nbformat": 4,
 "nbformat_minor": 4
}