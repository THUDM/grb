{
 "cells": [
  {
   "cell_type": "markdown",
   "id": "8fbb2409-53d7-4d7a-8e1c-c092e25ee089",
   "metadata": {},
   "source": [
    "# 1. Example of loading datasets (Graph Classification)"
   ]
  },
  {
   "cell_type": "markdown",
   "id": "b7ddfcdb-4642-433e-b18a-e10f976e0bf6",
   "metadata": {},
   "source": [
    "[GRB](https://cogdl.ai/grb/home) supports external datasets for graph classification task from [CogDL](https://cogdl.ai/) and [OGB](https://ogb.stanford.edu/). All datasets can be automatically downloaded via the following examples. In case of any problem, you can also download them mannually by the [link](https://cloud.tsinghua.edu.cn/d/c77db90e05e74a5c9b8b/)."
   ]
  },
  {
   "cell_type": "markdown",
   "id": "2c8057e7-d7fa-4a2f-98b7-407d381eeaa5",
   "metadata": {},
   "source": [
    "Contents\n",
    "- [CogDL Datasets](#CogDL-Datasets)\n",
    "- [OGB Datasets](#OGB-Datasets)"
   ]
  },
  {
   "cell_type": "code",
   "execution_count": 1,
   "id": "4684a28a-7830-4dad-8089-ae939dc69577",
   "metadata": {
    "execution": {
     "iopub.execute_input": "2021-09-26T12:56:37.061665Z",
     "iopub.status.busy": "2021-09-26T12:56:37.061518Z",
     "iopub.status.idle": "2021-09-26T12:56:37.850079Z",
     "shell.execute_reply": "2021-09-26T12:56:37.849580Z",
     "shell.execute_reply.started": "2021-09-26T12:56:37.061624Z"
    },
    "tags": []
   },
   "outputs": [],
   "source": [
    "import os\n",
    "from grb.dataset import CogDLDataset, OGBDataset\n",
    "\n",
    "data_dir=\"../../data/\""
   ]
  },
  {
   "cell_type": "markdown",
   "id": "7ac4b856-8050-4215-b7d4-443ba73008e9",
   "metadata": {},
   "source": [
    "## 1.1. CogDL Datasets"
   ]
  },
  {
   "cell_type": "markdown",
   "id": "7e6d460a-8892-4136-886a-66dc1a1eddce",
   "metadata": {
    "tags": []
   },
   "source": [
    "### 1.1.1. Mutag"
   ]
  },
  {
   "cell_type": "code",
   "execution_count": 2,
   "id": "628b87fc-e645-40c5-9224-f52e81ec8981",
   "metadata": {
    "execution": {
     "iopub.execute_input": "2021-09-26T12:56:37.850999Z",
     "iopub.status.busy": "2021-09-26T12:56:37.850899Z",
     "iopub.status.idle": "2021-09-26T12:56:39.826699Z",
     "shell.execute_reply": "2021-09-26T12:56:39.826334Z",
     "shell.execute_reply.started": "2021-09-26T12:56:37.850985Z"
    },
    "tags": []
   },
   "outputs": [
    {
     "name": "stdout",
     "output_type": "stream",
     "text": [
      "cannot import name 'queue' from 'torch._six' (/home/stanislas/anaconda3/envs/grb/lib/python3.8/site-packages/torch/_six.py)\n",
      "Failed to load fast version of SpMM, use torch.scatter_add instead.\n",
      "Dataset 'mutag' loaded.\n",
      "    Number of graphs: 188\n",
      "    Number of nodes (maximum): 28\n",
      "    Number of edges (maximum): 66\n",
      "    Number of features: 7\n",
      "    Number of classes: 2\n",
      "    Number of train samples: 150\n",
      "    Number of val samples: 18\n",
      "    Number of test samples: 20\n"
     ]
    }
   ],
   "source": [
    "dataset = CogDLDataset(name=\"mutag\", data_dir=data_dir)"
   ]
  },
  {
   "cell_type": "markdown",
   "id": "78ab371c-461f-4a4b-b369-8a623483aa59",
   "metadata": {},
   "source": [
    "### 1.1.2. IMDB-B"
   ]
  },
  {
   "cell_type": "code",
   "execution_count": 3,
   "id": "af18a015-ad72-4c44-9af6-ff11f4fc9d92",
   "metadata": {
    "execution": {
     "iopub.execute_input": "2021-09-26T12:56:39.827814Z",
     "iopub.status.busy": "2021-09-26T12:56:39.827630Z",
     "iopub.status.idle": "2021-09-26T12:56:39.979958Z",
     "shell.execute_reply": "2021-09-26T12:56:39.979615Z",
     "shell.execute_reply.started": "2021-09-26T12:56:39.827788Z"
    }
   },
   "outputs": [
    {
     "name": "stdout",
     "output_type": "stream",
     "text": [
      "Dataset 'imdb-b' loaded.\n",
      "    Number of graphs: 1000\n",
      "    Number of nodes (maximum): 136\n",
      "    Number of edges (maximum): 2498\n",
      "    Number of features: 136\n",
      "    Number of classes: 2\n",
      "    Number of train samples: 800\n",
      "    Number of val samples: 100\n",
      "    Number of test samples: 100\n"
     ]
    }
   ],
   "source": [
    "dataset = CogDLDataset(name=\"imdb-b\", data_dir=data_dir)"
   ]
  },
  {
   "cell_type": "markdown",
   "id": "6e788585-8b7e-43b3-910f-56dcc8f5cd8e",
   "metadata": {},
   "source": [
    "### 1.1.2. IMDB-M"
   ]
  },
  {
   "cell_type": "code",
   "execution_count": 4,
   "id": "e9d98aa6-2c4d-4a61-b17f-a86469f707d9",
   "metadata": {
    "execution": {
     "iopub.execute_input": "2021-09-26T12:56:39.980639Z",
     "iopub.status.busy": "2021-09-26T12:56:39.980547Z",
     "iopub.status.idle": "2021-09-26T12:56:40.196856Z",
     "shell.execute_reply": "2021-09-26T12:56:40.196510Z",
     "shell.execute_reply.started": "2021-09-26T12:56:39.980626Z"
    },
    "tags": []
   },
   "outputs": [
    {
     "name": "stdout",
     "output_type": "stream",
     "text": [
      "Dataset 'imdb-m' loaded.\n",
      "    Number of graphs: 1500\n",
      "    Number of nodes (maximum): 89\n",
      "    Number of edges (maximum): 2934\n",
      "    Number of features: 89\n",
      "    Number of classes: 3\n",
      "    Number of train samples: 1200\n",
      "    Number of val samples: 150\n",
      "    Number of test samples: 150\n"
     ]
    }
   ],
   "source": [
    "dataset = CogDLDataset(name=\"imdb-m\", data_dir=data_dir)"
   ]
  },
  {
   "cell_type": "markdown",
   "id": "13e32ba2-fae6-4b55-89d6-85aefcae84fd",
   "metadata": {},
   "source": [
    "### 1.1.3. COLLAB"
   ]
  },
  {
   "cell_type": "code",
   "execution_count": 5,
   "id": "6dc203ad-edf1-48a2-9bdb-ae2010642112",
   "metadata": {
    "execution": {
     "iopub.execute_input": "2021-09-26T12:56:40.197688Z",
     "iopub.status.busy": "2021-09-26T12:56:40.197593Z",
     "iopub.status.idle": "2021-09-26T12:56:41.959993Z",
     "shell.execute_reply": "2021-09-26T12:56:41.959690Z",
     "shell.execute_reply.started": "2021-09-26T12:56:40.197675Z"
    },
    "tags": []
   },
   "outputs": [
    {
     "name": "stdout",
     "output_type": "stream",
     "text": [
      "Dataset 'collab' loaded.\n",
      "    Number of graphs: 5000\n",
      "    Number of nodes (maximum): 492\n",
      "    Number of edges (maximum): 80238\n",
      "    Number of features: 492\n",
      "    Number of classes: 3\n",
      "    Number of train samples: 4000\n",
      "    Number of val samples: 500\n",
      "    Number of test samples: 500\n"
     ]
    }
   ],
   "source": [
    "dataset = CogDLDataset(name=\"collab\", data_dir=data_dir)"
   ]
  },
  {
   "cell_type": "markdown",
   "id": "5020c255-a1d7-44d2-8426-d110f1f63fa7",
   "metadata": {},
   "source": [
    "### 1.1.4. REDDIT-B"
   ]
  },
  {
   "cell_type": "code",
   "execution_count": 6,
   "id": "4a47b70c-95e7-4190-a98a-0a1b977b585e",
   "metadata": {
    "execution": {
     "iopub.execute_input": "2021-09-26T12:56:41.961305Z",
     "iopub.status.busy": "2021-09-26T12:56:41.961210Z",
     "iopub.status.idle": "2021-09-26T12:56:43.065303Z",
     "shell.execute_reply": "2021-09-26T12:56:43.065003Z",
     "shell.execute_reply.started": "2021-09-26T12:56:41.961292Z"
    },
    "tags": []
   },
   "outputs": [
    {
     "name": "stdout",
     "output_type": "stream",
     "text": [
      "Dataset 'reddit-b' loaded.\n",
      "    Number of graphs: 2000\n",
      "    Number of nodes (maximum): 3782\n",
      "    Number of edges (maximum): 8142\n",
      "    Number of features: 3063\n",
      "    Number of classes: 2\n",
      "    Number of train samples: 1600\n",
      "    Number of val samples: 200\n",
      "    Number of test samples: 200\n"
     ]
    }
   ],
   "source": [
    "dataset = CogDLDataset(name=\"reddit-b\", data_dir=data_dir)"
   ]
  },
  {
   "cell_type": "markdown",
   "id": "ab37b735-5925-45a2-a119-032f637ff153",
   "metadata": {},
   "source": [
    "## 1.2. OGB Datasets"
   ]
  },
  {
   "cell_type": "markdown",
   "id": "532fb7f3-db71-4a2d-833b-7f7787a90451",
   "metadata": {},
   "source": [
    "### 1.2.1. ogbg-code2"
   ]
  },
  {
   "cell_type": "code",
   "execution_count": 7,
   "id": "b2d00ca1-0228-4d89-896b-1ef37eff8c38",
   "metadata": {
    "execution": {
     "iopub.execute_input": "2021-09-26T12:56:43.068665Z",
     "iopub.status.busy": "2021-09-26T12:56:43.068567Z",
     "iopub.status.idle": "2021-09-26T12:56:50.170520Z",
     "shell.execute_reply": "2021-09-26T12:56:50.170170Z",
     "shell.execute_reply.started": "2021-09-26T12:56:43.068652Z"
    },
    "tags": []
   },
   "outputs": [
    {
     "name": "stderr",
     "output_type": "stream",
     "text": [
      "Using backend: pytorch\n"
     ]
    },
    {
     "name": "stdout",
     "output_type": "stream",
     "text": [
      "Dataset 'ogbg-code2' loaded.\n",
      "    Number of graphs: 452741\n",
      "    Number of train samples: 407976\n",
      "    Number of val samples: 22817\n",
      "    Number of test samples: 21948\n"
     ]
    }
   ],
   "source": [
    "dataset = OGBDataset(name=\"ogbg-code2\", data_dir=data_dir)"
   ]
  },
  {
   "cell_type": "markdown",
   "id": "c3cf3c15-69a5-4cd0-a9bc-f9d576ed8366",
   "metadata": {},
   "source": [
    "For further information, please refer to the [GRB Documentation](https://grb.readthedocs.io/en/latest/)."
   ]
  }
 ],
 "metadata": {
  "kernelspec": {
   "display_name": "Python 3",
   "language": "python",
   "name": "python3"
  },
  "language_info": {
   "codemirror_mode": {
    "name": "ipython",
    "version": 3
   },
   "file_extension": ".py",
   "mimetype": "text/x-python",
   "name": "python",
   "nbconvert_exporter": "python",
   "pygments_lexer": "ipython3",
   "version": "3.8.11"
  },
  "toc-autonumbering": false,
  "toc-showcode": false,
  "toc-showtags": false
 },
 "nbformat": 4,
 "nbformat_minor": 5
}
