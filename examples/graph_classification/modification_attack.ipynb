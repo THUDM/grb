{
 "cells": [
  {
   "cell_type": "markdown",
   "id": "c07166f1-48af-455f-a85d-09660f18b2bd",
   "metadata": {},
   "source": [
    "# 1. Example of modification attack (Graph Classification)"
   ]
  },
  {
   "cell_type": "markdown",
   "id": "7b68de11-a8cc-4ea1-9ac0-fc646925c120",
   "metadata": {},
   "source": [
    "[GRB](https://cogdl.ai/grb/home) supports modification attack on graph classification attack."
   ]
  },
  {
   "cell_type": "markdown",
   "id": "0fc7aad1-5c97-43e4-8723-670c4d3357b3",
   "metadata": {},
   "source": [
    "Contents\n",
    "- [Load Datasets](##Load-Datasets)\n",
    "- [Prepare Model](##Prepare-Model)\n",
    "- [Modification Attack](##Modification-Attack)"
   ]
  },
  {
   "cell_type": "code",
   "execution_count": 1,
   "id": "c8af192f-093d-4e50-a5c5-c1b209f555f7",
   "metadata": {
    "execution": {
     "iopub.execute_input": "2021-09-29T18:09:35.305350Z",
     "iopub.status.busy": "2021-09-29T18:09:35.305167Z",
     "iopub.status.idle": "2021-09-29T18:09:36.045655Z",
     "shell.execute_reply": "2021-09-29T18:09:36.045083Z",
     "shell.execute_reply.started": "2021-09-29T18:09:35.305301Z"
    },
    "tags": []
   },
   "outputs": [],
   "source": [
    "import os\n",
    "import torch\n",
    "import numpy as np\n",
    "import scipy.sparse as sp\n",
    "import grb.utils as utils\n",
    "from grb.dataset import CogDLDataset, OGBDataset"
   ]
  },
  {
   "cell_type": "markdown",
   "id": "c2feb3ba-ed96-4398-910d-2a1be35ee797",
   "metadata": {},
   "source": [
    "## 1.1. Load Datasets"
   ]
  },
  {
   "cell_type": "code",
   "execution_count": 12,
   "id": "54c2ad09-66aa-4890-b33c-3e7bf119387e",
   "metadata": {
    "execution": {
     "iopub.execute_input": "2021-09-29T18:10:35.779998Z",
     "iopub.status.busy": "2021-09-29T18:10:35.779747Z",
     "iopub.status.idle": "2021-09-29T18:10:35.798146Z",
     "shell.execute_reply": "2021-09-29T18:10:35.797722Z",
     "shell.execute_reply.started": "2021-09-29T18:10:35.779973Z"
    },
    "tags": []
   },
   "outputs": [
    {
     "name": "stdout",
     "output_type": "stream",
     "text": [
      "Dataset 'mutag' loaded.\n",
      "    Number of graphs: 188\n",
      "    Number of nodes (maximum): 28\n",
      "    Number of edges (maximum): 66\n",
      "    Number of features: 7\n",
      "    Number of classes: 2\n",
      "    Number of train samples: 150\n",
      "    Number of val samples: 18\n",
      "    Number of test samples: 20\n"
     ]
    }
   ],
   "source": [
    "dataset_name = \"mutag\"\n",
    "data_dir=\"../../data/\"\n",
    "\n",
    "dataset = CogDLDataset(name=dataset_name, data_dir=data_dir)"
   ]
  },
  {
   "cell_type": "markdown",
   "id": "1779f712-52e5-44f1-a831-1c47a0a9c8db",
   "metadata": {
    "tags": []
   },
   "source": [
    "## 1.2. Prepare Model"
   ]
  },
  {
   "cell_type": "markdown",
   "id": "6f8fc8e6-5e08-4384-b304-c8fbb7479ddd",
   "metadata": {},
   "source": [
    "GRB supports models based on pure Pytorch, CogDL or DGL. The following is an example of GCNGC (GCN for Graph Classification) implemented by pure Pytorch. Other models can be found in ``grb/model/torch``, ``grb/model/cogdl``, or ``grb/model/dgl``."
   ]
  },
  {
   "cell_type": "markdown",
   "id": "521710ed-445a-4a24-a811-b208593a8a23",
   "metadata": {},
   "source": [
    "### 1.2.1. GCNGC (Graph Convolutional Network for Graph Classification)"
   ]
  },
  {
   "cell_type": "code",
   "execution_count": 13,
   "id": "ec0e9be4-e999-4162-9aca-9e3f6018d2ba",
   "metadata": {
    "execution": {
     "iopub.execute_input": "2021-09-29T18:10:36.840948Z",
     "iopub.status.busy": "2021-09-29T18:10:36.840698Z",
     "iopub.status.idle": "2021-09-29T18:10:36.846942Z",
     "shell.execute_reply": "2021-09-29T18:10:36.846337Z",
     "shell.execute_reply.started": "2021-09-29T18:10:36.840924Z"
    },
    "tags": []
   },
   "outputs": [
    {
     "name": "stdout",
     "output_type": "stream",
     "text": [
      "Number of parameters: 4802.\n",
      "GCNGC(\n",
      "  (layers): ModuleList(\n",
      "    (0): GCNConv(\n",
      "      (linear): Linear(in_features=7, out_features=64, bias=True)\n",
      "      (dropout): Dropout(p=0.5, inplace=False)\n",
      "    )\n",
      "    (1): GCNConv(\n",
      "      (linear): Linear(in_features=64, out_features=64, bias=True)\n",
      "      (dropout): Dropout(p=0.5, inplace=False)\n",
      "    )\n",
      "  )\n",
      "  (linear): Linear(in_features=64, out_features=2, bias=True)\n",
      "  (dropout): Dropout(p=0.5, inplace=False)\n",
      ")\n"
     ]
    }
   ],
   "source": [
    "from grb.model.torch import GCNGC\n",
    "\n",
    "model_name = \"gcngc\"\n",
    "model = GCNGC(in_features=dataset.num_features,\n",
    "              out_features=dataset.num_classes,\n",
    "              hidden_features=64, \n",
    "              n_layers=3,\n",
    "              residual=False,\n",
    "              dropout=0.5)\n",
    "print(\"Number of parameters: {}.\".format(utils.get_num_params(model)))\n",
    "print(model)"
   ]
  },
  {
   "cell_type": "markdown",
   "id": "c929ebf6-da68-4025-ba08-6d40bc9645d9",
   "metadata": {
    "tags": []
   },
   "source": [
    "### 1.2.2 Training"
   ]
  },
  {
   "cell_type": "markdown",
   "id": "b5842eed-0c3b-4738-ad51-785c6c57252f",
   "metadata": {},
   "source": [
    "GRB provides ``grb.trainer.trainer`` that facilitates the training process of GNNs. For Graph Classification task, a mini-batch training on graphs is applied. Multiple graphs are merged into a large graph, then the results are pooled to predict label for each graph."
   ]
  },
  {
   "cell_type": "code",
   "execution_count": 14,
   "id": "ddfb30e8-3b8f-409e-9d51-4423be766751",
   "metadata": {
    "execution": {
     "iopub.execute_input": "2021-09-29T18:10:38.033156Z",
     "iopub.status.busy": "2021-09-29T18:10:38.032898Z",
     "iopub.status.idle": "2021-09-29T18:10:38.036551Z",
     "shell.execute_reply": "2021-09-29T18:10:38.036027Z",
     "shell.execute_reply.started": "2021-09-29T18:10:38.033131Z"
    },
    "tags": []
   },
   "outputs": [],
   "source": [
    "save_dir = \"./saved_models/{}/{}\".format(dataset_name, model_name)\n",
    "save_name = \"model.pt\"\n",
    "device = \"cuda:0\"\n",
    "batch_size = 20"
   ]
  },
  {
   "cell_type": "code",
   "execution_count": 15,
   "id": "ad7038c4-f571-4923-bbdc-ab62b2afe22b",
   "metadata": {
    "execution": {
     "iopub.execute_input": "2021-09-29T18:10:38.412550Z",
     "iopub.status.busy": "2021-09-29T18:10:38.412357Z",
     "iopub.status.idle": "2021-09-29T18:10:38.416745Z",
     "shell.execute_reply": "2021-09-29T18:10:38.416153Z",
     "shell.execute_reply.started": "2021-09-29T18:10:38.412528Z"
    },
    "tags": []
   },
   "outputs": [],
   "source": [
    "from grb.trainer.trainer import GraphTrainer\n",
    "\n",
    "trainer = GraphTrainer(dataset=dataset, \n",
    "                       batch_size=batch_size,\n",
    "                       optimizer=torch.optim.Adam(model.parameters(), lr=0.01),\n",
    "                       loss=torch.nn.functional.cross_entropy,\n",
    "                       lr_scheduler=False,\n",
    "                       early_stop=True,\n",
    "                       early_stop_patience=50,\n",
    "                       device=device)"
   ]
  },
  {
   "cell_type": "code",
   "execution_count": 16,
   "id": "9dea7a9f-70f6-48eb-ae33-b74a5698e315",
   "metadata": {
    "execution": {
     "iopub.execute_input": "2021-09-29T18:10:38.998410Z",
     "iopub.status.busy": "2021-09-29T18:10:38.998163Z",
     "iopub.status.idle": "2021-09-29T18:10:49.799810Z",
     "shell.execute_reply": "2021-09-29T18:10:49.799502Z",
     "shell.execute_reply.started": "2021-09-29T18:10:38.998385Z"
    },
    "tags": []
   },
   "outputs": [
    {
     "data": {
      "application/vnd.jupyter.widget-view+json": {
       "model_id": "47861e50d6194b31bf7aab619b6b3f83",
       "version_major": 2,
       "version_minor": 0
      },
      "text/plain": [
       "  0%|          | 0/200 [00:00<?, ?it/s]"
      ]
     },
     "metadata": {},
     "output_type": "display_data"
    },
    {
     "name": "stdout",
     "output_type": "stream",
     "text": [
      "Training finished. Best validation score: 0.9444\n",
      "Training runtime: 10.7984.\n"
     ]
    }
   ],
   "source": [
    "trainer.train(model=model,\n",
    "              n_epoch=200,\n",
    "              eval_every=1,\n",
    "              save_after=0,\n",
    "              save_dir=save_dir,\n",
    "              save_name=save_name,\n",
    "              verbose=False)"
   ]
  },
  {
   "cell_type": "markdown",
   "id": "e74a0dc0-0d41-41eb-a3f0-21744d4367e3",
   "metadata": {
    "tags": []
   },
   "source": [
    "### 1.2.3 Inference"
   ]
  },
  {
   "cell_type": "code",
   "execution_count": 17,
   "id": "78989049-d046-44b4-b7f9-06619b3ece04",
   "metadata": {
    "execution": {
     "iopub.execute_input": "2021-09-29T18:10:54.743738Z",
     "iopub.status.busy": "2021-09-29T18:10:54.743484Z",
     "iopub.status.idle": "2021-09-29T18:10:54.751985Z",
     "shell.execute_reply": "2021-09-29T18:10:54.751485Z",
     "shell.execute_reply.started": "2021-09-29T18:10:54.743713Z"
    },
    "tags": []
   },
   "outputs": [
    {
     "data": {
      "text/plain": [
       "GCNGC(\n",
       "  (layers): ModuleList(\n",
       "    (0): GCNConv(\n",
       "      (linear): Linear(in_features=7, out_features=64, bias=True)\n",
       "      (dropout): Dropout(p=0.5, inplace=False)\n",
       "    )\n",
       "    (1): GCNConv(\n",
       "      (linear): Linear(in_features=64, out_features=64, bias=True)\n",
       "      (dropout): Dropout(p=0.5, inplace=False)\n",
       "    )\n",
       "  )\n",
       "  (linear): Linear(in_features=64, out_features=2, bias=True)\n",
       "  (dropout): Dropout(p=0.5, inplace=False)\n",
       ")"
      ]
     },
     "execution_count": 17,
     "metadata": {},
     "output_type": "execute_result"
    }
   ],
   "source": [
    "model = torch.load(os.path.join(save_dir, save_name))\n",
    "model = model.to(device)\n",
    "model.eval()"
   ]
  },
  {
   "cell_type": "code",
   "execution_count": 18,
   "id": "6aec38d3-d330-46a8-a6f1-20553ae48b9e",
   "metadata": {
    "execution": {
     "iopub.execute_input": "2021-09-29T18:10:55.549408Z",
     "iopub.status.busy": "2021-09-29T18:10:55.549161Z",
     "iopub.status.idle": "2021-09-29T18:10:55.759489Z",
     "shell.execute_reply": "2021-09-29T18:10:55.759188Z",
     "shell.execute_reply.started": "2021-09-29T18:10:55.549383Z"
    },
    "tags": []
   },
   "outputs": [],
   "source": [
    "# by trainer\n",
    "pred = trainer.inference(model)"
   ]
  },
  {
   "cell_type": "markdown",
   "id": "0f4d9751-3f33-4eb0-870e-ddb29f4daded",
   "metadata": {},
   "source": [
    "### 1.2.4 Evaluation (without attack)"
   ]
  },
  {
   "cell_type": "code",
   "execution_count": 19,
   "id": "515cf44e-087b-449f-9d05-57ecabd2ef20",
   "metadata": {
    "execution": {
     "iopub.execute_input": "2021-09-29T18:10:56.823286Z",
     "iopub.status.busy": "2021-09-29T18:10:56.823027Z",
     "iopub.status.idle": "2021-09-29T18:10:57.035892Z",
     "shell.execute_reply": "2021-09-29T18:10:57.035599Z",
     "shell.execute_reply.started": "2021-09-29T18:10:56.823262Z"
    },
    "tags": []
   },
   "outputs": [
    {
     "name": "stdout",
     "output_type": "stream",
     "text": [
      "Test score: 0.7500\n"
     ]
    }
   ],
   "source": [
    "# by trainer\n",
    "test_score = trainer.evaluate(model, dataset.index_test)\n",
    "print(\"Test score: {:.4f}\".format(test_score))"
   ]
  },
  {
   "cell_type": "markdown",
   "id": "bede3a40-daa4-4507-8ab3-f73208fb7cd6",
   "metadata": {},
   "source": [
    "## 1.3. Modification Attack"
   ]
  },
  {
   "cell_type": "code",
   "execution_count": 48,
   "id": "39443c80-b0b6-4e67-b144-9c9523302301",
   "metadata": {
    "execution": {
     "iopub.execute_input": "2021-09-29T18:22:44.232389Z",
     "iopub.status.busy": "2021-09-29T18:22:44.232143Z",
     "iopub.status.idle": "2021-09-29T18:22:44.235291Z",
     "shell.execute_reply": "2021-09-29T18:22:44.234781Z",
     "shell.execute_reply.started": "2021-09-29T18:22:44.232364Z"
    },
    "tags": []
   },
   "outputs": [],
   "source": [
    "from grb.attack.modification.flip import FLIP"
   ]
  },
  {
   "cell_type": "code",
   "execution_count": 49,
   "id": "1620bc15-fcfe-45ab-ac74-ea266afd70a5",
   "metadata": {
    "execution": {
     "iopub.execute_input": "2021-09-29T18:22:44.416825Z",
     "iopub.status.busy": "2021-09-29T18:22:44.416652Z",
     "iopub.status.idle": "2021-09-29T18:22:44.720884Z",
     "shell.execute_reply": "2021-09-29T18:22:44.720569Z",
     "shell.execute_reply.started": "2021-09-29T18:22:44.416804Z"
    }
   },
   "outputs": [
    {
     "name": "stdout",
     "output_type": "stream",
     "text": [
      "Attacking graph 124\n"
     ]
    },
    {
     "data": {
      "application/vnd.jupyter.widget-view+json": {
       "model_id": "b473a199074a4e2b9739d8e41b63e566",
       "version_major": 2,
       "version_minor": 0
      },
      "text/plain": [
       "  0%|          | 0/44 [00:00<?, ?it/s]"
      ]
     },
     "metadata": {},
     "output_type": "display_data"
    },
    {
     "name": "stdout",
     "output_type": "stream",
     "text": [
      "FLIP attack finished. 22 edges were flipped.\n",
      "Attacking graph 47\n"
     ]
    },
    {
     "data": {
      "application/vnd.jupyter.widget-view+json": {
       "model_id": "a767f8bb72e441f49b2a772804566e4c",
       "version_major": 2,
       "version_minor": 0
      },
      "text/plain": [
       "  0%|          | 0/38 [00:00<?, ?it/s]"
      ]
     },
     "metadata": {},
     "output_type": "display_data"
    },
    {
     "name": "stdout",
     "output_type": "stream",
     "text": [
      "FLIP attack finished. 19 edges were flipped.\n",
      "Attacking graph 145\n"
     ]
    },
    {
     "data": {
      "application/vnd.jupyter.widget-view+json": {
       "model_id": "70c66077dc354545a042dda0e34ffba2",
       "version_major": 2,
       "version_minor": 0
      },
      "text/plain": [
       "  0%|          | 0/34 [00:00<?, ?it/s]"
      ]
     },
     "metadata": {},
     "output_type": "display_data"
    },
    {
     "name": "stdout",
     "output_type": "stream",
     "text": [
      "FLIP attack finished. 17 edges were flipped.\n",
      "Attacking graph 140\n"
     ]
    },
    {
     "data": {
      "application/vnd.jupyter.widget-view+json": {
       "model_id": "95b7c50c8a744b2293ce78436a67745c",
       "version_major": 2,
       "version_minor": 0
      },
      "text/plain": [
       "  0%|          | 0/22 [00:00<?, ?it/s]"
      ]
     },
     "metadata": {},
     "output_type": "display_data"
    },
    {
     "name": "stdout",
     "output_type": "stream",
     "text": [
      "FLIP attack finished. 11 edges were flipped.\n",
      "Attacking graph 114\n"
     ]
    },
    {
     "data": {
      "application/vnd.jupyter.widget-view+json": {
       "model_id": "17dc57f1e52a4cfe8020ca568bc0db30",
       "version_major": 2,
       "version_minor": 0
      },
      "text/plain": [
       "  0%|          | 0/26 [00:00<?, ?it/s]"
      ]
     },
     "metadata": {},
     "output_type": "display_data"
    },
    {
     "name": "stdout",
     "output_type": "stream",
     "text": [
      "FLIP attack finished. 13 edges were flipped.\n",
      "Attacking graph 80\n"
     ]
    },
    {
     "data": {
      "application/vnd.jupyter.widget-view+json": {
       "model_id": "ea3cb34365854b66b67e25d09bb10710",
       "version_major": 2,
       "version_minor": 0
      },
      "text/plain": [
       "  0%|          | 0/24 [00:00<?, ?it/s]"
      ]
     },
     "metadata": {},
     "output_type": "display_data"
    },
    {
     "name": "stdout",
     "output_type": "stream",
     "text": [
      "FLIP attack finished. 12 edges were flipped.\n",
      "Attacking graph 96\n"
     ]
    },
    {
     "data": {
      "application/vnd.jupyter.widget-view+json": {
       "model_id": "5c9bf4b2bd7744a7ba6dbc1798dc295a",
       "version_major": 2,
       "version_minor": 0
      },
      "text/plain": [
       "  0%|          | 0/40 [00:00<?, ?it/s]"
      ]
     },
     "metadata": {},
     "output_type": "display_data"
    },
    {
     "name": "stdout",
     "output_type": "stream",
     "text": [
      "FLIP attack finished. 20 edges were flipped.\n",
      "Attacking graph 91\n"
     ]
    },
    {
     "data": {
      "application/vnd.jupyter.widget-view+json": {
       "model_id": "b2766a56bedb403aa4f8a19047623585",
       "version_major": 2,
       "version_minor": 0
      },
      "text/plain": [
       "  0%|          | 0/44 [00:00<?, ?it/s]"
      ]
     },
     "metadata": {},
     "output_type": "display_data"
    },
    {
     "name": "stdout",
     "output_type": "stream",
     "text": [
      "FLIP attack finished. 22 edges were flipped.\n",
      "Attacking graph 168\n"
     ]
    },
    {
     "data": {
      "application/vnd.jupyter.widget-view+json": {
       "model_id": "a44a8e615bff4628ba13fe7644ddf034",
       "version_major": 2,
       "version_minor": 0
      },
      "text/plain": [
       "  0%|          | 0/26 [00:00<?, ?it/s]"
      ]
     },
     "metadata": {},
     "output_type": "display_data"
    },
    {
     "name": "stdout",
     "output_type": "stream",
     "text": [
      "FLIP attack finished. 13 edges were flipped.\n",
      "Attacking graph 71\n"
     ]
    },
    {
     "data": {
      "application/vnd.jupyter.widget-view+json": {
       "model_id": "f17f0549d203460abede05fac5904746",
       "version_major": 2,
       "version_minor": 0
      },
      "text/plain": [
       "  0%|          | 0/36 [00:00<?, ?it/s]"
      ]
     },
     "metadata": {},
     "output_type": "display_data"
    },
    {
     "name": "stdout",
     "output_type": "stream",
     "text": [
      "FLIP attack finished. 18 edges were flipped.\n",
      "Attacking graph 79\n"
     ]
    },
    {
     "data": {
      "application/vnd.jupyter.widget-view+json": {
       "model_id": "368fe3e0c552491c9c159407ceb6043c",
       "version_major": 2,
       "version_minor": 0
      },
      "text/plain": [
       "  0%|          | 0/44 [00:00<?, ?it/s]"
      ]
     },
     "metadata": {},
     "output_type": "display_data"
    },
    {
     "name": "stdout",
     "output_type": "stream",
     "text": [
      "FLIP attack finished. 22 edges were flipped.\n",
      "Attacking graph 23\n"
     ]
    },
    {
     "data": {
      "application/vnd.jupyter.widget-view+json": {
       "model_id": "6d6a6021edff441dbb7786715695f3ae",
       "version_major": 2,
       "version_minor": 0
      },
      "text/plain": [
       "  0%|          | 0/66 [00:00<?, ?it/s]"
      ]
     },
     "metadata": {},
     "output_type": "display_data"
    },
    {
     "name": "stdout",
     "output_type": "stream",
     "text": [
      "FLIP attack finished. 33 edges were flipped.\n",
      "Attacking graph 41\n"
     ]
    },
    {
     "data": {
      "application/vnd.jupyter.widget-view+json": {
       "model_id": "8e48a1c9abf74c5fae66ffbdc6a112b0",
       "version_major": 2,
       "version_minor": 0
      },
      "text/plain": [
       "  0%|          | 0/28 [00:00<?, ?it/s]"
      ]
     },
     "metadata": {},
     "output_type": "display_data"
    },
    {
     "name": "stdout",
     "output_type": "stream",
     "text": [
      "FLIP attack finished. 14 edges were flipped.\n",
      "Attacking graph 107\n"
     ]
    },
    {
     "data": {
      "application/vnd.jupyter.widget-view+json": {
       "model_id": "ade7073dd70443919e1fbdb6a6bc365a",
       "version_major": 2,
       "version_minor": 0
      },
      "text/plain": [
       "  0%|          | 0/44 [00:00<?, ?it/s]"
      ]
     },
     "metadata": {},
     "output_type": "display_data"
    },
    {
     "name": "stdout",
     "output_type": "stream",
     "text": [
      "FLIP attack finished. 22 edges were flipped.\n",
      "Attacking graph 33\n"
     ]
    },
    {
     "data": {
      "application/vnd.jupyter.widget-view+json": {
       "model_id": "7ba75fe644ba43928f9f61ac123253ef",
       "version_major": 2,
       "version_minor": 0
      },
      "text/plain": [
       "  0%|          | 0/28 [00:00<?, ?it/s]"
      ]
     },
     "metadata": {},
     "output_type": "display_data"
    },
    {
     "name": "stdout",
     "output_type": "stream",
     "text": [
      "FLIP attack finished. 14 edges were flipped.\n",
      "Attacking graph 60\n"
     ]
    },
    {
     "data": {
      "application/vnd.jupyter.widget-view+json": {
       "model_id": "8a035975a88b4bfd99eff2c9157133b8",
       "version_major": 2,
       "version_minor": 0
      },
      "text/plain": [
       "  0%|          | 0/38 [00:00<?, ?it/s]"
      ]
     },
     "metadata": {},
     "output_type": "display_data"
    },
    {
     "name": "stdout",
     "output_type": "stream",
     "text": [
      "FLIP attack finished. 19 edges were flipped.\n",
      "Attacking graph 45\n"
     ]
    },
    {
     "data": {
      "application/vnd.jupyter.widget-view+json": {
       "model_id": "1806392e880a4a7d99f9c6d2c52c4273",
       "version_major": 2,
       "version_minor": 0
      },
      "text/plain": [
       "  0%|          | 0/54 [00:00<?, ?it/s]"
      ]
     },
     "metadata": {},
     "output_type": "display_data"
    },
    {
     "name": "stdout",
     "output_type": "stream",
     "text": [
      "FLIP attack finished. 27 edges were flipped.\n",
      "Attacking graph 69\n"
     ]
    },
    {
     "data": {
      "application/vnd.jupyter.widget-view+json": {
       "model_id": "fac72fe3f6884e4fbefdd243764a47f3",
       "version_major": 2,
       "version_minor": 0
      },
      "text/plain": [
       "  0%|          | 0/30 [00:00<?, ?it/s]"
      ]
     },
     "metadata": {},
     "output_type": "display_data"
    },
    {
     "name": "stdout",
     "output_type": "stream",
     "text": [
      "FLIP attack finished. 15 edges were flipped.\n",
      "Attacking graph 116\n"
     ]
    },
    {
     "data": {
      "application/vnd.jupyter.widget-view+json": {
       "model_id": "37d58c19634c49a686a3b84e401b3f32",
       "version_major": 2,
       "version_minor": 0
      },
      "text/plain": [
       "  0%|          | 0/44 [00:00<?, ?it/s]"
      ]
     },
     "metadata": {},
     "output_type": "display_data"
    },
    {
     "name": "stdout",
     "output_type": "stream",
     "text": [
      "FLIP attack finished. 22 edges were flipped.\n",
      "Attacking graph 115\n"
     ]
    },
    {
     "data": {
      "application/vnd.jupyter.widget-view+json": {
       "model_id": "1238ed69e0414ee8a469e793ef8a4a64",
       "version_major": 2,
       "version_minor": 0
      },
      "text/plain": [
       "  0%|          | 0/20 [00:00<?, ?it/s]"
      ]
     },
     "metadata": {},
     "output_type": "display_data"
    },
    {
     "name": "stdout",
     "output_type": "stream",
     "text": [
      "FLIP attack finished. 10 edges were flipped.\n"
     ]
    }
   ],
   "source": [
    "adj_attack_list = []\n",
    "for i in dataset.index_test:\n",
    "    print(\"Attacking graph {}\".format(i))\n",
    "    graph = dataset.graphs[i]\n",
    "    adj = utils.build_adj(graph.edge_attr, graph.edge_index)\n",
    "    n_edge_test = adj.getnnz()\n",
    "    n_mod_ratio = 0.5\n",
    "    n_edge_mod = int(n_edge_test * n_mod_ratio)\n",
    "    # degree flipping\n",
    "    attack = FLIP(n_edge_mod, flip_type=\"deg\", mode=\"descend\", device=device)\n",
    "    adj_attack = attack.attack(adj, index_target=np.arange(graph.num_nodes))\n",
    "    adj_attack_list.append(adj_attack)"
   ]
  },
  {
   "cell_type": "code",
   "execution_count": 60,
   "id": "39804f65-ca66-4afa-83a0-56a10767dc38",
   "metadata": {
    "execution": {
     "iopub.execute_input": "2021-09-29T18:31:26.813316Z",
     "iopub.status.busy": "2021-09-29T18:31:26.813055Z",
     "iopub.status.idle": "2021-09-29T18:31:26.839754Z",
     "shell.execute_reply": "2021-09-29T18:31:26.839469Z",
     "shell.execute_reply.started": "2021-09-29T18:31:26.813289Z"
    },
    "tags": []
   },
   "outputs": [
    {
     "name": "stdout",
     "output_type": "stream",
     "text": [
      "Test score (after attack): 0.6000\n"
     ]
    }
   ],
   "source": [
    "logits =  torch.zeros((len(adj_attack_list), dataset.num_classes)).to(device)\n",
    "for i in range(len(adj_attack_list)):\n",
    "    adj = utils.adj_preprocess(adj_attack_list[i], device=device)\n",
    "    logits[i] = model(dataset.graphs[dataset.index_test[i]].x.to(device), adj)\n",
    "score = trainer.eval_metric(logits, dataset.labels[dataset.index_test].to(device))\n",
    "print(\"Test score (after attack): {:.4f}\".format(score))"
   ]
  },
  {
   "cell_type": "markdown",
   "id": "f0a9d905-9f49-4014-9c3c-4c5c2fd78dea",
   "metadata": {},
   "source": [
    "For further information, please refer to the [GRB Documentation](https://grb.readthedocs.io/en/latest/)."
   ]
  }
 ],
 "metadata": {
  "kernelspec": {
   "display_name": "Python 3",
   "language": "python",
   "name": "python3"
  },
  "language_info": {
   "codemirror_mode": {
    "name": "ipython",
    "version": 3
   },
   "file_extension": ".py",
   "mimetype": "text/x-python",
   "name": "python",
   "nbconvert_exporter": "python",
   "pygments_lexer": "ipython3",
   "version": "3.8.11"
  },
  "toc-autonumbering": false
 },
 "nbformat": 4,
 "nbformat_minor": 5
}
