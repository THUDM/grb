{
 "cells": [
  {
   "cell_type": "markdown",
   "id": "d497cd45-fd3d-4ffa-9de4-169a9234ae3f",
   "metadata": {
    "tags": []
   },
   "source": [
    "# 1. Example of training GNNs for Graph Classification"
   ]
  },
  {
   "cell_type": "markdown",
   "id": "a7f63068-3ed6-418e-af8a-6937400b5688",
   "metadata": {},
   "source": [
    "GRB provides easy-to-use APIs to train GNNs, facilitating the entire process from loading graph data, building GNN models, to evaluation and inference. Here is an example for the task of graph classification."
   ]
  },
  {
   "cell_type": "markdown",
   "id": "1c68e583-033e-446f-b951-2d2ef5e5b1af",
   "metadata": {},
   "source": [
    "Contents\n",
    "- [Load Dataset](#Load-Dataset)\n",
    "- [Build Model](#Build-Model)\n",
    "- [Training](#Training)\n",
    "- [Inference](#Inference)\n",
    "- [Evaluation](#Evaluation)"
   ]
  },
  {
   "cell_type": "code",
   "execution_count": 1,
   "id": "749a5841-0631-45c0-aa49-a62694946399",
   "metadata": {
    "execution": {
     "iopub.execute_input": "2021-09-26T12:22:34.400919Z",
     "iopub.status.busy": "2021-09-26T12:22:34.400673Z",
     "iopub.status.idle": "2021-09-26T12:22:35.149252Z",
     "shell.execute_reply": "2021-09-26T12:22:35.148675Z",
     "shell.execute_reply.started": "2021-09-26T12:22:34.400852Z"
    },
    "tags": []
   },
   "outputs": [],
   "source": [
    "import os\n",
    "import torch\n",
    "import grb.utils as utils"
   ]
  },
  {
   "cell_type": "markdown",
   "id": "c4a8e521-3bd4-4ff3-91b8-d0c5644c3779",
   "metadata": {
    "execution": {
     "iopub.execute_input": "2021-08-11T11:59:56.178453Z",
     "iopub.status.busy": "2021-08-11T11:59:56.178207Z",
     "iopub.status.idle": "2021-08-11T11:59:56.181058Z",
     "shell.execute_reply": "2021-08-11T11:59:56.180559Z",
     "shell.execute_reply.started": "2021-08-11T11:59:56.178427Z"
    },
    "tags": []
   },
   "source": [
    "## 1.1. Load Dataset"
   ]
  },
  {
   "cell_type": "code",
   "execution_count": 3,
   "id": "e1ab3dc9-11e7-47b6-8e44-9bebadea8aa1",
   "metadata": {
    "execution": {
     "iopub.execute_input": "2021-09-26T12:22:38.477830Z",
     "iopub.status.busy": "2021-09-26T12:22:38.477597Z",
     "iopub.status.idle": "2021-09-26T12:22:38.495651Z",
     "shell.execute_reply": "2021-09-26T12:22:38.495146Z",
     "shell.execute_reply.started": "2021-09-26T12:22:38.477807Z"
    },
    "tags": []
   },
   "outputs": [
    {
     "name": "stdout",
     "output_type": "stream",
     "text": [
      "Dataset 'mutag' loaded.\n",
      "    Number of graphs: 188\n",
      "    Number of nodes (maximum): 28\n",
      "    Number of edges (maximum): 66\n",
      "    Number of features: 7\n",
      "    Number of classes: 2\n",
      "    Number of train samples: 150\n",
      "    Number of val samples: 18\n",
      "    Number of test samples: 20\n"
     ]
    }
   ],
   "source": [
    "from grb.dataset import CogDLDataset\n",
    "\n",
    "dataset_name = \"mutag\"\n",
    "dataset = CogDLDataset(name=dataset_name,\n",
    "                       data_dir=\"../../data/\")"
   ]
  },
  {
   "cell_type": "markdown",
   "id": "988f987e-4bb3-4636-a010-9a8c76fbc578",
   "metadata": {
    "tags": []
   },
   "source": [
    "## 1.2. Build Model"
   ]
  },
  {
   "cell_type": "markdown",
   "id": "3d6bfc48-b7bc-4c60-b935-7bf51ad04a1b",
   "metadata": {},
   "source": [
    "GRB supports models based on pure Pytorch, CogDL or DGL. The following is an example of GCNGC (GCN for Graph Classification) implemented by pure Pytorch. Other models can be found in ``grb/model/torch``, ``grb/model/cogdl``, or ``grb/model/dgl``."
   ]
  },
  {
   "cell_type": "markdown",
   "id": "b40a80ec-47a9-47f6-b776-a4c47812b993",
   "metadata": {},
   "source": [
    "### 1.2.1. GCNGC (Graph Convolutional Network for Graph Classification)"
   ]
  },
  {
   "cell_type": "code",
   "execution_count": 4,
   "id": "b713fe26-50e7-4e3c-91be-ad8c770985fb",
   "metadata": {
    "execution": {
     "iopub.execute_input": "2021-09-26T12:22:39.967569Z",
     "iopub.status.busy": "2021-09-26T12:22:39.967327Z",
     "iopub.status.idle": "2021-09-26T12:22:39.976149Z",
     "shell.execute_reply": "2021-09-26T12:22:39.975676Z",
     "shell.execute_reply.started": "2021-09-26T12:22:39.967544Z"
    },
    "tags": []
   },
   "outputs": [
    {
     "name": "stdout",
     "output_type": "stream",
     "text": [
      "Number of parameters: 4802.\n",
      "GCNGC(\n",
      "  (layers): ModuleList(\n",
      "    (0): GCNConv(\n",
      "      (linear): Linear(in_features=7, out_features=64, bias=True)\n",
      "      (dropout): Dropout(p=0.5, inplace=False)\n",
      "    )\n",
      "    (1): GCNConv(\n",
      "      (linear): Linear(in_features=64, out_features=64, bias=True)\n",
      "      (dropout): Dropout(p=0.5, inplace=False)\n",
      "    )\n",
      "  )\n",
      "  (linear): Linear(in_features=64, out_features=2, bias=True)\n",
      "  (dropout): Dropout(p=0.5, inplace=False)\n",
      ")\n"
     ]
    }
   ],
   "source": [
    "from grb.model.torch import GCNGC\n",
    "\n",
    "model_name = \"gcngc\"\n",
    "model = GCNGC(in_features=dataset.num_features,\n",
    "              out_features=dataset.num_classes,\n",
    "              hidden_features=64, \n",
    "              n_layers=3,\n",
    "              residual=False,\n",
    "              dropout=0.5)\n",
    "print(\"Number of parameters: {}.\".format(utils.get_num_params(model)))\n",
    "print(model)"
   ]
  },
  {
   "cell_type": "markdown",
   "id": "76d64367-c009-444b-b4c4-722f388ca5b7",
   "metadata": {
    "tags": []
   },
   "source": [
    "## 1.3. Training"
   ]
  },
  {
   "cell_type": "markdown",
   "id": "59e698f8-ff15-4b16-b6c8-7772534c0bc8",
   "metadata": {},
   "source": [
    "GRB provides ``grb.trainer.trainer`` that facilitates the training process of GNNs. For Graph Classification task, a mini-batch training on graphs is applied. Multiple graphs are merged into a large graph, then the results are pooled to predict label for each graph."
   ]
  },
  {
   "cell_type": "code",
   "execution_count": 5,
   "id": "86e04005-c7ad-432d-8a6f-dc6ef88f1b28",
   "metadata": {
    "execution": {
     "iopub.execute_input": "2021-09-26T12:22:41.373314Z",
     "iopub.status.busy": "2021-09-26T12:22:41.373083Z",
     "iopub.status.idle": "2021-09-26T12:22:41.376261Z",
     "shell.execute_reply": "2021-09-26T12:22:41.375769Z",
     "shell.execute_reply.started": "2021-09-26T12:22:41.373291Z"
    },
    "tags": []
   },
   "outputs": [],
   "source": [
    "save_dir = \"./saved_models/{}/{}\".format(dataset_name, model_name)\n",
    "save_name = \"model.pt\"\n",
    "device = \"cuda:0\"\n",
    "batch_size = 20"
   ]
  },
  {
   "cell_type": "code",
   "execution_count": 6,
   "id": "d3d5d1e5-b32e-4680-9d03-69ea1164a829",
   "metadata": {
    "execution": {
     "iopub.execute_input": "2021-09-26T12:22:41.709003Z",
     "iopub.status.busy": "2021-09-26T12:22:41.708824Z",
     "iopub.status.idle": "2021-09-26T12:22:41.714179Z",
     "shell.execute_reply": "2021-09-26T12:22:41.713792Z",
     "shell.execute_reply.started": "2021-09-26T12:22:41.708981Z"
    },
    "tags": []
   },
   "outputs": [],
   "source": [
    "from grb.trainer.trainer import GraphTrainer\n",
    "\n",
    "trainer = GraphTrainer(dataset=dataset, \n",
    "                       batch_size=batch_size,\n",
    "                       optimizer=torch.optim.Adam(model.parameters(), lr=0.01),\n",
    "                       loss=torch.nn.functional.cross_entropy,\n",
    "                       lr_scheduler=False,\n",
    "                       early_stop=True,\n",
    "                       early_stop_patience=50,\n",
    "                       device=device)"
   ]
  },
  {
   "cell_type": "code",
   "execution_count": 7,
   "id": "4bd4c526-63d5-43ee-9d1c-e9cbb39d9dd3",
   "metadata": {
    "execution": {
     "iopub.execute_input": "2021-09-26T12:22:42.349901Z",
     "iopub.status.busy": "2021-09-26T12:22:42.349696Z",
     "iopub.status.idle": "2021-09-26T12:22:55.171589Z",
     "shell.execute_reply": "2021-09-26T12:22:55.171184Z",
     "shell.execute_reply.started": "2021-09-26T12:22:42.349878Z"
    },
    "tags": []
   },
   "outputs": [
    {
     "data": {
      "application/vnd.jupyter.widget-view+json": {
       "model_id": "04c0f291ec6c439faea6cc5f2bfdbe67",
       "version_major": 2,
       "version_minor": 0
      },
      "text/plain": [
       "  0%|          | 0/200 [00:00<?, ?it/s]"
      ]
     },
     "metadata": {},
     "output_type": "display_data"
    },
    {
     "name": "stdout",
     "output_type": "stream",
     "text": [
      "Training finished. Best validation score: 1.0000\n",
      "Training runtime: 12.8183.\n"
     ]
    }
   ],
   "source": [
    "trainer.train(model=model,\n",
    "              n_epoch=200,\n",
    "              eval_every=1,\n",
    "              save_after=0,\n",
    "              save_dir=save_dir,\n",
    "              save_name=save_name,\n",
    "              verbose=False)"
   ]
  },
  {
   "cell_type": "markdown",
   "id": "49b4c3c4-7fb5-455f-95d0-c42c152f1de8",
   "metadata": {},
   "source": [
    "## 1.4. Inference"
   ]
  },
  {
   "cell_type": "code",
   "execution_count": 8,
   "id": "f4335f49-e81e-4df9-a2af-bda51bc1ec4f",
   "metadata": {
    "execution": {
     "iopub.execute_input": "2021-09-26T12:22:55.172413Z",
     "iopub.status.busy": "2021-09-26T12:22:55.172315Z",
     "iopub.status.idle": "2021-09-26T12:22:55.177444Z",
     "shell.execute_reply": "2021-09-26T12:22:55.177147Z",
     "shell.execute_reply.started": "2021-09-26T12:22:55.172400Z"
    },
    "tags": []
   },
   "outputs": [
    {
     "data": {
      "text/plain": [
       "GCNGC(\n",
       "  (layers): ModuleList(\n",
       "    (0): GCNConv(\n",
       "      (linear): Linear(in_features=7, out_features=64, bias=True)\n",
       "      (dropout): Dropout(p=0.5, inplace=False)\n",
       "    )\n",
       "    (1): GCNConv(\n",
       "      (linear): Linear(in_features=64, out_features=64, bias=True)\n",
       "      (dropout): Dropout(p=0.5, inplace=False)\n",
       "    )\n",
       "  )\n",
       "  (linear): Linear(in_features=64, out_features=2, bias=True)\n",
       "  (dropout): Dropout(p=0.5, inplace=False)\n",
       ")"
      ]
     },
     "execution_count": 8,
     "metadata": {},
     "output_type": "execute_result"
    }
   ],
   "source": [
    "model = torch.load(os.path.join(save_dir, save_name))\n",
    "model = model.to(device)\n",
    "model.eval()"
   ]
  },
  {
   "cell_type": "code",
   "execution_count": 9,
   "id": "471ee8c3-0fd4-44b5-8972-222010cceca5",
   "metadata": {
    "execution": {
     "iopub.execute_input": "2021-09-26T12:22:55.178084Z",
     "iopub.status.busy": "2021-09-26T12:22:55.178000Z",
     "iopub.status.idle": "2021-09-26T12:22:55.402315Z",
     "shell.execute_reply": "2021-09-26T12:22:55.401894Z",
     "shell.execute_reply.started": "2021-09-26T12:22:55.178074Z"
    },
    "tags": []
   },
   "outputs": [],
   "source": [
    "# by trainer\n",
    "pred = trainer.inference(model)"
   ]
  },
  {
   "cell_type": "markdown",
   "id": "f9325f59-ac11-42e9-844f-60c36da5e534",
   "metadata": {},
   "source": [
    "## 1.5 Evaluation"
   ]
  },
  {
   "cell_type": "code",
   "execution_count": 10,
   "id": "c02216fa-80d2-4ec8-a320-b05952ceddbc",
   "metadata": {
    "execution": {
     "iopub.execute_input": "2021-09-26T12:22:55.402942Z",
     "iopub.status.busy": "2021-09-26T12:22:55.402846Z",
     "iopub.status.idle": "2021-09-26T12:22:55.634010Z",
     "shell.execute_reply": "2021-09-26T12:22:55.633474Z",
     "shell.execute_reply.started": "2021-09-26T12:22:55.402929Z"
    },
    "tags": []
   },
   "outputs": [
    {
     "name": "stdout",
     "output_type": "stream",
     "text": [
      "Test score: 0.9000\n"
     ]
    }
   ],
   "source": [
    "# by trainer\n",
    "test_score = trainer.evaluate(model, dataset.index_test)\n",
    "print(\"Test score: {:.4f}\".format(test_score))"
   ]
  }
 ],
 "metadata": {
  "kernelspec": {
   "display_name": "Python 3",
   "language": "python",
   "name": "python3"
  },
  "language_info": {
   "codemirror_mode": {
    "name": "ipython",
    "version": 3
   },
   "file_extension": ".py",
   "mimetype": "text/x-python",
   "name": "python",
   "nbconvert_exporter": "python",
   "pygments_lexer": "ipython3",
   "version": "3.8.11"
  },
  "toc-autonumbering": false,
  "toc-showtags": false
 },
 "nbformat": 4,
 "nbformat_minor": 5
}
