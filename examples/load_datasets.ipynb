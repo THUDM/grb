{
 "cells": [
  {
   "cell_type": "markdown",
   "id": "8fbb2409-53d7-4d7a-8e1c-c092e25ee089",
   "metadata": {},
   "source": [
    "# Example of loading datasets in GRB"
   ]
  },
  {
   "cell_type": "markdown",
   "id": "b7ddfcdb-4642-433e-b18a-e10f976e0bf6",
   "metadata": {},
   "source": [
    "[GRB](https://cogdl.ai/grb/home) supports internal datasets of different scales and specific preprocessing, and also external datasets from [CogDL](https://cogdl.ai/) and [OGB](https://ogb.stanford.edu/). All datasets can be automatically downloaded via the following examples. In case of any problem, you can also download them mannually by the [link](https://cloud.tsinghua.edu.cn/d/c77db90e05e74a5c9b8b/)."
   ]
  },
  {
   "cell_type": "markdown",
   "id": "2c8057e7-d7fa-4a2f-98b7-407d381eeaa5",
   "metadata": {},
   "source": [
    "Contents\n",
    "- [GRB Datasets](#GRB-Datasets)\n",
    "- [CogDL Datasets](#CogDL-Datasets)\n",
    "- [OGB Datasets](#OGB-Datasets)\n",
    "- [Prepare Dataset](#Prepare-Dataset)"
   ]
  },
  {
   "cell_type": "code",
   "execution_count": 1,
   "id": "4684a28a-7830-4dad-8089-ae939dc69577",
   "metadata": {
    "execution": {
     "iopub.execute_input": "2021-08-11T08:21:21.704886Z",
     "iopub.status.busy": "2021-08-11T08:21:21.704698Z",
     "iopub.status.idle": "2021-08-11T08:21:22.504540Z",
     "shell.execute_reply": "2021-08-11T08:21:22.504102Z",
     "shell.execute_reply.started": "2021-08-11T08:21:21.704835Z"
    },
    "tags": []
   },
   "outputs": [],
   "source": [
    "import os\n",
    "from grb.dataset import Dataset, CogDLDataset, OGBDataset\n",
    "\n",
    "data_dir=\"../data/\""
   ]
  },
  {
   "cell_type": "markdown",
   "id": "97b6e30e-ffd8-4dfd-8344-627641e0283c",
   "metadata": {
    "heading_collapsed": "true",
    "tags": []
   },
   "source": [
    "## GRB Datasets"
   ]
  },
  {
   "cell_type": "markdown",
   "id": "ded0ad34-2c99-4611-98db-2c92653c8851",
   "metadata": {},
   "source": [
    "GRB datasets are named by the prefix *grb-*. There are four *mode* ('easy', 'medium', 'hard', 'full') for test set, representing different average degrees of test nodes, thus different difficulty for attacking them. The node features are processed by *arctan* normalization (first standardization then arctan function), which makes node features fall in the same scale."
   ]
  },
  {
   "cell_type": "markdown",
   "id": "eafd8883-9306-4ded-87ca-c6c4083d4328",
   "metadata": {
    "execution": {
     "iopub.execute_input": "2021-08-05T18:01:13.506888Z",
     "iopub.status.busy": "2021-08-05T18:01:13.506650Z",
     "iopub.status.idle": "2021-08-05T18:01:13.509753Z",
     "shell.execute_reply": "2021-08-05T18:01:13.509170Z",
     "shell.execute_reply.started": "2021-08-05T18:01:13.506862Z"
    }
   },
   "source": [
    "### grb-cora"
   ]
  },
  {
   "cell_type": "code",
   "execution_count": 2,
   "id": "4053ef74-cb91-4314-adcd-b3a61149f81a",
   "metadata": {
    "execution": {
     "iopub.execute_input": "2021-08-11T08:21:22.505582Z",
     "iopub.status.busy": "2021-08-11T08:21:22.505415Z",
     "iopub.status.idle": "2021-08-11T08:21:22.547673Z",
     "shell.execute_reply": "2021-08-11T08:21:22.547319Z",
     "shell.execute_reply.started": "2021-08-11T08:21:22.505559Z"
    },
    "tags": []
   },
   "outputs": [
    {
     "name": "stdout",
     "output_type": "stream",
     "text": [
      "Dataset 'grb-cora' loaded.\n",
      "    Number of nodes: 2680\n",
      "    Number of edges: 5148\n",
      "    Number of features: 302\n",
      "    Number of classes: 7\n",
      "    Number of train samples: 1608\n",
      "    Number of val samples: 268\n",
      "    Number of test samples: 804\n",
      "    Dataset mode: full\n",
      "    Feature range: [-0.9406, 0.9430]\n"
     ]
    }
   ],
   "source": [
    "dataset = Dataset(name=\"grb-cora\", \n",
    "                  data_dir=data_dir, \n",
    "                  mode='full', \n",
    "                  feat_norm=\"arctan\")"
   ]
  },
  {
   "cell_type": "markdown",
   "id": "05c85721-a28b-4de3-9a44-f23064433090",
   "metadata": {},
   "source": [
    "### grb-citeseer"
   ]
  },
  {
   "cell_type": "code",
   "execution_count": 3,
   "id": "9901bced-33e5-4449-a26e-0a37fe83965f",
   "metadata": {
    "execution": {
     "iopub.execute_input": "2021-08-11T08:21:22.548492Z",
     "iopub.status.busy": "2021-08-11T08:21:22.548398Z",
     "iopub.status.idle": "2021-08-11T08:21:22.636970Z",
     "shell.execute_reply": "2021-08-11T08:21:22.636611Z",
     "shell.execute_reply.started": "2021-08-11T08:21:22.548478Z"
    },
    "tags": []
   },
   "outputs": [
    {
     "name": "stdout",
     "output_type": "stream",
     "text": [
      "Dataset 'grb-citeseer' loaded.\n",
      "    Number of nodes: 3191\n",
      "    Number of edges: 4172\n",
      "    Number of features: 768\n",
      "    Number of classes: 6\n",
      "    Number of train samples: 1914\n",
      "    Number of val samples: 320\n",
      "    Number of test samples: 957\n",
      "    Dataset mode: full\n",
      "    Feature range: [-0.9585, 0.8887]\n"
     ]
    }
   ],
   "source": [
    "dataset = Dataset(name=\"grb-citeseer\", \n",
    "                  data_dir=data_dir, \n",
    "                  mode='full', \n",
    "                  feat_norm=\"arctan\")"
   ]
  },
  {
   "cell_type": "markdown",
   "id": "23620b76-c4f2-414c-b5c3-da3e34095e69",
   "metadata": {},
   "source": [
    "### grb-flickr"
   ]
  },
  {
   "cell_type": "code",
   "execution_count": 4,
   "id": "aad02edc-f549-4c95-9cf2-c911c6eb23fe",
   "metadata": {
    "execution": {
     "iopub.execute_input": "2021-08-11T08:21:22.637759Z",
     "iopub.status.busy": "2021-08-11T08:21:22.637664Z",
     "iopub.status.idle": "2021-08-11T08:21:23.861691Z",
     "shell.execute_reply": "2021-08-11T08:21:23.861273Z",
     "shell.execute_reply.started": "2021-08-11T08:21:22.637746Z"
    },
    "tags": []
   },
   "outputs": [
    {
     "name": "stdout",
     "output_type": "stream",
     "text": [
      "Dataset 'grb-flickr' loaded.\n",
      "    Number of nodes: 89250\n",
      "    Number of edges: 449878\n",
      "    Number of features: 500\n",
      "    Number of classes: 7\n",
      "    Number of train samples: 53550\n",
      "    Number of val samples: 8925\n",
      "    Number of test samples: 26775\n",
      "    Dataset mode: full\n",
      "    Feature range: [-0.4665, 0.9976]\n"
     ]
    }
   ],
   "source": [
    "dataset = Dataset(name=\"grb-flickr\", \n",
    "                  data_dir=data_dir, \n",
    "                  mode='full', \n",
    "                  feat_norm=\"arctan\")"
   ]
  },
  {
   "cell_type": "markdown",
   "id": "8c0b878a-eee0-42a9-931d-026c0085c1f0",
   "metadata": {},
   "source": [
    "### grb-reddit"
   ]
  },
  {
   "cell_type": "code",
   "execution_count": 5,
   "id": "bc536b7f-ace4-42c1-8ff6-a80b3a3fdc28",
   "metadata": {
    "execution": {
     "iopub.execute_input": "2021-08-11T08:21:23.862377Z",
     "iopub.status.busy": "2021-08-11T08:21:23.862282Z",
     "iopub.status.idle": "2021-08-11T08:21:28.988614Z",
     "shell.execute_reply": "2021-08-11T08:21:28.988315Z",
     "shell.execute_reply.started": "2021-08-11T08:21:23.862363Z"
    },
    "tags": []
   },
   "outputs": [
    {
     "name": "stdout",
     "output_type": "stream",
     "text": [
      "Dataset 'grb-reddit' loaded.\n",
      "    Number of nodes: 232965\n",
      "    Number of edges: 11606919\n",
      "    Number of features: 602\n",
      "    Number of classes: 41\n",
      "    Number of train samples: 139779\n",
      "    Number of val samples: 23298\n",
      "    Number of test samples: 69888\n",
      "    Dataset mode: full\n",
      "    Feature range: [-0.9774, 0.9947]\n"
     ]
    }
   ],
   "source": [
    "dataset = Dataset(name=\"grb-reddit\", \n",
    "                  data_dir=data_dir, \n",
    "                  mode='full', \n",
    "                  feat_norm=\"arctan\")"
   ]
  },
  {
   "cell_type": "markdown",
   "id": "9b7a774e-6a82-452c-a3a1-2adea521df22",
   "metadata": {},
   "source": [
    "### grb-aminer"
   ]
  },
  {
   "cell_type": "code",
   "execution_count": 6,
   "id": "ba8e9f8d-de41-4a59-a2f8-a64a9d8abb97",
   "metadata": {
    "execution": {
     "iopub.execute_input": "2021-08-11T08:21:28.989230Z",
     "iopub.status.busy": "2021-08-11T08:21:28.989136Z",
     "iopub.status.idle": "2021-08-11T08:21:31.357976Z",
     "shell.execute_reply": "2021-08-11T08:21:31.357679Z",
     "shell.execute_reply.started": "2021-08-11T08:21:28.989217Z"
    },
    "tags": []
   },
   "outputs": [
    {
     "name": "stdout",
     "output_type": "stream",
     "text": [
      "Dataset 'grb-aminer' loaded.\n",
      "    Number of nodes: 659574\n",
      "    Number of edges: 2878577\n",
      "    Number of features: 100\n",
      "    Number of classes: 18\n",
      "    Number of train samples: 395744\n",
      "    Number of val samples: 65959\n",
      "    Number of test samples: 197871\n",
      "    Dataset mode: full\n",
      "    Feature range: [-0.9326, 0.9290]\n"
     ]
    }
   ],
   "source": [
    "dataset = Dataset(name=\"grb-aminer\", \n",
    "                  data_dir=data_dir, \n",
    "                  mode='full', \n",
    "                  feat_norm=\"arctan\")"
   ]
  },
  {
   "cell_type": "markdown",
   "id": "7ac4b856-8050-4215-b7d4-443ba73008e9",
   "metadata": {},
   "source": [
    "## CogDL Datasets"
   ]
  },
  {
   "cell_type": "markdown",
   "id": "7e6d460a-8892-4136-886a-66dc1a1eddce",
   "metadata": {},
   "source": [
    "### Cora"
   ]
  },
  {
   "cell_type": "code",
   "execution_count": 7,
   "id": "628b87fc-e645-40c5-9224-f52e81ec8981",
   "metadata": {
    "execution": {
     "iopub.execute_input": "2021-08-11T08:21:31.358598Z",
     "iopub.status.busy": "2021-08-11T08:21:31.358507Z",
     "iopub.status.idle": "2021-08-11T08:21:33.356915Z",
     "shell.execute_reply": "2021-08-11T08:21:33.356204Z",
     "shell.execute_reply.started": "2021-08-11T08:21:31.358584Z"
    },
    "tags": []
   },
   "outputs": [
    {
     "name": "stdout",
     "output_type": "stream",
     "text": [
      "cannot import name 'queue' from 'torch._six' (/home/stanislas/anaconda3/envs/grb/lib/python3.8/site-packages/torch/_six.py)\n",
      "Failed to load fast version of SpMM, use torch.scatter_add instead.\n",
      "Dataset 'cora' loaded.\n",
      "    Number of nodes: 2708\n",
      "    Number of edges: 5092\n",
      "    Number of features: 1433\n",
      "    Number of classes: 7\n",
      "    Number of train samples: 140\n",
      "    Number of val samples: 500\n",
      "    Number of test samples: 1000\n",
      "    Feature range: [0.0000, 1.0000]\n"
     ]
    }
   ],
   "source": [
    "dataset = CogDLDataset(name=\"cora\", data_dir=data_dir)"
   ]
  },
  {
   "cell_type": "markdown",
   "id": "0e91b48c-6755-40f2-abe1-f12e678653fe",
   "metadata": {
    "execution": {
     "iopub.execute_input": "2021-07-05T03:04:21.904173Z",
     "iopub.status.busy": "2021-07-05T03:04:21.903916Z",
     "iopub.status.idle": "2021-07-05T03:04:21.906865Z",
     "shell.execute_reply": "2021-07-05T03:04:21.906362Z",
     "shell.execute_reply.started": "2021-07-05T03:04:21.904149Z"
    }
   },
   "source": [
    "### Citeseer"
   ]
  },
  {
   "cell_type": "code",
   "execution_count": 8,
   "id": "ab769be1-579e-4490-9c3e-71b712dcc0de",
   "metadata": {
    "execution": {
     "iopub.execute_input": "2021-08-11T08:21:33.358549Z",
     "iopub.status.busy": "2021-08-11T08:21:33.358431Z",
     "iopub.status.idle": "2021-08-11T08:21:33.388346Z",
     "shell.execute_reply": "2021-08-11T08:21:33.387752Z",
     "shell.execute_reply.started": "2021-08-11T08:21:33.358534Z"
    },
    "tags": []
   },
   "outputs": [
    {
     "name": "stdout",
     "output_type": "stream",
     "text": [
      "Dataset 'citeseer' loaded.\n",
      "    Number of nodes: 3327\n",
      "    Number of edges: 4552\n",
      "    Number of features: 3703\n",
      "    Number of classes: 6\n",
      "    Number of train samples: 120\n",
      "    Number of val samples: 500\n",
      "    Number of test samples: 1000\n",
      "    Feature range: [0.0000, 0.1250]\n"
     ]
    }
   ],
   "source": [
    "dataset = CogDLDataset(name=\"citeseer\", data_dir=data_dir)"
   ]
  },
  {
   "cell_type": "markdown",
   "id": "692b53cf-28e2-4eca-8943-839c75f2a2e3",
   "metadata": {},
   "source": [
    "### Pubmed"
   ]
  },
  {
   "cell_type": "code",
   "execution_count": 9,
   "id": "14f4e93a-1a7b-4780-94a5-1a5da86eb14c",
   "metadata": {
    "execution": {
     "iopub.execute_input": "2021-08-11T08:21:33.389384Z",
     "iopub.status.busy": "2021-08-11T08:21:33.389267Z",
     "iopub.status.idle": "2021-08-11T08:21:33.421796Z",
     "shell.execute_reply": "2021-08-11T08:21:33.421226Z",
     "shell.execute_reply.started": "2021-08-11T08:21:33.389368Z"
    },
    "tags": []
   },
   "outputs": [
    {
     "name": "stdout",
     "output_type": "stream",
     "text": [
      "Dataset 'pubmed' loaded.\n",
      "    Number of nodes: 19717\n",
      "    Number of edges: 44324\n",
      "    Number of features: 500\n",
      "    Number of classes: 3\n",
      "    Number of train samples: 60\n",
      "    Number of val samples: 500\n",
      "    Number of test samples: 1000\n",
      "    Feature range: [0.0000, 0.4862]\n"
     ]
    }
   ],
   "source": [
    "dataset = CogDLDataset(name=\"pubmed\", data_dir=data_dir)"
   ]
  },
  {
   "cell_type": "markdown",
   "id": "efbeea5f-3f5e-4369-85f4-b81530f7eade",
   "metadata": {},
   "source": [
    "### Flickr"
   ]
  },
  {
   "cell_type": "code",
   "execution_count": 10,
   "id": "72e752f9-418b-4b73-80f9-0971647262f2",
   "metadata": {
    "execution": {
     "iopub.execute_input": "2021-08-11T08:21:33.422675Z",
     "iopub.status.busy": "2021-08-11T08:21:33.422562Z",
     "iopub.status.idle": "2021-08-11T08:21:33.972045Z",
     "shell.execute_reply": "2021-08-11T08:21:33.971472Z",
     "shell.execute_reply.started": "2021-08-11T08:21:33.422660Z"
    },
    "tags": []
   },
   "outputs": [
    {
     "name": "stdout",
     "output_type": "stream",
     "text": [
      "Dataset 'flickr' loaded.\n",
      "    Number of nodes: 89250\n",
      "    Number of edges: 449878\n",
      "    Number of features: 500\n",
      "    Number of classes: 7\n",
      "    Number of train samples: 44625\n",
      "    Number of val samples: 22312\n",
      "    Number of test samples: 22313\n",
      "    Feature range: [-0.8998, 269.9578]\n"
     ]
    }
   ],
   "source": [
    "dataset = CogDLDataset(name=\"flickr\", data_dir=data_dir)"
   ]
  },
  {
   "cell_type": "markdown",
   "id": "33575c2c-58c2-4e65-bed7-34d46f4c373f",
   "metadata": {},
   "source": [
    "### Reddit"
   ]
  },
  {
   "cell_type": "code",
   "execution_count": 11,
   "id": "5b3c4412-84a6-4ac5-a4cf-d6589720ade7",
   "metadata": {
    "execution": {
     "iopub.execute_input": "2021-08-11T08:21:33.972752Z",
     "iopub.status.busy": "2021-08-11T08:21:33.972655Z",
     "iopub.status.idle": "2021-08-11T08:21:35.988860Z",
     "shell.execute_reply": "2021-08-11T08:21:35.988349Z",
     "shell.execute_reply.started": "2021-08-11T08:21:33.972738Z"
    },
    "tags": []
   },
   "outputs": [
    {
     "name": "stdout",
     "output_type": "stream",
     "text": [
      "Dataset 'reddit' loaded.\n",
      "    Number of nodes: 232965\n",
      "    Number of edges: 11606919\n",
      "    Number of features: 602\n",
      "    Number of classes: 41\n",
      "    Number of train samples: 153932\n",
      "    Number of val samples: 23699\n",
      "    Number of test samples: 55334\n",
      "    Feature range: [-28.1936, 120.9568]\n"
     ]
    }
   ],
   "source": [
    "dataset = CogDLDataset(name=\"reddit\", data_dir=data_dir)"
   ]
  },
  {
   "cell_type": "markdown",
   "id": "ab37b735-5925-45a2-a119-032f637ff153",
   "metadata": {},
   "source": [
    "## OGB Datasets"
   ]
  },
  {
   "cell_type": "markdown",
   "id": "f1924494-bf88-43c1-8c04-b74b4d0d3a42",
   "metadata": {
    "tags": []
   },
   "source": [
    "### ogbn-arxiv"
   ]
  },
  {
   "cell_type": "code",
   "execution_count": 12,
   "id": "b2d00ca1-0228-4d89-896b-1ef37eff8c38",
   "metadata": {
    "execution": {
     "iopub.execute_input": "2021-08-11T08:21:35.989603Z",
     "iopub.status.busy": "2021-08-11T08:21:35.989505Z",
     "iopub.status.idle": "2021-08-11T08:21:36.145406Z",
     "shell.execute_reply": "2021-08-11T08:21:36.144893Z",
     "shell.execute_reply.started": "2021-08-11T08:21:35.989590Z"
    },
    "tags": []
   },
   "outputs": [
    {
     "name": "stdout",
     "output_type": "stream",
     "text": [
      "Dataset 'ogbn-arxiv' loaded.\n",
      "    Number of nodes: 169343\n",
      "    Number of edges: 1166243\n",
      "    Number of features: 128\n",
      "    Number of classes: 40\n",
      "    Number of train samples: 90941\n",
      "    Number of val samples: 29799\n",
      "    Number of test samples: 48603\n",
      "    Feature range: [-1.3889, 1.6387]\n"
     ]
    },
    {
     "name": "stderr",
     "output_type": "stream",
     "text": [
      "Using backend: pytorch\n"
     ]
    }
   ],
   "source": [
    "dataset = OGBDataset(name=\"ogbn-arxiv\", data_dir=data_dir)"
   ]
  },
  {
   "cell_type": "code",
   "execution_count": 13,
   "id": "4dd01478-4c96-41a5-8897-a3898e27aae3",
   "metadata": {
    "execution": {
     "iopub.execute_input": "2021-08-11T08:21:36.146174Z",
     "iopub.status.busy": "2021-08-11T08:21:36.146073Z",
     "iopub.status.idle": "2021-08-11T08:21:36.218376Z",
     "shell.execute_reply": "2021-08-11T08:21:36.217881Z",
     "shell.execute_reply.started": "2021-08-11T08:21:36.146159Z"
    },
    "tags": []
   },
   "outputs": [
    {
     "name": "stdout",
     "output_type": "stream",
     "text": [
      "Dataset 'ogbn-arxiv' loaded.\n",
      "    Number of nodes: 169343\n",
      "    Number of edges: 1166243\n",
      "    Number of features: 128\n",
      "    Number of classes: 40\n",
      "    Number of train samples: 90941\n",
      "    Number of val samples: 29799\n",
      "    Number of test samples: 48603\n",
      "    Feature range: [-1.3889, 1.6387]\n"
     ]
    }
   ],
   "source": [
    "dataset_name = \"ogbn-arxiv\"\n",
    "dataset = OGBDataset(name=dataset_name, data_dir=\"../../../dataset/\")"
   ]
  },
  {
   "cell_type": "markdown",
   "id": "5a5692bd-1c3a-410f-83d3-273b4ad9a422",
   "metadata": {},
   "source": [
    "### ogbn-products"
   ]
  },
  {
   "cell_type": "code",
   "execution_count": 14,
   "id": "733d79c6-7eef-4cda-ae13-9986a9d16706",
   "metadata": {
    "execution": {
     "iopub.execute_input": "2021-08-11T08:21:36.219123Z",
     "iopub.status.busy": "2021-08-11T08:21:36.219023Z",
     "iopub.status.idle": "2021-08-11T08:21:38.832778Z",
     "shell.execute_reply": "2021-08-11T08:21:38.832445Z",
     "shell.execute_reply.started": "2021-08-11T08:21:36.219108Z"
    },
    "tags": []
   },
   "outputs": [
    {
     "name": "stdout",
     "output_type": "stream",
     "text": [
      "Dataset 'ogbn-products' loaded.\n",
      "    Number of nodes: 2449029\n",
      "    Number of edges: 61859140\n",
      "    Number of features: 100\n",
      "    Number of classes: 47\n",
      "    Number of train samples: 196615\n",
      "    Number of val samples: 39323\n",
      "    Number of test samples: 2213091\n",
      "    Feature range: [-1434.0566, 904.9496]\n"
     ]
    }
   ],
   "source": [
    "dataset = OGBDataset(name=\"ogbn-products\", data_dir=data_dir)"
   ]
  },
  {
   "cell_type": "markdown",
   "id": "b74b9eb7-fadc-48a4-b430-814b84dd7229",
   "metadata": {},
   "source": [
    "### ogbn-proteins"
   ]
  },
  {
   "cell_type": "code",
   "execution_count": 15,
   "id": "f8c21f82-24dd-4a35-8571-5629ec8f1f19",
   "metadata": {
    "execution": {
     "iopub.execute_input": "2021-08-11T08:21:38.833482Z",
     "iopub.status.busy": "2021-08-11T08:21:38.833372Z",
     "iopub.status.idle": "2021-08-11T08:21:40.591956Z",
     "shell.execute_reply": "2021-08-11T08:21:40.591630Z",
     "shell.execute_reply.started": "2021-08-11T08:21:38.833467Z"
    },
    "tags": []
   },
   "outputs": [
    {
     "name": "stdout",
     "output_type": "stream",
     "text": [
      "Dataset 'ogbn-proteins' loaded.\n",
      "    Number of nodes: 132534\n",
      "    Number of edges: 39561252\n",
      "    Number of features: 8\n",
      "    Number of classes: 2\n",
      "    Number of tasks: 112\n",
      "    Number of train samples: 86619\n",
      "    Number of val samples: 21236\n",
      "    Number of test samples: 24679\n",
      "    Feature range: [0.0010, 1.0000]\n"
     ]
    }
   ],
   "source": [
    "dataset = OGBDataset(name=\"ogbn-proteins\", data_dir=data_dir)"
   ]
  },
  {
   "cell_type": "markdown",
   "id": "3716f039-7b70-4ed7-9b8d-cfae52fc231f",
   "metadata": {},
   "source": [
    "## Prepare Dataset"
   ]
  },
  {
   "cell_type": "code",
   "execution_count": 16,
   "id": "a9b53dd4-a21a-4a44-bb93-80827fcd5fc6",
   "metadata": {
    "execution": {
     "iopub.execute_input": "2021-08-11T08:21:40.592642Z",
     "iopub.status.busy": "2021-08-11T08:21:40.592541Z",
     "iopub.status.idle": "2021-08-11T08:21:40.596612Z",
     "shell.execute_reply": "2021-08-11T08:21:40.596325Z",
     "shell.execute_reply.started": "2021-08-11T08:21:40.592628Z"
    },
    "tags": []
   },
   "outputs": [],
   "source": [
    "adj = dataset.adj\n",
    "features = dataset.features\n",
    "labels = dataset.labels\n",
    "num_nodes = dataset.num_nodes\n",
    "num_features = dataset.num_features\n",
    "num_classes = dataset.num_classes\n",
    "train_mask = dataset.train_mask\n",
    "val_mask = dataset.val_mask\n",
    "test_mask = dataset.test_mask"
   ]
  }
 ],
 "metadata": {
  "kernelspec": {
   "display_name": "Python 3",
   "language": "python",
   "name": "python3"
  },
  "language_info": {
   "codemirror_mode": {
    "name": "ipython",
    "version": 3
   },
   "file_extension": ".py",
   "mimetype": "text/x-python",
   "name": "python",
   "nbconvert_exporter": "python",
   "pygments_lexer": "ipython3",
   "version": "3.8.11"
  },
  "toc-autonumbering": true,
  "toc-showcode": false,
  "toc-showtags": false
 },
 "nbformat": 4,
 "nbformat_minor": 5
}
