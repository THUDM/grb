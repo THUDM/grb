{
 "cells": [
  {
   "cell_type": "markdown",
   "id": "82e9886a-1de2-422c-8fba-9302f09c91a7",
   "metadata": {},
   "source": [
    "# Example of graph injection attack using GRB"
   ]
  },
  {
   "cell_type": "markdown",
   "id": "7837654b-f823-45e1-b80a-c1431f278ee4",
   "metadata": {},
   "source": [
    "GRB provides a unified evaluation scenario for fair comparisons between attacks and defenses. The scenario is **Black-box, Evasion, Inductive, Injection**. Take the case of a citation-graph classification system for example. The platform collects labeled data from previous papers and trains a GNN model. When a batch of new papers are submitted, it updates the graph and uses the trained model to predict labels for them.\n",
    "\n",
    "* **Black-box**: Both the attacker and the defender have no knowledge about the applied methods each other uses.\n",
    "* **Evasion**: GNNs are already trained in trusted data (e.g. authenticated users), which are untouched by the attackers but might have natural noises. Thus, attacks will only happen during the inference phase.\n",
    "* **Inductive**: GNNs are used to classify unseen data (e.g. new users), i.e. validation or test data are unseen during training, which requires GNNs to generalize to out of distribution data.\n",
    "* **Injection**: The attackers can only inject new nodes but not modify the target nodes directly. Since it is usually hard to hack into users' accounts and modify their profiles. However, it is easier to create fake accounts and connect them to existing users."
   ]
  },
  {
   "cell_type": "code",
   "execution_count": 1,
   "id": "897373a0-691e-4c91-9eb3-1ff59798428d",
   "metadata": {
    "execution": {
     "iopub.execute_input": "2021-08-14T00:40:17.949757Z",
     "iopub.status.busy": "2021-08-14T00:40:17.949570Z",
     "iopub.status.idle": "2021-08-14T00:40:18.700340Z",
     "shell.execute_reply": "2021-08-14T00:40:18.699772Z",
     "shell.execute_reply.started": "2021-08-14T00:40:17.949705Z"
    },
    "tags": []
   },
   "outputs": [],
   "source": [
    "import os\n",
    "import torch\n",
    "import grb.utils as utils"
   ]
  },
  {
   "cell_type": "markdown",
   "id": "36544446-57d0-400d-b948-39acef59dd9b",
   "metadata": {
    "execution": {
     "iopub.execute_input": "2021-08-11T11:59:56.178453Z",
     "iopub.status.busy": "2021-08-11T11:59:56.178207Z",
     "iopub.status.idle": "2021-08-11T11:59:56.181058Z",
     "shell.execute_reply": "2021-08-11T11:59:56.180559Z",
     "shell.execute_reply.started": "2021-08-11T11:59:56.178427Z"
    },
    "tags": []
   },
   "source": [
    "## Load Dataset"
   ]
  },
  {
   "cell_type": "markdown",
   "id": "ac3e7f1d-7213-4f33-91fc-3a1b514d18e5",
   "metadata": {},
   "source": [
    "GRB datasets are named by the prefix *grb-*. There are four *mode* ('easy', 'medium', 'hard', 'full') for test set, representing different average degrees of test nodes, thus different difficulty for attacking them. The node features are processed by *arctan* normalization (first standardization then arctan function), which makes node features fall in the same scale."
   ]
  },
  {
   "cell_type": "code",
   "execution_count": 2,
   "id": "143458da-bb41-485e-a11c-790cd920bafe",
   "metadata": {
    "execution": {
     "iopub.execute_input": "2021-08-14T00:40:18.701252Z",
     "iopub.status.busy": "2021-08-14T00:40:18.701144Z",
     "iopub.status.idle": "2021-08-14T00:40:18.773320Z",
     "shell.execute_reply": "2021-08-14T00:40:18.772635Z",
     "shell.execute_reply.started": "2021-08-14T00:40:18.701236Z"
    },
    "tags": []
   },
   "outputs": [
    {
     "name": "stdout",
     "output_type": "stream",
     "text": [
      "Dataset 'grb-cora' loaded.\n",
      "    Number of nodes: 2680\n",
      "    Number of edges: 5148\n",
      "    Number of features: 302\n",
      "    Number of classes: 7\n",
      "    Number of train samples: 1608\n",
      "    Number of val samples: 268\n",
      "    Number of test samples: 804\n",
      "    Dataset mode: full\n",
      "    Feature range: [-0.9406, 0.9430]\n"
     ]
    }
   ],
   "source": [
    "from grb.dataset import Dataset\n",
    "\n",
    "dataset_name = 'grb-cora'\n",
    "dataset = Dataset(name=dataset_name, \n",
    "                  data_dir=\"../data/\",\n",
    "                  mode='full',\n",
    "                  feat_norm='arctan')"
   ]
  },
  {
   "cell_type": "code",
   "execution_count": 3,
   "id": "efa6fb77-4cdb-4cfc-b0d6-90d94948a286",
   "metadata": {
    "execution": {
     "iopub.execute_input": "2021-08-14T00:40:18.774862Z",
     "iopub.status.busy": "2021-08-14T00:40:18.774684Z",
     "iopub.status.idle": "2021-08-14T00:40:18.778075Z",
     "shell.execute_reply": "2021-08-14T00:40:18.777521Z",
     "shell.execute_reply.started": "2021-08-14T00:40:18.774837Z"
    },
    "tags": []
   },
   "outputs": [],
   "source": [
    "adj = dataset.adj\n",
    "features = dataset.features\n",
    "labels = dataset.labels\n",
    "num_features = dataset.num_features\n",
    "num_classes = dataset.num_classes\n",
    "test_mask = dataset.test_mask"
   ]
  },
  {
   "cell_type": "markdown",
   "id": "b8be88ab-d574-4f6b-9344-9bb6298cc0d0",
   "metadata": {},
   "source": [
    "## Build Model"
   ]
  },
  {
   "cell_type": "markdown",
   "id": "6f339cd2-c0ea-489a-a192-e1ef8527da5a",
   "metadata": {},
   "source": [
    "GRB supports models based on pure Pytorch, CogDL or DGL. The following is an example of GCN implemented by pure Pytorch. Other models can be found in ``grb/model/torch``, ``grb/model/cogdl``, or ``grb/model/dgl``."
   ]
  },
  {
   "cell_type": "markdown",
   "id": "f0d2b762-7ffb-4d60-ad21-252f8ea48b43",
   "metadata": {
    "tags": []
   },
   "source": [
    "### GCN"
   ]
  },
  {
   "cell_type": "code",
   "execution_count": 4,
   "id": "4d140da8-de44-4428-8aec-879d4cb8d6cf",
   "metadata": {
    "execution": {
     "iopub.execute_input": "2021-08-14T00:40:18.779364Z",
     "iopub.status.busy": "2021-08-14T00:40:18.779111Z",
     "iopub.status.idle": "2021-08-14T00:40:18.782016Z",
     "shell.execute_reply": "2021-08-14T00:40:18.781556Z",
     "shell.execute_reply.started": "2021-08-14T00:40:18.779338Z"
    },
    "tags": []
   },
   "outputs": [],
   "source": [
    "model_name = \"gcn\"\n",
    "save_dir = \"./saved_modes/{}/{}\".format(dataset_name, model_name)\n",
    "save_name = \"model.pt\"\n",
    "device = \"cuda:0\""
   ]
  },
  {
   "cell_type": "code",
   "execution_count": 5,
   "id": "938bce97-8e12-417f-9bed-7a01ea9db9a3",
   "metadata": {
    "execution": {
     "iopub.execute_input": "2021-08-14T00:40:18.782962Z",
     "iopub.status.busy": "2021-08-14T00:40:18.782784Z",
     "iopub.status.idle": "2021-08-14T00:40:20.461960Z",
     "shell.execute_reply": "2021-08-14T00:40:20.461432Z",
     "shell.execute_reply.started": "2021-08-14T00:40:18.782939Z"
    },
    "tags": []
   },
   "outputs": [
    {
     "data": {
      "text/plain": [
       "GCN(\n",
       "  (layers): ModuleList(\n",
       "    (0): GCNConv(\n",
       "      (linear): Linear(in_features=302, out_features=64, bias=True)\n",
       "      (dropout): Dropout(p=0.5, inplace=False)\n",
       "    )\n",
       "    (1): GCNConv(\n",
       "      (linear): Linear(in_features=64, out_features=64, bias=True)\n",
       "      (dropout): Dropout(p=0.5, inplace=False)\n",
       "    )\n",
       "    (2): GCNConv(\n",
       "      (linear): Linear(in_features=64, out_features=7, bias=True)\n",
       "    )\n",
       "  )\n",
       ")"
      ]
     },
     "execution_count": 5,
     "metadata": {},
     "output_type": "execute_result"
    }
   ],
   "source": [
    "model = torch.load(os.path.join(save_dir, save_name))\n",
    "model = model.to(device)\n",
    "model.eval()"
   ]
  },
  {
   "cell_type": "markdown",
   "id": "fa5f63f0-6671-4852-966e-6a2263e10d1b",
   "metadata": {},
   "source": [
    "## Injection Attack"
   ]
  },
  {
   "cell_type": "markdown",
   "id": "678ef8d4-7ef2-4d8d-8d7e-3d9bb2603fcc",
   "metadata": {},
   "source": [
    "**Rules and constraints for attackers**: they have knowledge about the entire graph (including all nodes, edges and labels, excluding labels of the test nodes to attack), but do NOT have knowledge about the target model or the defense mechanism; they are allowed to inject a limited number of new nodes with limited edges, but are NOT allowed to modify the original graph; they are allowed to generate features of injected nodes as long as they remain unnoticeable by defenders (e.g. nodes with features that exceed the range can be easily detected); they are allowed to get the classification results from the target model through limited number of queries."
   ]
  },
  {
   "cell_type": "code",
   "execution_count": 6,
   "id": "b4df1217-7567-4f9e-bb10-7ae8ab137a5d",
   "metadata": {
    "ExecuteTime": {
     "end_time": "2021-04-01T13:04:28.728188Z",
     "start_time": "2021-04-01T13:04:28.725094Z"
    },
    "execution": {
     "iopub.execute_input": "2021-08-14T00:40:20.462691Z",
     "iopub.status.busy": "2021-08-14T00:40:20.462593Z",
     "iopub.status.idle": "2021-08-14T00:40:20.470521Z",
     "shell.execute_reply": "2021-08-14T00:40:20.470073Z",
     "shell.execute_reply.started": "2021-08-14T00:40:20.462677Z"
    },
    "tags": []
   },
   "outputs": [],
   "source": [
    "from grb.attack import PGD\n",
    "from grb.utils.normalize import GCNAdjNorm"
   ]
  },
  {
   "cell_type": "code",
   "execution_count": 7,
   "id": "cee382a0-06b7-4f23-a265-1e7ff82e3aac",
   "metadata": {
    "execution": {
     "iopub.execute_input": "2021-08-14T00:40:20.471097Z",
     "iopub.status.busy": "2021-08-14T00:40:20.471000Z",
     "iopub.status.idle": "2021-08-14T00:40:20.473357Z",
     "shell.execute_reply": "2021-08-14T00:40:20.472911Z",
     "shell.execute_reply.started": "2021-08-14T00:40:20.471086Z"
    }
   },
   "outputs": [],
   "source": [
    "epsilon = 0.01\n",
    "n_epoch = 1000\n",
    "n_inject_max = 100\n",
    "n_edge_max = 200\n",
    "feat_lim_min = -1\n",
    "feat_lim_max = 1"
   ]
  },
  {
   "cell_type": "code",
   "execution_count": 8,
   "id": "24873dae-219b-4cd0-b5d3-0050802ab99e",
   "metadata": {
    "ExecuteTime": {
     "end_time": "2021-04-01T13:04:28.732761Z",
     "start_time": "2021-04-01T13:04:28.730918Z"
    },
    "execution": {
     "iopub.execute_input": "2021-08-14T00:40:20.474261Z",
     "iopub.status.busy": "2021-08-14T00:40:20.474173Z",
     "iopub.status.idle": "2021-08-14T00:40:20.476448Z",
     "shell.execute_reply": "2021-08-14T00:40:20.476006Z",
     "shell.execute_reply.started": "2021-08-14T00:40:20.474250Z"
    },
    "tags": []
   },
   "outputs": [],
   "source": [
    "attack = PGD(epsilon=epsilon,\n",
    "             n_epoch=n_epoch,\n",
    "             n_inject_max=n_inject_max,\n",
    "             n_edge_max=n_edge_max,\n",
    "             feat_lim_min=feat_lim_min,\n",
    "             feat_lim_max=feat_lim_max,\n",
    "             device=device)"
   ]
  },
  {
   "cell_type": "code",
   "execution_count": 9,
   "id": "dd425914-768b-4eb3-87c0-9bfa79ddb148",
   "metadata": {
    "execution": {
     "iopub.execute_input": "2021-08-14T00:40:20.477045Z",
     "iopub.status.busy": "2021-08-14T00:40:20.476951Z",
     "iopub.status.idle": "2021-08-14T00:40:24.972229Z",
     "shell.execute_reply": "2021-08-14T00:40:24.971612Z",
     "shell.execute_reply.started": "2021-08-14T00:40:20.477034Z"
    },
    "tags": []
   },
   "outputs": [
    {
     "name": "stdout",
     "output_type": "stream",
     "text": [
      "Attacking: Epoch 999, Loss: 2.97669, Surrogate test score: 0.12935\n"
     ]
    }
   ],
   "source": [
    "adj_attack, features_attack = attack.attack(model=model,\n",
    "                                            adj=adj,\n",
    "                                            features=features,\n",
    "                                            target_mask=test_mask,\n",
    "                                            adj_norm_func=GCNAdjNorm)"
   ]
  },
  {
   "cell_type": "code",
   "execution_count": 12,
   "id": "bc530311-7bcf-4f1d-8728-0084157b2a52",
   "metadata": {
    "execution": {
     "iopub.execute_input": "2021-08-14T00:40:48.947218Z",
     "iopub.status.busy": "2021-08-14T00:40:48.946963Z",
     "iopub.status.idle": "2021-08-14T00:40:48.962622Z",
     "shell.execute_reply": "2021-08-14T00:40:48.962145Z",
     "shell.execute_reply.started": "2021-08-14T00:40:48.947182Z"
    },
    "tags": []
   },
   "outputs": [
    {
     "name": "stdout",
     "output_type": "stream",
     "text": [
      "Test score after attack: 0.6410.\n"
     ]
    }
   ],
   "source": [
    "features_attacked = torch.cat([features.to(device), features_attack])\n",
    "test_score = utils.evaluate(model, \n",
    "                            features=features_attacked,\n",
    "                            adj=adj_attack,\n",
    "                            labels=dataset.labels,\n",
    "                            adj_norm_func=model.adj_norm_func,\n",
    "                            device=device)\n",
    "print(\"Test score after attack: {:.4f}.\".format(test_score))"
   ]
  }
 ],
 "metadata": {
  "kernelspec": {
   "display_name": "Python 3",
   "language": "python",
   "name": "python3"
  },
  "language_info": {
   "codemirror_mode": {
    "name": "ipython",
    "version": 3
   },
   "file_extension": ".py",
   "mimetype": "text/x-python",
   "name": "python",
   "nbconvert_exporter": "python",
   "pygments_lexer": "ipython3",
   "version": "3.8.11"
  }
 },
 "nbformat": 4,
 "nbformat_minor": 5
}
