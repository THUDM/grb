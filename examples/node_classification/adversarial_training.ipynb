{
 "cells": [
  {
   "cell_type": "markdown",
   "id": "c1a5df84-1e86-4c4a-959d-01be534dc183",
   "metadata": {},
   "source": [
    "# 1. Example of adversarial training for Graph Neural Networks (GNNs)"
   ]
  },
  {
   "cell_type": "code",
   "execution_count": 1,
   "id": "a9f15d06-b07c-4f71-9378-ddbfc8854068",
   "metadata": {
    "execution": {
     "iopub.execute_input": "2021-08-21T12:40:53.755746Z",
     "iopub.status.busy": "2021-08-21T12:40:53.755590Z",
     "iopub.status.idle": "2021-08-21T12:40:54.835760Z",
     "shell.execute_reply": "2021-08-21T12:40:54.835261Z",
     "shell.execute_reply.started": "2021-08-21T12:40:53.755703Z"
    },
    "tags": []
   },
   "outputs": [],
   "source": [
    "import os\n",
    "import torch\n",
    "import grb.utils as utils"
   ]
  },
  {
   "cell_type": "markdown",
   "id": "610fa049-2516-4f1d-a219-ef5b6f527967",
   "metadata": {
    "execution": {
     "iopub.execute_input": "2021-08-11T11:59:56.178453Z",
     "iopub.status.busy": "2021-08-11T11:59:56.178207Z",
     "iopub.status.idle": "2021-08-11T11:59:56.181058Z",
     "shell.execute_reply": "2021-08-11T11:59:56.180559Z",
     "shell.execute_reply.started": "2021-08-11T11:59:56.178427Z"
    },
    "tags": []
   },
   "source": [
    "## 1.1. Load Dataset"
   ]
  },
  {
   "cell_type": "markdown",
   "id": "6e46c307-7cca-4713-ab8e-9ed2a2946f77",
   "metadata": {},
   "source": [
    "GRB datasets are named by the prefix *grb-*. There are four *mode* ('easy', 'medium', 'hard', 'full') for test set, representing different average degrees of test nodes, thus different difficulty for attacking them. The node features are processed by *arctan* normalization (first standardization then arctan function), which makes node features fall in the same scale."
   ]
  },
  {
   "cell_type": "code",
   "execution_count": 2,
   "id": "aa4d8318-c956-4e15-9f68-69486384384c",
   "metadata": {
    "execution": {
     "iopub.execute_input": "2021-08-21T12:40:54.836755Z",
     "iopub.status.busy": "2021-08-21T12:40:54.836650Z",
     "iopub.status.idle": "2021-08-21T12:40:54.907325Z",
     "shell.execute_reply": "2021-08-21T12:40:54.906762Z",
     "shell.execute_reply.started": "2021-08-21T12:40:54.836741Z"
    },
    "tags": []
   },
   "outputs": [
    {
     "name": "stdout",
     "output_type": "stream",
     "text": [
      "Dataset 'grb-cora' loaded.\n",
      "    Number of nodes: 2680\n",
      "    Number of edges: 5148\n",
      "    Number of features: 302\n",
      "    Number of classes: 7\n",
      "    Number of train samples: 1608\n",
      "    Number of val samples: 268\n",
      "    Number of test samples: 804\n",
      "    Dataset mode: full\n",
      "    Feature range: [-0.9406, 0.9430]\n"
     ]
    }
   ],
   "source": [
    "from grb.dataset import Dataset\n",
    "\n",
    "dataset_name = 'grb-cora'\n",
    "dataset = Dataset(name=dataset_name, \n",
    "                  data_dir=\"../../data/\",\n",
    "                  mode='full',\n",
    "                  feat_norm='arctan')"
   ]
  },
  {
   "cell_type": "code",
   "execution_count": 3,
   "id": "82bae0ea-34ba-416e-8d34-1bafcb112f35",
   "metadata": {
    "execution": {
     "iopub.execute_input": "2021-08-21T12:40:54.908113Z",
     "iopub.status.busy": "2021-08-21T12:40:54.908012Z",
     "iopub.status.idle": "2021-08-21T12:40:54.910586Z",
     "shell.execute_reply": "2021-08-21T12:40:54.910088Z",
     "shell.execute_reply.started": "2021-08-21T12:40:54.908100Z"
    }
   },
   "outputs": [],
   "source": [
    "adj = dataset.adj\n",
    "features = dataset.features\n",
    "labels = dataset.labels\n",
    "num_features = dataset.num_features\n",
    "num_classes = dataset.num_classes\n",
    "test_mask = dataset.test_mask"
   ]
  },
  {
   "cell_type": "markdown",
   "id": "b3d6360f-ee38-47f9-9381-162f4582269d",
   "metadata": {},
   "source": [
    "## 1.2. Build Model"
   ]
  },
  {
   "cell_type": "markdown",
   "id": "18324992-b6cd-4f32-a15e-f542e701f667",
   "metadata": {},
   "source": [
    "GRB supports models based on pure Pytorch, CogDL or DGL. The following is an example of GCN implemented by pure Pytorch. Other models can be found in ``grb/model/torch``, ``grb/model/cogdl``, or ``grb/model/dgl``."
   ]
  },
  {
   "cell_type": "markdown",
   "id": "8af36802-07a1-44bc-a359-8bcd655c5801",
   "metadata": {
    "tags": []
   },
   "source": [
    "### 1.2.1. GCN"
   ]
  },
  {
   "cell_type": "code",
   "execution_count": 4,
   "id": "d4b0ecd5-2bfb-4c21-b180-7109c5930bbe",
   "metadata": {
    "execution": {
     "iopub.execute_input": "2021-08-21T12:40:54.911137Z",
     "iopub.status.busy": "2021-08-21T12:40:54.911049Z",
     "iopub.status.idle": "2021-08-21T12:40:54.918323Z",
     "shell.execute_reply": "2021-08-21T12:40:54.917847Z",
     "shell.execute_reply.started": "2021-08-21T12:40:54.911126Z"
    },
    "tags": []
   },
   "outputs": [
    {
     "name": "stdout",
     "output_type": "stream",
     "text": [
      "Number of parameters: 24867.\n",
      "GCN(\n",
      "  (layers): ModuleList(\n",
      "    (0): LayerNorm((302,), eps=1e-05, elementwise_affine=True)\n",
      "    (1): GCNConv(\n",
      "      (linear): Linear(in_features=302, out_features=64, bias=True)\n",
      "      (dropout): Dropout(p=0.5, inplace=False)\n",
      "    )\n",
      "    (2): LayerNorm((64,), eps=1e-05, elementwise_affine=True)\n",
      "    (3): GCNConv(\n",
      "      (linear): Linear(in_features=64, out_features=64, bias=True)\n",
      "      (dropout): Dropout(p=0.5, inplace=False)\n",
      "    )\n",
      "    (4): LayerNorm((64,), eps=1e-05, elementwise_affine=True)\n",
      "    (5): GCNConv(\n",
      "      (linear): Linear(in_features=64, out_features=7, bias=True)\n",
      "    )\n",
      "  )\n",
      ")\n"
     ]
    }
   ],
   "source": [
    "from grb.model.torch import GCN\n",
    "from grb.utils.normalize import GCNAdjNorm\n",
    "\n",
    "model_name = \"gcn\"\n",
    "model = GCN(in_features=dataset.num_features,\n",
    "            out_features=dataset.num_classes,\n",
    "            hidden_features=64, \n",
    "            n_layers=3,\n",
    "            adj_norm_func=GCNAdjNorm,\n",
    "            layer_norm=True,\n",
    "            residual=False,\n",
    "            dropout=0.5)\n",
    "print(\"Number of parameters: {}.\".format(utils.get_num_params(model)))\n",
    "print(model)"
   ]
  },
  {
   "cell_type": "markdown",
   "id": "5c9438da-b52c-4ccc-98a2-aaf4670aff0a",
   "metadata": {},
   "source": [
    "## 1.3. Adversarial training"
   ]
  },
  {
   "cell_type": "markdown",
   "id": "fddb2776-e40c-4734-a69e-abac0af8042e",
   "metadata": {},
   "source": [
    "### 1.3.1. Build attack"
   ]
  },
  {
   "cell_type": "code",
   "execution_count": 5,
   "id": "d3097dc4-4e11-46e8-8ff4-ac392d66d234",
   "metadata": {
    "execution": {
     "iopub.execute_input": "2021-08-21T12:40:54.919109Z",
     "iopub.status.busy": "2021-08-21T12:40:54.918976Z",
     "iopub.status.idle": "2021-08-21T12:40:54.923086Z",
     "shell.execute_reply": "2021-08-21T12:40:54.922815Z",
     "shell.execute_reply.started": "2021-08-21T12:40:54.919092Z"
    },
    "tags": []
   },
   "outputs": [],
   "source": [
    "from grb.attack.injection import FGSM\n",
    "\n",
    "device = 'cuda:0'\n",
    "\n",
    "attack = FGSM(epsilon=0.01,\n",
    "              n_epoch=10,\n",
    "              n_inject_max=10,\n",
    "              n_edge_max=20,\n",
    "              feat_lim_min=features.min(),\n",
    "              feat_lim_max=features.max(),\n",
    "              early_stop=False,\n",
    "              device=device, \n",
    "              verbose=False)"
   ]
  },
  {
   "cell_type": "code",
   "execution_count": 6,
   "id": "d34eac1a-bde3-4a58-b449-4491fb868ac1",
   "metadata": {
    "execution": {
     "iopub.execute_input": "2021-08-21T12:40:54.923542Z",
     "iopub.status.busy": "2021-08-21T12:40:54.923461Z",
     "iopub.status.idle": "2021-08-21T12:40:54.925413Z",
     "shell.execute_reply": "2021-08-21T12:40:54.925100Z",
     "shell.execute_reply.started": "2021-08-21T12:40:54.923532Z"
    },
    "tags": []
   },
   "outputs": [],
   "source": [
    "save_dir = \"./saved_models/{}/{}_at\".format(dataset_name, model_name)\n",
    "save_name = \"model.pt\"\n",
    "device = \"cuda:0\"\n",
    "feat_norm = None\n",
    "train_mode = \"inductive\"  # \"transductive\""
   ]
  },
  {
   "cell_type": "code",
   "execution_count": 7,
   "id": "4b8434fc-c0c1-4191-bbba-6c4e7f89d3d1",
   "metadata": {
    "execution": {
     "iopub.execute_input": "2021-08-21T12:40:54.926205Z",
     "iopub.status.busy": "2021-08-21T12:40:54.926118Z",
     "iopub.status.idle": "2021-08-21T12:40:56.578388Z",
     "shell.execute_reply": "2021-08-21T12:40:56.577960Z",
     "shell.execute_reply.started": "2021-08-21T12:40:54.926194Z"
    },
    "tags": []
   },
   "outputs": [],
   "source": [
    "from grb.defense import AdvTrainer\n",
    "trainer = AdvTrainer(dataset=dataset, \n",
    "                     attack=attack,\n",
    "                     optimizer=torch.optim.Adam(model.parameters(), lr=0.01),\n",
    "                     loss=torch.nn.functional.cross_entropy,\n",
    "                     lr_scheduler=False,\n",
    "                     early_stop=True,\n",
    "                     early_stop_patience=500,\n",
    "                     device=device)"
   ]
  },
  {
   "cell_type": "code",
   "execution_count": 8,
   "id": "3a3f1129-bba3-4026-a34f-eb276c9f0947",
   "metadata": {
    "execution": {
     "iopub.execute_input": "2021-08-21T12:40:56.579110Z",
     "iopub.status.busy": "2021-08-21T12:40:56.579014Z",
     "iopub.status.idle": "2021-08-21T12:41:27.214217Z",
     "shell.execute_reply": "2021-08-21T12:41:27.213849Z",
     "shell.execute_reply.started": "2021-08-21T12:40:56.579098Z"
    },
    "tags": []
   },
   "outputs": [
    {
     "data": {
      "application/vnd.jupyter.widget-view+json": {
       "model_id": "112eb45dcdea4c0fa6077b063d28b210",
       "version_major": 2,
       "version_minor": 0
      },
      "text/plain": [
       "  0%|          | 0/2000 [00:00<?, ?it/s]"
      ]
     },
     "metadata": {},
     "output_type": "display_data"
    },
    {
     "name": "stdout",
     "output_type": "stream",
     "text": [
      "Training: early stopped.\n",
      "Model saved in './saved_modes/grb-cora/gcn_at/final_model.pt'.\n"
     ]
    }
   ],
   "source": [
    "trainer.train(model=model, \n",
    "              n_epoch=2000,\n",
    "              eval_every=1,\n",
    "              save_after=0,\n",
    "              save_dir=save_dir,\n",
    "              save_name=save_name,\n",
    "              train_mode=train_mode,\n",
    "              verbose=False)"
   ]
  },
  {
   "cell_type": "code",
   "execution_count": 9,
   "id": "49d392d9-69ee-44f3-b023-10eebc5bd9eb",
   "metadata": {
    "execution": {
     "iopub.execute_input": "2021-08-21T12:41:27.215149Z",
     "iopub.status.busy": "2021-08-21T12:41:27.215016Z",
     "iopub.status.idle": "2021-08-21T12:41:27.221716Z",
     "shell.execute_reply": "2021-08-21T12:41:27.221445Z",
     "shell.execute_reply.started": "2021-08-21T12:41:27.215132Z"
    },
    "tags": []
   },
   "outputs": [
    {
     "name": "stdout",
     "output_type": "stream",
     "text": [
      "Test score: 0.8383\n"
     ]
    }
   ],
   "source": [
    "# by trainer\n",
    "test_score = trainer.evaluate(model, dataset.test_mask)\n",
    "print(\"Test score: {:.4f}\".format(test_score))"
   ]
  }
 ],
 "metadata": {
  "kernelspec": {
   "display_name": "Python 3",
   "language": "python",
   "name": "python3"
  },
  "language_info": {
   "codemirror_mode": {
    "name": "ipython",
    "version": 3
   },
   "file_extension": ".py",
   "mimetype": "text/x-python",
   "name": "python",
   "nbconvert_exporter": "python",
   "pygments_lexer": "ipython3",
   "version": "3.8.11"
  }
 },
 "nbformat": 4,
 "nbformat_minor": 5
}
