{
 "cells": [
  {
   "cell_type": "markdown",
   "id": "b4491ca4-c525-4e2c-a845-fb13b5a98ea8",
   "metadata": {},
   "source": [
    "# 1. Example of training GNNs using AutoML"
   ]
  },
  {
   "cell_type": "markdown",
   "id": "edb6a2da-e8c9-4ba0-9d74-ee335121ed20",
   "metadata": {},
   "source": [
    "GRB provides AutoML approach for training GNNs based on [optuna](https://github.com/optuna/optuna)."
   ]
  },
  {
   "cell_type": "code",
   "execution_count": 7,
   "id": "09dff447-fd1b-4a7e-9ff9-a0ec246684fa",
   "metadata": {
    "execution": {
     "iopub.execute_input": "2021-08-18T05:42:47.378680Z",
     "iopub.status.busy": "2021-08-18T05:42:47.378456Z",
     "iopub.status.idle": "2021-08-18T05:42:47.382100Z",
     "shell.execute_reply": "2021-08-18T05:42:47.381555Z",
     "shell.execute_reply.started": "2021-08-18T05:42:47.378653Z"
    },
    "tags": []
   },
   "outputs": [],
   "source": [
    "import os\n",
    "import torch\n",
    "import optuna\n",
    "\n",
    "import grb.utils as utils\n",
    "from grb.dataset import Dataset\n",
    "from grb.trainer.trainer import AutoTrainer"
   ]
  },
  {
   "cell_type": "markdown",
   "id": "533efd66-0ead-4bfb-abb1-09f3414d2427",
   "metadata": {
    "execution": {
     "iopub.execute_input": "2021-08-11T11:59:56.178453Z",
     "iopub.status.busy": "2021-08-11T11:59:56.178207Z",
     "iopub.status.idle": "2021-08-11T11:59:56.181058Z",
     "shell.execute_reply": "2021-08-11T11:59:56.180559Z",
     "shell.execute_reply.started": "2021-08-11T11:59:56.178427Z"
    },
    "tags": []
   },
   "source": [
    "## 1.1. Load Dataset"
   ]
  },
  {
   "cell_type": "markdown",
   "id": "f4a445e8-832e-43f1-991b-485801e2d392",
   "metadata": {},
   "source": [
    "GRB datasets are named by the prefix *grb-*. There are four *mode* ('easy', 'medium', 'hard', 'full') for test set, representing different average degrees of test nodes, thus different difficulty for attacking them. The node features are processed by *arctan* normalization (first standardization then arctan function), which makes node features fall in the same scale."
   ]
  },
  {
   "cell_type": "code",
   "execution_count": 9,
   "id": "7bd89f96-86c9-4bbf-84d6-b4430245144f",
   "metadata": {
    "execution": {
     "iopub.execute_input": "2021-08-18T05:42:56.583740Z",
     "iopub.status.busy": "2021-08-18T05:42:56.583508Z",
     "iopub.status.idle": "2021-08-18T05:42:56.620554Z",
     "shell.execute_reply": "2021-08-18T05:42:56.620262Z",
     "shell.execute_reply.started": "2021-08-18T05:42:56.583717Z"
    },
    "tags": []
   },
   "outputs": [
    {
     "name": "stdout",
     "output_type": "stream",
     "text": [
      "Dataset 'grb-cora' loaded.\n",
      "    Number of nodes: 2680\n",
      "    Number of edges: 5148\n",
      "    Number of features: 302\n",
      "    Number of classes: 7\n",
      "    Number of train samples: 1608\n",
      "    Number of val samples: 268\n",
      "    Number of test samples: 804\n",
      "    Dataset mode: full\n",
      "    Feature range: [-0.9406, 0.9430]\n"
     ]
    }
   ],
   "source": [
    "from grb.dataset import Dataset\n",
    "\n",
    "dataset_name = 'grb-cora'\n",
    "dataset = Dataset(name=dataset_name, \n",
    "                  data_dir=\"../../data/\",\n",
    "                  mode='full',\n",
    "                  feat_norm='arctan')"
   ]
  },
  {
   "cell_type": "markdown",
   "id": "d531cb03-bd4e-4938-acf5-f94f50ceb020",
   "metadata": {},
   "source": [
    "## 1.2. AutoML for training GNNs"
   ]
  },
  {
   "cell_type": "markdown",
   "id": "0ff22bd3-62fc-47ba-b9bd-fdb02e836f66",
   "metadata": {},
   "source": [
    "### 1.2.1. Define parameter search function."
   ]
  },
  {
   "cell_type": "code",
   "execution_count": 3,
   "id": "a7b94b36-4e4c-4427-975e-1662cb807313",
   "metadata": {
    "execution": {
     "iopub.execute_input": "2021-08-17T15:58:35.267168Z",
     "iopub.status.busy": "2021-08-17T15:58:35.267076Z",
     "iopub.status.idle": "2021-08-17T15:58:35.270148Z",
     "shell.execute_reply": "2021-08-17T15:58:35.269788Z",
     "shell.execute_reply.started": "2021-08-17T15:58:35.267156Z"
    },
    "tags": []
   },
   "outputs": [],
   "source": [
    "def params_search(trial):\n",
    "    model_params = {\n",
    "        \"hidden_features\": trial.suggest_categorical(\"hidden_features\", \n",
    "                                                     [32, 64, 128, 256]),\n",
    "        \"n_layers\": trial.suggest_categorical(\"n_layers\", [2, 3, 4, 5]),\n",
    "        \"dropout\": trial.suggest_categorical(\"dropout\", [0.5, 0.6, 0.7, 0.8]),\n",
    "    }\n",
    "    other_params = {\n",
    "        \"lr\": trial.suggest_categorical(\"lr\", [1e-2, 1e-3, 5e-3, 1e-4]),\n",
    "        \"n_epoch\": 2000,\n",
    "        \"early_stop\": True, \n",
    "        \"early_stop_patience\": 500,\n",
    "        \"train_mode\": \"inductive\",\n",
    "    }\n",
    "    \n",
    "    return model_params, other_params"
   ]
  },
  {
   "cell_type": "markdown",
   "id": "a3a83043-3da0-49c2-b60b-df539a169f3a",
   "metadata": {},
   "source": [
    "### 1.2.2. Build AutoTrainer"
   ]
  },
  {
   "cell_type": "markdown",
   "id": "66ad09d1-845d-4553-8301-e4484f455cd7",
   "metadata": {},
   "source": [
    "Example of using AutoTrainer to train GCN."
   ]
  },
  {
   "cell_type": "code",
   "execution_count": 4,
   "id": "4816efe5-829e-4e48-82cc-6861673390a1",
   "metadata": {
    "execution": {
     "iopub.execute_input": "2021-08-17T15:58:35.270593Z",
     "iopub.status.busy": "2021-08-17T15:58:35.270513Z",
     "iopub.status.idle": "2021-08-17T15:58:35.274105Z",
     "shell.execute_reply": "2021-08-17T15:58:35.273746Z",
     "shell.execute_reply.started": "2021-08-17T15:58:35.270583Z"
    },
    "tags": []
   },
   "outputs": [],
   "source": [
    "from grb.model.torch import GCN\n",
    "from grb.evaluator import metric\n",
    "\n",
    "autotrainer = AutoTrainer(dataset=dataset, \n",
    "                          model_class=GCN,\n",
    "                          eval_metric=metric.eval_acc,\n",
    "                          params_search=params_search,\n",
    "                          n_trials=10,\n",
    "                          n_jobs=1,\n",
    "                          seed=42,\n",
    "                          device=\"cuda:0\")"
   ]
  },
  {
   "cell_type": "code",
   "execution_count": 5,
   "id": "4f40fca5-11bb-4fed-bacb-abf31452e240",
   "metadata": {
    "execution": {
     "iopub.execute_input": "2021-08-17T15:58:35.274661Z",
     "iopub.status.busy": "2021-08-17T15:58:35.274502Z",
     "iopub.status.idle": "2021-08-17T15:59:53.816970Z",
     "shell.execute_reply": "2021-08-17T15:59:53.816658Z",
     "shell.execute_reply.started": "2021-08-17T15:58:35.274651Z"
    },
    "tags": []
   },
   "outputs": [
    {
     "name": "stderr",
     "output_type": "stream",
     "text": [
      "\u001b[32m[I 2021-08-17 23:58:35,275]\u001b[0m A new study created in memory with name: no-name-41f50226-ab24-4def-a4e4-f53db014b6cd\u001b[0m\n"
     ]
    },
    {
     "name": "stdout",
     "output_type": "stream",
     "text": [
      "Use default optimizer Adam.\n",
      "Use default cross-entropy loss.\n"
     ]
    },
    {
     "data": {
      "application/vnd.jupyter.widget-view+json": {
       "model_id": "3b87923d16e84db88031676e951411df",
       "version_major": 2,
       "version_minor": 0
      },
      "text/plain": [
       "  0%|          | 0/2000 [00:00<?, ?it/s]"
      ]
     },
     "metadata": {},
     "output_type": "display_data"
    },
    {
     "name": "stderr",
     "output_type": "stream",
     "text": [
      "\u001b[32m[I 2021-08-17 23:58:44,565]\u001b[0m Trial 0 finished with value: 0.8022387623786926 and parameters: {'hidden_features': 32, 'n_layers': 2, 'dropout': 0.7, 'lr': 0.0001}. Best is trial 0 with value: 0.8022387623786926.\u001b[0m\n"
     ]
    },
    {
     "name": "stdout",
     "output_type": "stream",
     "text": [
      "Training finished. Best validation score: 0.8022\n",
      "Use default optimizer Adam.\n",
      "Use default cross-entropy loss.\n"
     ]
    },
    {
     "data": {
      "application/vnd.jupyter.widget-view+json": {
       "model_id": "9b9896443bfb40e1a922b715cf709149",
       "version_major": 2,
       "version_minor": 0
      },
      "text/plain": [
       "  0%|          | 0/2000 [00:00<?, ?it/s]"
      ]
     },
     "metadata": {},
     "output_type": "display_data"
    },
    {
     "name": "stderr",
     "output_type": "stream",
     "text": [
      "\u001b[32m[I 2021-08-17 23:58:55,745]\u001b[0m Trial 1 finished with value: 0.7574626803398132 and parameters: {'hidden_features': 32, 'n_layers': 5, 'dropout': 0.7, 'lr': 0.01}. Best is trial 0 with value: 0.8022387623786926.\u001b[0m\n"
     ]
    },
    {
     "name": "stdout",
     "output_type": "stream",
     "text": [
      "Training early stopped. Best validation score: 0.7575\n",
      "Use default optimizer Adam.\n",
      "Use default cross-entropy loss.\n"
     ]
    },
    {
     "data": {
      "application/vnd.jupyter.widget-view+json": {
       "model_id": "3be993585f5c4353abce10f3ab3da183",
       "version_major": 2,
       "version_minor": 0
      },
      "text/plain": [
       "  0%|          | 0/2000 [00:00<?, ?it/s]"
      ]
     },
     "metadata": {},
     "output_type": "display_data"
    },
    {
     "name": "stderr",
     "output_type": "stream",
     "text": [
      "\u001b[32m[I 2021-08-17 23:59:09,055]\u001b[0m Trial 2 finished with value: 0.7686566710472107 and parameters: {'hidden_features': 32, 'n_layers': 4, 'dropout': 0.5, 'lr': 0.0001}. Best is trial 0 with value: 0.8022387623786926.\u001b[0m\n"
     ]
    },
    {
     "name": "stdout",
     "output_type": "stream",
     "text": [
      "Training finished. Best validation score: 0.7687\n",
      "Use default optimizer Adam.\n",
      "Use default cross-entropy loss.\n"
     ]
    },
    {
     "data": {
      "application/vnd.jupyter.widget-view+json": {
       "model_id": "9f1ba03d58bd4e3185be67a6cb053205",
       "version_major": 2,
       "version_minor": 0
      },
      "text/plain": [
       "  0%|          | 0/2000 [00:00<?, ?it/s]"
      ]
     },
     "metadata": {},
     "output_type": "display_data"
    },
    {
     "name": "stderr",
     "output_type": "stream",
     "text": [
      "\u001b[32m[I 2021-08-17 23:59:21,431]\u001b[0m Trial 3 finished with value: 0.8208954930305481 and parameters: {'hidden_features': 128, 'n_layers': 4, 'dropout': 0.6, 'lr': 0.0001}. Best is trial 3 with value: 0.8208954930305481.\u001b[0m\n"
     ]
    },
    {
     "name": "stdout",
     "output_type": "stream",
     "text": [
      "Training early stopped. Best validation score: 0.8209\n",
      "Use default optimizer Adam.\n",
      "Use default cross-entropy loss.\n"
     ]
    },
    {
     "data": {
      "application/vnd.jupyter.widget-view+json": {
       "model_id": "1c7eccf108df4071a17ec6664368bf8e",
       "version_major": 2,
       "version_minor": 0
      },
      "text/plain": [
       "  0%|          | 0/2000 [00:00<?, ?it/s]"
      ]
     },
     "metadata": {},
     "output_type": "display_data"
    },
    {
     "name": "stderr",
     "output_type": "stream",
     "text": [
      "\u001b[32m[I 2021-08-17 23:59:28,096]\u001b[0m Trial 4 finished with value: 0.8283581733703613 and parameters: {'hidden_features': 64, 'n_layers': 3, 'dropout': 0.6, 'lr': 0.005}. Best is trial 4 with value: 0.8283581733703613.\u001b[0m\n"
     ]
    },
    {
     "name": "stdout",
     "output_type": "stream",
     "text": [
      "Training early stopped. Best validation score: 0.8284\n",
      "Use default optimizer Adam.\n",
      "Use default cross-entropy loss.\n"
     ]
    },
    {
     "data": {
      "application/vnd.jupyter.widget-view+json": {
       "model_id": "094aad455c7b465da3dc5d9588f7ce28",
       "version_major": 2,
       "version_minor": 0
      },
      "text/plain": [
       "  0%|          | 0/2000 [00:00<?, ?it/s]"
      ]
     },
     "metadata": {},
     "output_type": "display_data"
    },
    {
     "name": "stderr",
     "output_type": "stream",
     "text": [
      "\u001b[32m[I 2021-08-17 23:59:32,525]\u001b[0m Trial 5 finished with value: 0.8171641826629639 and parameters: {'hidden_features': 256, 'n_layers': 5, 'dropout': 0.5, 'lr': 0.005}. Best is trial 4 with value: 0.8283581733703613.\u001b[0m\n"
     ]
    },
    {
     "name": "stdout",
     "output_type": "stream",
     "text": [
      "Training early stopped. Best validation score: 0.8172\n",
      "Use default optimizer Adam.\n",
      "Use default cross-entropy loss.\n"
     ]
    },
    {
     "data": {
      "application/vnd.jupyter.widget-view+json": {
       "model_id": "db71879d0ebc4ca898caa31a802b870a",
       "version_major": 2,
       "version_minor": 0
      },
      "text/plain": [
       "  0%|          | 0/2000 [00:00<?, ?it/s]"
      ]
     },
     "metadata": {},
     "output_type": "display_data"
    },
    {
     "name": "stderr",
     "output_type": "stream",
     "text": [
      "\u001b[32m[I 2021-08-17 23:59:35,214]\u001b[0m Trial 6 finished with value: 0.8171641826629639 and parameters: {'hidden_features': 128, 'n_layers': 3, 'dropout': 0.8, 'lr': 0.01}. Best is trial 4 with value: 0.8283581733703613.\u001b[0m\n"
     ]
    },
    {
     "name": "stdout",
     "output_type": "stream",
     "text": [
      "Training early stopped. Best validation score: 0.8172\n",
      "Use default optimizer Adam.\n",
      "Use default cross-entropy loss.\n"
     ]
    },
    {
     "data": {
      "application/vnd.jupyter.widget-view+json": {
       "model_id": "205d8116332444a1bd30de810617e91d",
       "version_major": 2,
       "version_minor": 0
      },
      "text/plain": [
       "  0%|          | 0/2000 [00:00<?, ?it/s]"
      ]
     },
     "metadata": {},
     "output_type": "display_data"
    },
    {
     "name": "stderr",
     "output_type": "stream",
     "text": [
      "\u001b[32m[I 2021-08-17 23:59:46,231]\u001b[0m Trial 7 finished with value: 0.6194029450416565 and parameters: {'hidden_features': 32, 'n_layers': 5, 'dropout': 0.8, 'lr': 0.001}. Best is trial 4 with value: 0.8283581733703613.\u001b[0m\n"
     ]
    },
    {
     "name": "stdout",
     "output_type": "stream",
     "text": [
      "Training early stopped. Best validation score: 0.6194\n",
      "Use default optimizer Adam.\n",
      "Use default cross-entropy loss.\n"
     ]
    },
    {
     "data": {
      "application/vnd.jupyter.widget-view+json": {
       "model_id": "505811b317374b6d9d76224e97cd79fb",
       "version_major": 2,
       "version_minor": 0
      },
      "text/plain": [
       "  0%|          | 0/2000 [00:00<?, ?it/s]"
      ]
     },
     "metadata": {},
     "output_type": "display_data"
    },
    {
     "name": "stderr",
     "output_type": "stream",
     "text": [
      "\u001b[32m[I 2021-08-17 23:59:49,686]\u001b[0m Trial 8 finished with value: 0.8283581733703613 and parameters: {'hidden_features': 128, 'n_layers': 4, 'dropout': 0.6, 'lr': 0.005}. Best is trial 4 with value: 0.8283581733703613.\u001b[0m\n"
     ]
    },
    {
     "name": "stdout",
     "output_type": "stream",
     "text": [
      "Training early stopped. Best validation score: 0.8284\n",
      "Use default optimizer Adam.\n",
      "Use default cross-entropy loss.\n"
     ]
    },
    {
     "data": {
      "application/vnd.jupyter.widget-view+json": {
       "model_id": "f14920b6a9b84e9d8e2b437b0e995b64",
       "version_major": 2,
       "version_minor": 0
      },
      "text/plain": [
       "  0%|          | 0/2000 [00:00<?, ?it/s]"
      ]
     },
     "metadata": {},
     "output_type": "display_data"
    },
    {
     "name": "stderr",
     "output_type": "stream",
     "text": [
      "\u001b[32m[I 2021-08-17 23:59:53,814]\u001b[0m Trial 9 finished with value: 0.8358208537101746 and parameters: {'hidden_features': 64, 'n_layers': 2, 'dropout': 0.8, 'lr': 0.001}. Best is trial 9 with value: 0.8358208537101746.\u001b[0m\n"
     ]
    },
    {
     "name": "stdout",
     "output_type": "stream",
     "text": [
      "Training early stopped. Best validation score: 0.8358\n",
      "{'hidden_features': 64, 'n_layers': 2, 'dropout': 0.8, 'lr': 0.001}\n"
     ]
    }
   ],
   "source": [
    "best_score, best_params, best_score_list = autotrainer.run()"
   ]
  },
  {
   "cell_type": "code",
   "execution_count": 6,
   "id": "7305d842-0025-4d58-9c80-9c676819a1a8",
   "metadata": {
    "execution": {
     "iopub.execute_input": "2021-08-17T15:59:53.817574Z",
     "iopub.status.busy": "2021-08-17T15:59:53.817487Z",
     "iopub.status.idle": "2021-08-17T15:59:53.820003Z",
     "shell.execute_reply": "2021-08-17T15:59:53.819732Z",
     "shell.execute_reply.started": "2021-08-17T15:59:53.817562Z"
    },
    "tags": []
   },
   "outputs": [
    {
     "name": "stdout",
     "output_type": "stream",
     "text": [
      "Best parameters:  {'model_params': {'hidden_features': 64, 'n_layers': 2, 'dropout': 0.8}, 'other_params': {'lr': 0.001, 'n_epoch': 2000, 'early_stop': True, 'early_stop_patience': 500, 'train_mode': 'inductive'}}\n",
      "Best validation score: 0.8358\n"
     ]
    }
   ],
   "source": [
    "print(\"Best validation score: {:.4f}\".format(best_score))\n",
    "print(\"Best parameters: \", best_params)"
   ]
  }
 ],
 "metadata": {
  "kernelspec": {
   "display_name": "Python 3",
   "language": "python",
   "name": "python3"
  },
  "language_info": {
   "codemirror_mode": {
    "name": "ipython",
    "version": 3
   },
   "file_extension": ".py",
   "mimetype": "text/x-python",
   "name": "python",
   "nbconvert_exporter": "python",
   "pygments_lexer": "ipython3",
   "version": "3.8.11"
  }
 },
 "nbformat": 4,
 "nbformat_minor": 5
}
