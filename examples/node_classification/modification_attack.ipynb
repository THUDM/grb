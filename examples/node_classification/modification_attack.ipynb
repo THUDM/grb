{
 "cells": [
  {
   "cell_type": "markdown",
   "id": "d329872c-6cd1-4283-987e-3598ec53156c",
   "metadata": {},
   "source": [
    "# 1. Example of graph modification attack using GRB"
   ]
  },
  {
   "cell_type": "markdown",
   "id": "5a7a9bfa-25e8-4a35-b54e-9122b72b496b",
   "metadata": {},
   "source": [
    "GRB provides a unified evaluation scenario for fair comparisons between attacks and defenses. The scenario is **Black-box, Evasion, Inductive, Modification**. Take the case of a citation-graph classification system for example. The platform collects labeled data from previous papers and trains a GNN model. When a batch of new papers are submitted, it updates the graph and uses the trained model to predict labels for them.\n",
    "\n",
    "* **Black-box**: Both the attacker and the defender have no knowledge about the applied methods each other uses.\n",
    "* **Evasion**: GNNs are already trained in trusted data (e.g. authenticated users), which are untouched by the attackers but might have natural noises. Thus, attacks will only happen during the inference phase.\n",
    "* **Inductive**: GNNs are used to classify unseen data (e.g. new users), i.e. validation or test data are unseen during training, which requires GNNs to generalize to out of distribution data.\n",
    "* **Modification**: The attackers can perturb existing edges or modify node features within constraints. "
   ]
  },
  {
   "cell_type": "code",
   "execution_count": 2,
   "id": "d4ad2f21-db6a-48db-9e0e-cd9bd97cd3ee",
   "metadata": {
    "execution": {
     "iopub.execute_input": "2021-09-26T13:24:46.644953Z",
     "iopub.status.busy": "2021-09-26T13:24:46.644709Z",
     "iopub.status.idle": "2021-09-26T13:24:46.648193Z",
     "shell.execute_reply": "2021-09-26T13:24:46.647690Z",
     "shell.execute_reply.started": "2021-09-26T13:24:46.644929Z"
    },
    "tags": []
   },
   "outputs": [],
   "source": [
    "import os\n",
    "import torch\n",
    "import numpy as np\n",
    "import scipy.sparse as sp\n",
    "import grb.utils as utils"
   ]
  },
  {
   "cell_type": "markdown",
   "id": "16259154-d2be-41d8-a3e3-4fce972cd645",
   "metadata": {},
   "source": [
    "## 1.1. Load Dataset"
   ]
  },
  {
   "cell_type": "markdown",
   "id": "dd5e9ab6-7331-4188-85a4-f728cc8e3fcb",
   "metadata": {},
   "source": [
    "GRB datasets are named by the prefix *grb-*. There are four *mode* ('easy', 'medium', 'hard', 'full') for test set, representing different average degrees of test nodes, thus different difficulty for attacking them. The node features are processed by *arctan* normalization (first standardization then arctan function), which makes node features fall in the same scale."
   ]
  },
  {
   "cell_type": "code",
   "execution_count": 4,
   "id": "eaa497ce-e3ec-44e8-819f-2bbb8c310efb",
   "metadata": {
    "execution": {
     "iopub.execute_input": "2021-09-26T13:25:06.511128Z",
     "iopub.status.busy": "2021-09-26T13:25:06.510902Z",
     "iopub.status.idle": "2021-09-26T13:25:06.581862Z",
     "shell.execute_reply": "2021-09-26T13:25:06.581328Z",
     "shell.execute_reply.started": "2021-09-26T13:25:06.511105Z"
    },
    "tags": []
   },
   "outputs": [
    {
     "name": "stdout",
     "output_type": "stream",
     "text": [
      "Dataset 'grb-cora' loaded.\n",
      "    Number of nodes: 2680\n",
      "    Number of edges: 5148\n",
      "    Number of features: 302\n",
      "    Number of classes: 7\n",
      "    Number of train samples: 1608\n",
      "    Number of val samples: 268\n",
      "    Number of test samples: 804\n",
      "    Dataset mode: full\n",
      "    Feature range: [-0.9406, 0.9430]\n"
     ]
    }
   ],
   "source": [
    "from grb.dataset import Dataset\n",
    "\n",
    "dataset_name = 'grb-cora'\n",
    "dataset = Dataset(name=dataset_name, \n",
    "                  data_dir=\"../../data/\",\n",
    "                  mode='full',\n",
    "                  feat_norm='arctan')"
   ]
  },
  {
   "cell_type": "code",
   "execution_count": 5,
   "id": "03b3ec17-d04d-48e3-989b-c7002a796c2b",
   "metadata": {
    "execution": {
     "iopub.execute_input": "2021-09-26T13:25:09.097369Z",
     "iopub.status.busy": "2021-09-26T13:25:09.097124Z",
     "iopub.status.idle": "2021-09-26T13:25:09.100825Z",
     "shell.execute_reply": "2021-09-26T13:25:09.100332Z",
     "shell.execute_reply.started": "2021-09-26T13:25:09.097344Z"
    },
    "tags": []
   },
   "outputs": [],
   "source": [
    "device = \"cuda:0\"\n",
    "adj = dataset.adj\n",
    "features = dataset.features\n",
    "labels = dataset.labels\n",
    "num_features = dataset.num_features\n",
    "num_classes = dataset.num_classes\n",
    "test_mask = dataset.test_mask"
   ]
  },
  {
   "cell_type": "markdown",
   "id": "c4eda9c7-ebb0-43d5-bbe9-7fef01f4d229",
   "metadata": {
    "tags": []
   },
   "source": [
    "### 1.1.1 Train surrogate model"
   ]
  },
  {
   "cell_type": "code",
   "execution_count": 6,
   "id": "4ea15f60-6a1b-4f12-973c-b97dd2e73113",
   "metadata": {
    "execution": {
     "iopub.execute_input": "2021-09-26T13:25:10.036102Z",
     "iopub.status.busy": "2021-09-26T13:25:10.035872Z",
     "iopub.status.idle": "2021-09-26T13:25:10.041861Z",
     "shell.execute_reply": "2021-09-26T13:25:10.041266Z",
     "shell.execute_reply.started": "2021-09-26T13:25:10.036079Z"
    },
    "tags": []
   },
   "outputs": [
    {
     "name": "stdout",
     "output_type": "stream",
     "text": [
      "GCN(\n",
      "  (layers): ModuleList(\n",
      "    (0): GCNConv(\n",
      "      (linear): Linear(in_features=302, out_features=64, bias=True)\n",
      "      (dropout): Dropout(p=0.5, inplace=False)\n",
      "    )\n",
      "    (1): GCNConv(\n",
      "      (linear): Linear(in_features=64, out_features=7, bias=True)\n",
      "    )\n",
      "  )\n",
      ")\n"
     ]
    }
   ],
   "source": [
    "from grb.model.torch import GCN\n",
    "from grb.utils.normalize import GCNAdjNorm\n",
    "\n",
    "model_name = \"gcn\"\n",
    "model_sur = GCN(in_features=dataset.num_features,\n",
    "                out_features=dataset.num_classes,\n",
    "                hidden_features=64, \n",
    "                n_layers=2,\n",
    "                adj_norm_func=GCNAdjNorm,\n",
    "                layer_norm=False,\n",
    "                residual=False,\n",
    "                dropout=0.5)\n",
    "print(model_sur)"
   ]
  },
  {
   "cell_type": "code",
   "execution_count": 33,
   "id": "6a2cbf7e-edd2-49a6-a852-9770a63a9aac",
   "metadata": {
    "execution": {
     "iopub.execute_input": "2021-09-26T13:29:24.474384Z",
     "iopub.status.busy": "2021-09-26T13:29:24.474140Z",
     "iopub.status.idle": "2021-09-26T13:29:24.477786Z",
     "shell.execute_reply": "2021-09-26T13:29:24.477281Z",
     "shell.execute_reply.started": "2021-09-26T13:29:24.474359Z"
    },
    "tags": []
   },
   "outputs": [],
   "source": [
    "save_dir = \"./saved_models/{}/{}\".format(dataset_name, model_name)\n",
    "save_name = \"model_sur.pt\"\n",
    "device = \"cuda:0\"\n",
    "feat_norm = None\n",
    "train_mode = \"inductive\"  # \"transductive\""
   ]
  },
  {
   "cell_type": "code",
   "execution_count": 34,
   "id": "e9d14245-1dbd-4710-a4a6-660ac624b1f4",
   "metadata": {
    "execution": {
     "iopub.execute_input": "2021-09-26T13:29:24.618707Z",
     "iopub.status.busy": "2021-09-26T13:29:24.618531Z",
     "iopub.status.idle": "2021-09-26T13:29:24.632147Z",
     "shell.execute_reply": "2021-09-26T13:29:24.631758Z",
     "shell.execute_reply.started": "2021-09-26T13:29:24.618686Z"
    },
    "tags": []
   },
   "outputs": [],
   "source": [
    "from grb.trainer.trainer import Trainer\n",
    "\n",
    "trainer = Trainer(dataset=dataset, \n",
    "                  optimizer=torch.optim.Adam(model_sur.parameters(), lr=0.01),\n",
    "                  loss=torch.nn.functional.cross_entropy,\n",
    "                  lr_scheduler=False,\n",
    "                  early_stop=True,\n",
    "                  early_stop_patience=500,\n",
    "                  feat_norm=feat_norm,\n",
    "                  device=device)"
   ]
  },
  {
   "cell_type": "code",
   "execution_count": 35,
   "id": "4492b8f7-ceb4-4e66-b3de-b2e67c652a3f",
   "metadata": {
    "execution": {
     "iopub.execute_input": "2021-09-26T13:29:24.794468Z",
     "iopub.status.busy": "2021-09-26T13:29:24.794337Z",
     "iopub.status.idle": "2021-09-26T13:29:26.661339Z",
     "shell.execute_reply": "2021-09-26T13:29:26.660869Z",
     "shell.execute_reply.started": "2021-09-26T13:29:24.794451Z"
    },
    "tags": []
   },
   "outputs": [
    {
     "data": {
      "application/vnd.jupyter.widget-view+json": {
       "model_id": "c83d8f9d3c8a4bc1be501c5292c9b417",
       "version_major": 2,
       "version_minor": 0
      },
      "text/plain": [
       "  0%|          | 0/2000 [00:00<?, ?it/s]"
      ]
     },
     "metadata": {},
     "output_type": "display_data"
    },
    {
     "name": "stdout",
     "output_type": "stream",
     "text": [
      "Training early stopped. Best validation score: 0.8433\n",
      "Training runtime: 1.8627.\n"
     ]
    }
   ],
   "source": [
    "trainer.train(model=model_sur, \n",
    "              n_epoch=2000,\n",
    "              eval_every=1,\n",
    "              save_after=0,\n",
    "              save_dir=save_dir,\n",
    "              save_name=save_name,\n",
    "              train_mode=train_mode,\n",
    "              verbose=False)"
   ]
  },
  {
   "cell_type": "code",
   "execution_count": 36,
   "id": "2ba9aad9-c9b8-4d6b-9474-a995c3345c9f",
   "metadata": {
    "execution": {
     "iopub.execute_input": "2021-09-26T13:29:26.873706Z",
     "iopub.status.busy": "2021-09-26T13:29:26.873565Z",
     "iopub.status.idle": "2021-09-26T13:29:26.882029Z",
     "shell.execute_reply": "2021-09-26T13:29:26.881534Z",
     "shell.execute_reply.started": "2021-09-26T13:29:26.873687Z"
    },
    "tags": []
   },
   "outputs": [
    {
     "name": "stdout",
     "output_type": "stream",
     "text": [
      "Test score of surrogate model: 0.8197\n"
     ]
    }
   ],
   "source": [
    "# by trainer\n",
    "test_score = trainer.evaluate(model_sur, dataset.test_mask)\n",
    "print(\"Test score of surrogate model: {:.4f}\".format(test_score))"
   ]
  },
  {
   "cell_type": "markdown",
   "id": "25974816-db7c-4892-9254-3287a3a2f269",
   "metadata": {
    "tags": []
   },
   "source": [
    "## 1.2. Graph Modification Attack"
   ]
  },
  {
   "cell_type": "markdown",
   "id": "b1ecdd26-ba71-4e22-b2bc-a025e54b15b1",
   "metadata": {
    "tags": []
   },
   "source": [
    "### 1.2.1. DICE (Delete Internally Connect Externally)"
   ]
  },
  {
   "cell_type": "code",
   "execution_count": 11,
   "id": "22d814ce-a282-4914-8663-8ca27106aebb",
   "metadata": {
    "execution": {
     "iopub.execute_input": "2021-09-26T13:26:01.492774Z",
     "iopub.status.busy": "2021-09-26T13:26:01.492528Z",
     "iopub.status.idle": "2021-09-26T13:26:01.535770Z",
     "shell.execute_reply": "2021-09-26T13:26:01.535249Z",
     "shell.execute_reply.started": "2021-09-26T13:26:01.492749Z"
    },
    "tags": []
   },
   "outputs": [],
   "source": [
    "from grb.attack.modification.dice import DICE"
   ]
  },
  {
   "cell_type": "code",
   "execution_count": 27,
   "id": "4d8b3151-85be-4f58-bd98-c2dc476594e3",
   "metadata": {
    "execution": {
     "iopub.execute_input": "2021-09-26T13:29:05.212264Z",
     "iopub.status.busy": "2021-09-26T13:29:05.212027Z",
     "iopub.status.idle": "2021-09-26T13:29:05.216105Z",
     "shell.execute_reply": "2021-09-26T13:29:05.215582Z",
     "shell.execute_reply.started": "2021-09-26T13:29:05.212239Z"
    },
    "tags": []
   },
   "outputs": [],
   "source": [
    "n_edge_test = adj[test_mask].getnnz()\n",
    "n_mod_ratio = 0.3\n",
    "n_edge_mod = int(n_edge_test * n_mod_ratio)\n",
    "ratio_delete = 0.6"
   ]
  },
  {
   "cell_type": "code",
   "execution_count": 28,
   "id": "dab81e58-ccc9-4799-b2a5-7119f38372a2",
   "metadata": {
    "execution": {
     "iopub.execute_input": "2021-09-26T13:29:06.449397Z",
     "iopub.status.busy": "2021-09-26T13:29:06.449154Z",
     "iopub.status.idle": "2021-09-26T13:29:06.452482Z",
     "shell.execute_reply": "2021-09-26T13:29:06.451910Z",
     "shell.execute_reply.started": "2021-09-26T13:29:06.449373Z"
    },
    "tags": []
   },
   "outputs": [],
   "source": [
    "attack = DICE(n_edge_mod, ratio_delete)"
   ]
  },
  {
   "cell_type": "code",
   "execution_count": 29,
   "id": "85a29abb-6feb-43f3-9beb-494d05da93ef",
   "metadata": {
    "execution": {
     "iopub.execute_input": "2021-09-26T13:29:06.622149Z",
     "iopub.status.busy": "2021-09-26T13:29:06.622009Z",
     "iopub.status.idle": "2021-09-26T13:29:06.681122Z",
     "shell.execute_reply": "2021-09-26T13:29:06.680751Z",
     "shell.execute_reply.started": "2021-09-26T13:29:06.622132Z"
    },
    "scrolled": true,
    "tags": []
   },
   "outputs": [
    {
     "name": "stdout",
     "output_type": "stream",
     "text": [
      "Delete internally......\n"
     ]
    },
    {
     "data": {
      "application/vnd.jupyter.widget-view+json": {
       "model_id": "72cf40f147bd4e81b64531982ede336b",
       "version_major": 2,
       "version_minor": 0
      },
      "text/plain": [
       "  0%|          | 0/2604 [00:00<?, ?it/s]"
      ]
     },
     "metadata": {},
     "output_type": "display_data"
    },
    {
     "name": "stdout",
     "output_type": "stream",
     "text": [
      "Connect externally......\n"
     ]
    },
    {
     "data": {
      "application/vnd.jupyter.widget-view+json": {
       "model_id": "4b06303841d94a54ad1e8e56f2e22ada",
       "version_major": 2,
       "version_minor": 0
      },
      "text/plain": [
       "  0%|          | 0/804 [00:00<?, ?it/s]"
      ]
     },
     "metadata": {},
     "output_type": "display_data"
    },
    {
     "name": "stdout",
     "output_type": "stream",
     "text": [
      "DICE attack finished. 468 edges were removed, 313 edges were connected.\n"
     ]
    }
   ],
   "source": [
    "adj_attack = attack.attack(adj, dataset.index_test, labels)"
   ]
  },
  {
   "cell_type": "markdown",
   "id": "4637e73f-0b63-4329-b480-68ce79ad6f8d",
   "metadata": {
    "tags": []
   },
   "source": [
    "### 1.2.2. FGA (Fast Gradient Attack)"
   ]
  },
  {
   "cell_type": "code",
   "execution_count": 15,
   "id": "9a0faffc-cab4-4a42-9cb7-6e229c7a4236",
   "metadata": {
    "execution": {
     "iopub.execute_input": "2021-09-26T13:27:14.661984Z",
     "iopub.status.busy": "2021-09-26T13:27:14.661755Z",
     "iopub.status.idle": "2021-09-26T13:27:14.665050Z",
     "shell.execute_reply": "2021-09-26T13:27:14.664495Z",
     "shell.execute_reply.started": "2021-09-26T13:27:14.661960Z"
    },
    "tags": []
   },
   "outputs": [],
   "source": [
    "from grb.attack.modification.fga import FGA"
   ]
  },
  {
   "cell_type": "code",
   "execution_count": 16,
   "id": "d0c27c0c-69f3-4397-8493-bcf77649321c",
   "metadata": {
    "execution": {
     "iopub.execute_input": "2021-09-26T13:27:14.961017Z",
     "iopub.status.busy": "2021-09-26T13:27:14.960864Z",
     "iopub.status.idle": "2021-09-26T13:27:14.963995Z",
     "shell.execute_reply": "2021-09-26T13:27:14.963620Z",
     "shell.execute_reply.started": "2021-09-26T13:27:14.961002Z"
    },
    "tags": []
   },
   "outputs": [],
   "source": [
    "n_edge_test = adj[test_mask].getnnz()\n",
    "n_mod_ratio = 0.1\n",
    "n_edge_mod = int(n_edge_test * n_mod_ratio)"
   ]
  },
  {
   "cell_type": "code",
   "execution_count": 12,
   "id": "688de888-a597-498c-a08a-4fd13807e3bd",
   "metadata": {
    "execution": {
     "iopub.execute_input": "2021-08-20T08:19:00.948752Z",
     "iopub.status.busy": "2021-08-20T08:19:00.948560Z",
     "iopub.status.idle": "2021-08-20T08:19:00.951355Z",
     "shell.execute_reply": "2021-08-20T08:19:00.950853Z",
     "shell.execute_reply.started": "2021-08-20T08:19:00.948728Z"
    },
    "tags": []
   },
   "outputs": [],
   "source": [
    "attack = FGA(n_edge_mod, device=device)"
   ]
  },
  {
   "cell_type": "code",
   "execution_count": 14,
   "id": "3896008d-5214-4612-9799-c8477bc89c15",
   "metadata": {
    "execution": {
     "iopub.execute_input": "2021-08-20T08:19:08.164760Z",
     "iopub.status.busy": "2021-08-20T08:19:08.164504Z",
     "iopub.status.idle": "2021-08-20T08:19:51.553651Z",
     "shell.execute_reply": "2021-08-20T08:19:51.553150Z",
     "shell.execute_reply.started": "2021-08-20T08:19:08.164734Z"
    },
    "tags": []
   },
   "outputs": [
    {
     "data": {
      "application/vnd.jupyter.widget-view+json": {
       "model_id": "2083462d4de04bf385a77963f7e183a4",
       "version_major": 2,
       "version_minor": 0
      },
      "text/plain": [
       "  0%|          | 0/2680 [00:00<?, ?it/s]"
      ]
     },
     "metadata": {},
     "output_type": "display_data"
    },
    {
     "name": "stdout",
     "output_type": "stream",
     "text": [
      "FGA attack finished. 261 edges were flipped.\n"
     ]
    }
   ],
   "source": [
    "adj_attack = attack.attack(model_sur, adj, features, dataset.index_test)"
   ]
  },
  {
   "cell_type": "markdown",
   "id": "4ba93d2d-f789-4437-9207-13e04a4e2d3e",
   "metadata": {
    "tags": []
   },
   "source": [
    "### 1.2.3. FLIP (Flipping)"
   ]
  },
  {
   "cell_type": "code",
   "execution_count": 17,
   "id": "e49be258-c26b-45fa-8887-f4cb2df9e3d3",
   "metadata": {
    "execution": {
     "iopub.execute_input": "2021-09-26T13:27:18.532941Z",
     "iopub.status.busy": "2021-09-26T13:27:18.532709Z",
     "iopub.status.idle": "2021-09-26T13:27:18.535979Z",
     "shell.execute_reply": "2021-09-26T13:27:18.535423Z",
     "shell.execute_reply.started": "2021-09-26T13:27:18.532916Z"
    },
    "tags": []
   },
   "outputs": [],
   "source": [
    "from grb.attack.modification.flip import FLIP"
   ]
  },
  {
   "cell_type": "code",
   "execution_count": 18,
   "id": "7d68f78d-e322-4d24-87db-cbbbff6287e3",
   "metadata": {
    "execution": {
     "iopub.execute_input": "2021-09-26T13:27:18.658849Z",
     "iopub.status.busy": "2021-09-26T13:27:18.658677Z",
     "iopub.status.idle": "2021-09-26T13:27:18.662096Z",
     "shell.execute_reply": "2021-09-26T13:27:18.661602Z",
     "shell.execute_reply.started": "2021-09-26T13:27:18.658828Z"
    },
    "tags": []
   },
   "outputs": [],
   "source": [
    "n_edge_test = adj[test_mask].getnnz()\n",
    "n_mod_ratio = 0.01\n",
    "n_edge_mod = int(n_edge_test * n_mod_ratio)"
   ]
  },
  {
   "cell_type": "code",
   "execution_count": 11,
   "id": "3c952fde-1bee-42e3-872b-4481c5871302",
   "metadata": {
    "execution": {
     "iopub.execute_input": "2021-08-22T16:16:54.694546Z",
     "iopub.status.busy": "2021-08-22T16:16:54.694303Z",
     "iopub.status.idle": "2021-08-22T16:16:54.697785Z",
     "shell.execute_reply": "2021-08-22T16:16:54.697244Z",
     "shell.execute_reply.started": "2021-08-22T16:16:54.694521Z"
    },
    "tags": []
   },
   "outputs": [],
   "source": [
    "# degree flipping\n",
    "attack = FLIP(n_edge_mod, flip_type=\"deg\", mode=\"descend\", device=device)"
   ]
  },
  {
   "cell_type": "code",
   "execution_count": 12,
   "id": "a905a83c-99fa-4c16-a130-0561900b1c35",
   "metadata": {
    "execution": {
     "iopub.execute_input": "2021-08-22T16:16:55.475834Z",
     "iopub.status.busy": "2021-08-22T16:16:55.475605Z",
     "iopub.status.idle": "2021-08-22T16:16:55.478961Z",
     "shell.execute_reply": "2021-08-22T16:16:55.478377Z",
     "shell.execute_reply.started": "2021-08-22T16:16:55.475810Z"
    },
    "tags": []
   },
   "outputs": [],
   "source": [
    "# betweenness flipping\n",
    "attack = FLIP(n_edge_mod, flip_type=\"bet\", mode=\"ascend\", device=device)"
   ]
  },
  {
   "cell_type": "code",
   "execution_count": 13,
   "id": "29375f21-88a7-4610-94eb-7f64e91825a1",
   "metadata": {
    "execution": {
     "iopub.execute_input": "2021-08-22T16:16:56.371153Z",
     "iopub.status.busy": "2021-08-22T16:16:56.370928Z",
     "iopub.status.idle": "2021-08-22T16:16:56.374301Z",
     "shell.execute_reply": "2021-08-22T16:16:56.373716Z",
     "shell.execute_reply.started": "2021-08-22T16:16:56.371128Z"
    }
   },
   "outputs": [],
   "source": [
    "# eigen flipping\n",
    "attack = FLIP(n_edge_mod, flip_type=\"eigen\", mode=\"descend\", device=device)"
   ]
  },
  {
   "cell_type": "code",
   "execution_count": null,
   "id": "68f25476-e049-4edd-98d6-b6897c77671b",
   "metadata": {
    "execution": {
     "iopub.execute_input": "2021-08-22T16:16:56.778271Z",
     "iopub.status.busy": "2021-08-22T16:16:56.778068Z"
    },
    "tags": []
   },
   "outputs": [],
   "source": [
    "adj_attack = attack.attack(adj, dataset.index_test)"
   ]
  },
  {
   "cell_type": "code",
   "execution_count": 6,
   "id": "9566cded-0159-46e4-aa97-9fe2ff76bbff",
   "metadata": {
    "execution": {
     "iopub.execute_input": "2021-08-20T08:13:15.750758Z",
     "iopub.status.busy": "2021-08-20T08:13:15.750519Z",
     "iopub.status.idle": "2021-08-20T08:13:15.757239Z",
     "shell.execute_reply": "2021-08-20T08:13:15.756672Z",
     "shell.execute_reply.started": "2021-08-20T08:13:15.750734Z"
    },
    "tags": []
   },
   "outputs": [],
   "source": [
    "from grb.attack.modification.rand import RAND"
   ]
  },
  {
   "cell_type": "code",
   "execution_count": 10,
   "id": "95cd478f-5930-4cc9-9095-edb8d951d860",
   "metadata": {
    "execution": {
     "iopub.execute_input": "2021-08-20T08:13:23.388011Z",
     "iopub.status.busy": "2021-08-20T08:13:23.387761Z",
     "iopub.status.idle": "2021-08-20T08:13:23.393004Z",
     "shell.execute_reply": "2021-08-20T08:13:23.392208Z",
     "shell.execute_reply.started": "2021-08-20T08:13:23.387985Z"
    },
    "tags": []
   },
   "outputs": [
    {
     "name": "stdout",
     "output_type": "stream",
     "text": [
      "260\n"
     ]
    }
   ],
   "source": [
    "n_edge_test = adj[test_mask].getnnz()\n",
    "n_mod_ratio = 0.1\n",
    "n_edge_mod = int(n_edge_test * n_mod_ratio)\n",
    "print(n_edge_mod)"
   ]
  },
  {
   "cell_type": "code",
   "execution_count": 11,
   "id": "53de84e1-ecef-4169-bf44-0d8134372bd8",
   "metadata": {
    "execution": {
     "iopub.execute_input": "2021-08-20T08:13:23.555028Z",
     "iopub.status.busy": "2021-08-20T08:13:23.554854Z",
     "iopub.status.idle": "2021-08-20T08:13:23.557790Z",
     "shell.execute_reply": "2021-08-20T08:13:23.557129Z",
     "shell.execute_reply.started": "2021-08-20T08:13:23.555007Z"
    },
    "tags": []
   },
   "outputs": [],
   "source": [
    "attack = RAND(n_edge_mod)"
   ]
  },
  {
   "cell_type": "code",
   "execution_count": 12,
   "id": "63f8dd6b-c62d-4ec7-8bba-ca5313eddaa0",
   "metadata": {
    "execution": {
     "iopub.execute_input": "2021-08-20T08:13:23.707042Z",
     "iopub.status.busy": "2021-08-20T08:13:23.706869Z",
     "iopub.status.idle": "2021-08-20T08:13:23.754102Z",
     "shell.execute_reply": "2021-08-20T08:13:23.753577Z",
     "shell.execute_reply.started": "2021-08-20T08:13:23.707021Z"
    },
    "tags": []
   },
   "outputs": [
    {
     "data": {
      "application/vnd.jupyter.widget-view+json": {
       "model_id": "31b3abb1b0f34dd2bca1436adc62e711",
       "version_major": 2,
       "version_minor": 0
      },
      "text/plain": [
       "  0%|          | 0/260 [00:00<?, ?it/s]"
      ]
     },
     "metadata": {},
     "output_type": "display_data"
    },
    {
     "name": "stdout",
     "output_type": "stream",
     "text": [
      "RAND attack finished. 260 edges were randomly flipped.\n"
     ]
    }
   ],
   "source": [
    "adj_attack = attack.attack(adj, dataset.index_test)"
   ]
  },
  {
   "cell_type": "markdown",
   "id": "382e115d-107e-4659-88e4-3613705de922",
   "metadata": {},
   "source": [
    "### 1.2.4. NEA (Network Embedding Attack)"
   ]
  },
  {
   "cell_type": "code",
   "execution_count": 19,
   "id": "70f039fd-6c14-447b-ae27-290177884f02",
   "metadata": {
    "execution": {
     "iopub.execute_input": "2021-09-26T13:27:27.885845Z",
     "iopub.status.busy": "2021-09-26T13:27:27.885601Z",
     "iopub.status.idle": "2021-09-26T13:27:27.888869Z",
     "shell.execute_reply": "2021-09-26T13:27:27.888306Z",
     "shell.execute_reply.started": "2021-09-26T13:27:27.885820Z"
    },
    "tags": []
   },
   "outputs": [],
   "source": [
    "from grb.attack.modification.nea import NEA"
   ]
  },
  {
   "cell_type": "code",
   "execution_count": 20,
   "id": "7d6bc6fc-b65d-4e81-afda-a8d850f4e3b6",
   "metadata": {
    "execution": {
     "iopub.execute_input": "2021-09-26T13:27:28.057143Z",
     "iopub.status.busy": "2021-09-26T13:27:28.056972Z",
     "iopub.status.idle": "2021-09-26T13:27:28.060213Z",
     "shell.execute_reply": "2021-09-26T13:27:28.059705Z",
     "shell.execute_reply.started": "2021-09-26T13:27:28.057121Z"
    },
    "tags": []
   },
   "outputs": [],
   "source": [
    "n_edge_test = adj[test_mask].getnnz()\n",
    "n_mod_ratio = 0.1\n",
    "n_edge_mod = int(n_edge_test * n_mod_ratio)"
   ]
  },
  {
   "cell_type": "code",
   "execution_count": 18,
   "id": "9d68c278-114f-44e5-9200-4856cc22f179",
   "metadata": {
    "execution": {
     "iopub.execute_input": "2021-08-20T09:20:43.324969Z",
     "iopub.status.busy": "2021-08-20T09:20:43.324721Z",
     "iopub.status.idle": "2021-08-20T09:20:43.328034Z",
     "shell.execute_reply": "2021-08-20T09:20:43.327466Z",
     "shell.execute_reply.started": "2021-08-20T09:20:43.324945Z"
    },
    "tags": []
   },
   "outputs": [],
   "source": [
    "attack = NEA(n_edge_mod)"
   ]
  },
  {
   "cell_type": "code",
   "execution_count": 19,
   "id": "2c8564b9-45cb-4e68-a232-cec46de1da61",
   "metadata": {
    "execution": {
     "iopub.execute_input": "2021-08-20T09:20:43.546727Z",
     "iopub.status.busy": "2021-08-20T09:20:43.546587Z",
     "iopub.status.idle": "2021-08-20T09:20:45.628799Z",
     "shell.execute_reply": "2021-08-20T09:20:45.628337Z",
     "shell.execute_reply.started": "2021-08-20T09:20:43.546711Z"
    },
    "tags": []
   },
   "outputs": [
    {
     "data": {
      "application/vnd.jupyter.widget-view+json": {
       "model_id": "4f06dddac74747b9ae8c939f1a172a7e",
       "version_major": 2,
       "version_minor": 0
      },
      "text/plain": [
       "  0%|          | 0/260 [00:00<?, ?it/s]"
      ]
     },
     "metadata": {},
     "output_type": "display_data"
    },
    {
     "name": "stdout",
     "output_type": "stream",
     "text": [
      "NEA attack finished. 260 edges were flipped.\n"
     ]
    }
   ],
   "source": [
    "adj_attack = attack.attack(adj, dataset.index_test)"
   ]
  },
  {
   "cell_type": "markdown",
   "id": "320f6b8f-9de8-4754-a0c6-176e7e9a3df7",
   "metadata": {
    "jp-MarkdownHeadingCollapsed": true,
    "tags": []
   },
   "source": [
    "### 1.2.5. STACK (STricted black-box AttaCK)"
   ]
  },
  {
   "cell_type": "code",
   "execution_count": 23,
   "id": "9584e321-9499-47f5-964b-2fa621de37a7",
   "metadata": {
    "execution": {
     "iopub.execute_input": "2021-09-26T13:27:45.724867Z",
     "iopub.status.busy": "2021-09-26T13:27:45.724611Z",
     "iopub.status.idle": "2021-09-26T13:27:45.728076Z",
     "shell.execute_reply": "2021-09-26T13:27:45.727479Z",
     "shell.execute_reply.started": "2021-09-26T13:27:45.724841Z"
    },
    "tags": []
   },
   "outputs": [],
   "source": [
    "from grb.attack.modification.stack import STACK"
   ]
  },
  {
   "cell_type": "code",
   "execution_count": 24,
   "id": "dcea7679-ebe5-4ceb-a3b8-1e6991af4a37",
   "metadata": {
    "execution": {
     "iopub.execute_input": "2021-09-26T13:27:46.013576Z",
     "iopub.status.busy": "2021-09-26T13:27:46.013401Z",
     "iopub.status.idle": "2021-09-26T13:27:46.017208Z",
     "shell.execute_reply": "2021-09-26T13:27:46.016715Z",
     "shell.execute_reply.started": "2021-09-26T13:27:46.013555Z"
    },
    "tags": []
   },
   "outputs": [],
   "source": [
    "n_edge_test = adj[test_mask].getnnz()\n",
    "n_mod_ratio = 0.01\n",
    "n_edge_mod = int(n_edge_test * n_mod_ratio)"
   ]
  },
  {
   "cell_type": "code",
   "execution_count": 25,
   "id": "a5b07669-7cae-4a98-a419-545b8d6de642",
   "metadata": {
    "execution": {
     "iopub.execute_input": "2021-09-26T13:27:46.430526Z",
     "iopub.status.busy": "2021-09-26T13:27:46.430271Z",
     "iopub.status.idle": "2021-09-26T13:27:46.433635Z",
     "shell.execute_reply": "2021-09-26T13:27:46.433058Z",
     "shell.execute_reply.started": "2021-09-26T13:27:46.430501Z"
    },
    "tags": []
   },
   "outputs": [],
   "source": [
    "attack = STACK(n_edge_mod)"
   ]
  },
  {
   "cell_type": "code",
   "execution_count": 26,
   "id": "7ac5c724-378f-4c6c-b041-3cf9ec2caabf",
   "metadata": {
    "execution": {
     "iopub.execute_input": "2021-09-26T13:27:47.465600Z",
     "iopub.status.busy": "2021-09-26T13:27:47.465337Z",
     "iopub.status.idle": "2021-09-26T13:27:48.522177Z",
     "shell.execute_reply": "2021-09-26T13:27:48.521741Z",
     "shell.execute_reply.started": "2021-09-26T13:27:47.465574Z"
    }
   },
   "outputs": [
    {
     "data": {
      "application/vnd.jupyter.widget-view+json": {
       "model_id": "4544eeca7a6e447b8a53eae057db9fc3",
       "version_major": 2,
       "version_minor": 0
      },
      "text/plain": [
       "  0%|          | 0/2604 [00:00<?, ?it/s]"
      ]
     },
     "metadata": {},
     "output_type": "display_data"
    },
    {
     "name": "stdout",
     "output_type": "stream",
     "text": [
      "STACK attack finished. 26 edges were flipped.\n"
     ]
    }
   ],
   "source": [
    "adj_attack = attack.attack(adj, dataset.index_test)"
   ]
  },
  {
   "cell_type": "markdown",
   "id": "b81fb2e4-e643-4237-9ff6-5270101224c8",
   "metadata": {},
   "source": [
    "## 1.3. Evaluation"
   ]
  },
  {
   "cell_type": "code",
   "execution_count": 38,
   "id": "3b1b7112-522f-420a-8d07-40a1c73170cf",
   "metadata": {
    "execution": {
     "iopub.execute_input": "2021-09-26T13:29:39.771769Z",
     "iopub.status.busy": "2021-09-26T13:29:39.771525Z",
     "iopub.status.idle": "2021-09-26T13:29:39.780185Z",
     "shell.execute_reply": "2021-09-26T13:29:39.779818Z",
     "shell.execute_reply.started": "2021-09-26T13:29:39.771745Z"
    },
    "tags": []
   },
   "outputs": [
    {
     "data": {
      "text/plain": [
       "GCN(\n",
       "  (layers): ModuleList(\n",
       "    (0): GCNConv(\n",
       "      (linear): Linear(in_features=302, out_features=64, bias=True)\n",
       "      (dropout): Dropout(p=0.5, inplace=False)\n",
       "    )\n",
       "    (1): GCNConv(\n",
       "      (linear): Linear(in_features=64, out_features=7, bias=True)\n",
       "    )\n",
       "  )\n",
       ")"
      ]
     },
     "execution_count": 38,
     "metadata": {},
     "output_type": "execute_result"
    }
   ],
   "source": [
    "model_name = \"gcn\"\n",
    "save_dir = \"./saved_models/{}/{}\".format(dataset_name, model_name)\n",
    "save_name = \"model.pt\"\n",
    "model = torch.load(os.path.join(save_dir, save_name))\n",
    "model = model.to(device)\n",
    "model.eval()"
   ]
  },
  {
   "cell_type": "code",
   "execution_count": 39,
   "id": "b4e4934e-e4ba-4d28-8116-d0162bf4714a",
   "metadata": {
    "execution": {
     "iopub.execute_input": "2021-09-26T13:29:40.335600Z",
     "iopub.status.busy": "2021-09-26T13:29:40.335424Z",
     "iopub.status.idle": "2021-09-26T13:29:40.346832Z",
     "shell.execute_reply": "2021-09-26T13:29:40.346368Z",
     "shell.execute_reply.started": "2021-09-26T13:29:40.335579Z"
    },
    "tags": []
   },
   "outputs": [
    {
     "name": "stdout",
     "output_type": "stream",
     "text": [
      "Test score: 0.8259\n"
     ]
    }
   ],
   "source": [
    "# original\n",
    "test_score = utils.evaluate(model, \n",
    "                            features=dataset.features,\n",
    "                            adj=dataset.adj,\n",
    "                            labels=dataset.labels,\n",
    "                            feat_norm=model.feat_norm,\n",
    "                            adj_norm_func=model.adj_norm_func,\n",
    "                            mask=dataset.test_mask,\n",
    "                            device=device)\n",
    "print(\"Test score: {:.4f}\".format(test_score))"
   ]
  },
  {
   "cell_type": "code",
   "execution_count": 40,
   "id": "7aa6cc41-2813-470a-a6b2-9e84bb1bfee3",
   "metadata": {
    "execution": {
     "iopub.execute_input": "2021-09-26T13:29:41.075527Z",
     "iopub.status.busy": "2021-09-26T13:29:41.075280Z",
     "iopub.status.idle": "2021-09-26T13:29:41.086934Z",
     "shell.execute_reply": "2021-09-26T13:29:41.086403Z",
     "shell.execute_reply.started": "2021-09-26T13:29:41.075502Z"
    },
    "tags": []
   },
   "outputs": [
    {
     "name": "stdout",
     "output_type": "stream",
     "text": [
      "Test score: 0.7388\n"
     ]
    }
   ],
   "source": [
    "# after attack\n",
    "test_score = utils.evaluate(model, \n",
    "                            features=dataset.features,\n",
    "                            adj=adj_attack,\n",
    "                            labels=dataset.labels,\n",
    "                            feat_norm=model.feat_norm,\n",
    "                            adj_norm_func=model.adj_norm_func,\n",
    "                            mask=dataset.test_mask,\n",
    "                            device=device)\n",
    "print(\"Test score: {:.4f}\".format(test_score))"
   ]
  }
 ],
 "metadata": {
  "kernelspec": {
   "display_name": "Python 3",
   "language": "python",
   "name": "python3"
  },
  "language_info": {
   "codemirror_mode": {
    "name": "ipython",
    "version": 3
   },
   "file_extension": ".py",
   "mimetype": "text/x-python",
   "name": "python",
   "nbconvert_exporter": "python",
   "pygments_lexer": "ipython3",
   "version": "3.8.11"
  },
  "toc-autonumbering": false
 },
 "nbformat": 4,
 "nbformat_minor": 5
}
