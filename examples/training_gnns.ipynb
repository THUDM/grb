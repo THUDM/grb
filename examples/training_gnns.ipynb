{
 "cells": [
  {
   "cell_type": "markdown",
   "id": "d089bbd1-1a16-4791-a28f-42bb6aefc540",
   "metadata": {},
   "source": [
    "# Example of training Graph Neural Networks (GNNs)"
   ]
  },
  {
   "cell_type": "markdown",
   "id": "d0ef1616-30c8-40ff-9ca3-67e11abc74e2",
   "metadata": {},
   "source": [
    "GRB provides easy-to-use APIs to train GNNs, facilitating the entire process from loading graph data, building GNN models, to evaluation and inference. Here is an example of training GCNs (Graph Convolution Networks)."
   ]
  },
  {
   "cell_type": "markdown",
   "id": "9e6cec59-45da-46df-b840-28aa019d12e9",
   "metadata": {},
   "source": [
    "Contents\n",
    "- [Load Dataset](#Load-Dataset)\n",
    "- [Build Model](#Build-Model)\n",
    "- [Training](#Training)\n",
    "- [Inference](#Inference)\n",
    "- [Evaluation](#Evaluation)"
   ]
  },
  {
   "cell_type": "code",
   "execution_count": 7,
   "id": "aa7e279c-5a47-427c-95b7-485d2f554fb7",
   "metadata": {
    "execution": {
     "iopub.execute_input": "2021-08-12T13:03:17.301954Z",
     "iopub.status.busy": "2021-08-12T13:03:17.301708Z",
     "iopub.status.idle": "2021-08-12T13:03:17.304978Z",
     "shell.execute_reply": "2021-08-12T13:03:17.304401Z",
     "shell.execute_reply.started": "2021-08-12T13:03:17.301929Z"
    },
    "tags": []
   },
   "outputs": [],
   "source": [
    "import os\n",
    "import torch\n",
    "import grb.utils as utils"
   ]
  },
  {
   "cell_type": "markdown",
   "id": "62e16e1d-262d-4e59-858c-b945af907603",
   "metadata": {
    "execution": {
     "iopub.execute_input": "2021-08-11T11:59:56.178453Z",
     "iopub.status.busy": "2021-08-11T11:59:56.178207Z",
     "iopub.status.idle": "2021-08-11T11:59:56.181058Z",
     "shell.execute_reply": "2021-08-11T11:59:56.180559Z",
     "shell.execute_reply.started": "2021-08-11T11:59:56.178427Z"
    },
    "tags": []
   },
   "source": [
    "## Load Dataset"
   ]
  },
  {
   "cell_type": "markdown",
   "id": "7ba00b67-ef85-4e9d-a048-2f55f323f148",
   "metadata": {},
   "source": [
    "GRB datasets are named by the prefix *grb-*. There are four *mode* ('easy', 'medium', 'hard', 'full') for test set, representing different average degrees of test nodes, thus different difficulty for attacking them. The node features are processed by *arctan* normalization (first standardization then arctan function), which makes node features fall in the same scale."
   ]
  },
  {
   "cell_type": "code",
   "execution_count": 8,
   "id": "b6529982-a46b-4384-8b31-e61b93c0f0c1",
   "metadata": {
    "execution": {
     "iopub.execute_input": "2021-08-12T13:03:17.886729Z",
     "iopub.status.busy": "2021-08-12T13:03:17.886486Z",
     "iopub.status.idle": "2021-08-12T13:03:17.924537Z",
     "shell.execute_reply": "2021-08-12T13:03:17.924024Z",
     "shell.execute_reply.started": "2021-08-12T13:03:17.886704Z"
    },
    "tags": []
   },
   "outputs": [
    {
     "name": "stdout",
     "output_type": "stream",
     "text": [
      "Dataset 'grb-cora' loaded.\n",
      "    Number of nodes: 2680\n",
      "    Number of edges: 5148\n",
      "    Number of features: 302\n",
      "    Number of classes: 7\n",
      "    Number of train samples: 1608\n",
      "    Number of val samples: 268\n",
      "    Number of test samples: 804\n",
      "    Dataset mode: full\n",
      "    Feature range: [-0.9406, 0.9430]\n"
     ]
    }
   ],
   "source": [
    "from grb.dataset import Dataset\n",
    "\n",
    "dataset_name = 'grb-cora'\n",
    "dataset = Dataset(name=dataset_name, \n",
    "                  data_dir=\"../data/\",\n",
    "                  mode='full',\n",
    "                  feat_norm='arctan')"
   ]
  },
  {
   "cell_type": "markdown",
   "id": "97724892-f776-42ee-abcb-fadc554c5462",
   "metadata": {},
   "source": [
    "## Build Model"
   ]
  },
  {
   "cell_type": "markdown",
   "id": "df4fe302-e48d-4053-95aa-0ae65b8f46c6",
   "metadata": {},
   "source": [
    "GRB supports models based on pure Pytorch, CogDL or DGL. The following is an example of GCN implemented by pure Pytorch. Other models can be found in ``grb/model/torch``, ``grb/model/cogdl``, or ``grb/model/dgl``."
   ]
  },
  {
   "cell_type": "markdown",
   "id": "94a41133-70c9-481a-9e50-7d169a9a766b",
   "metadata": {
    "tags": []
   },
   "source": [
    "### GCN"
   ]
  },
  {
   "cell_type": "code",
   "execution_count": 32,
   "id": "7b490466-351a-43f8-b6c8-dfa1727b8f5b",
   "metadata": {
    "execution": {
     "iopub.execute_input": "2021-08-12T13:06:49.416625Z",
     "iopub.status.busy": "2021-08-12T13:06:49.416382Z",
     "iopub.status.idle": "2021-08-12T13:06:49.423055Z",
     "shell.execute_reply": "2021-08-12T13:06:49.422481Z",
     "shell.execute_reply.started": "2021-08-12T13:06:49.416600Z"
    },
    "tags": []
   },
   "outputs": [
    {
     "name": "stdout",
     "output_type": "stream",
     "text": [
      "Number of parameters: 24007.\n",
      "GCN(\n",
      "  (layers): ModuleList(\n",
      "    (0): GCNConv(\n",
      "      (linear): Linear(in_features=302, out_features=64, bias=True)\n",
      "      (dropout): Dropout(p=0.5, inplace=False)\n",
      "    )\n",
      "    (1): GCNConv(\n",
      "      (linear): Linear(in_features=64, out_features=64, bias=True)\n",
      "      (dropout): Dropout(p=0.5, inplace=False)\n",
      "    )\n",
      "    (2): GCNConv(\n",
      "      (linear): Linear(in_features=64, out_features=7, bias=True)\n",
      "    )\n",
      "  )\n",
      ")\n"
     ]
    }
   ],
   "source": [
    "from grb.model.torch import GCN\n",
    "from grb.utils.normalize import GCNAdjNorm\n",
    "\n",
    "model_name = \"gcn\"\n",
    "model = GCN(in_features=dataset.num_features,\n",
    "            out_features=dataset.num_classes,\n",
    "            hidden_features=[64, 64], \n",
    "            adj_norm_func=GCNAdjNorm,\n",
    "            layer_norm=False,\n",
    "            residual=False,\n",
    "            dropout=0.5)\n",
    "print(\"Number of parameters: {}.\".format(utils.get_num_params(model)))\n",
    "print(model)"
   ]
  },
  {
   "cell_type": "markdown",
   "id": "c7238600-e127-4ca7-b922-d6efc33b192c",
   "metadata": {},
   "source": [
    "### APPNP"
   ]
  },
  {
   "cell_type": "code",
   "execution_count": 10,
   "id": "167c503b-6e4b-4004-894b-f4ba38ce7f18",
   "metadata": {
    "execution": {
     "iopub.execute_input": "2021-08-12T13:03:21.676738Z",
     "iopub.status.busy": "2021-08-12T13:03:21.676494Z",
     "iopub.status.idle": "2021-08-12T13:03:21.682815Z",
     "shell.execute_reply": "2021-08-12T13:03:21.682253Z",
     "shell.execute_reply.started": "2021-08-12T13:03:21.676712Z"
    },
    "tags": []
   },
   "outputs": [
    {
     "name": "stdout",
     "output_type": "stream",
     "text": [
      "Number of parameters: 24007.\n",
      "APPNP(\n",
      "  (layers): ModuleList(\n",
      "    (0): Linear(in_features=302, out_features=64, bias=True)\n",
      "    (1): Linear(in_features=64, out_features=64, bias=True)\n",
      "    (2): Linear(in_features=64, out_features=7, bias=True)\n",
      "  )\n",
      "  (edge_dropout): SparseEdgeDrop()\n",
      "  (dropout): Dropout(p=0.5, inplace=False)\n",
      ")\n"
     ]
    }
   ],
   "source": [
    "from grb.model.torch import APPNP\n",
    "from grb.utils.normalize import GCNAdjNorm\n",
    "\n",
    "model_name = \"appnp\"\n",
    "model = APPNP(in_features=dataset.num_features,\n",
    "              out_features=dataset.num_classes,\n",
    "              hidden_features=[64, 64], \n",
    "              adj_norm_func=GCNAdjNorm,\n",
    "              layer_norm=False,\n",
    "              edge_drop=0.1,\n",
    "              alpha=0.01,\n",
    "              k=3,\n",
    "              dropout=0.5)\n",
    "print(\"Number of parameters: {}.\".format(utils.get_num_params(model)))\n",
    "print(model)"
   ]
  },
  {
   "cell_type": "markdown",
   "id": "1ee0a75f-8620-4c42-abc8-72d9bc65d18c",
   "metadata": {},
   "source": [
    "## Training"
   ]
  },
  {
   "cell_type": "markdown",
   "id": "09e37b87-01ee-43da-9dab-52f7b34f842c",
   "metadata": {},
   "source": [
    "GRB provides ``grb.utils.trainer`` that facilitates the training process of GNNs. The training mode can be chosen from ``inductive`` or ``transductive``. In the inductive mode, only train nodes can be seen during training, train+val nodes can be seen during validation, train+val+test nodes can be seen during testing. In the transductive mode, all nodes are available for each process.  "
   ]
  },
  {
   "cell_type": "code",
   "execution_count": 33,
   "id": "27e138eb-8190-4f3c-affa-c55053e22cb0",
   "metadata": {
    "execution": {
     "iopub.execute_input": "2021-08-12T13:07:08.459306Z",
     "iopub.status.busy": "2021-08-12T13:07:08.459059Z",
     "iopub.status.idle": "2021-08-12T13:07:08.462806Z",
     "shell.execute_reply": "2021-08-12T13:07:08.462200Z",
     "shell.execute_reply.started": "2021-08-12T13:07:08.459281Z"
    },
    "tags": []
   },
   "outputs": [],
   "source": [
    "save_dir = \"./saved_modes/{}/{}\".format(dataset_name, model_name)\n",
    "save_name = \"model.pt\"\n",
    "device = \"cuda:0\"\n",
    "feat_norm = None\n",
    "train_mode = \"transductive\""
   ]
  },
  {
   "cell_type": "code",
   "execution_count": 34,
   "id": "43c9c619-cd60-47a3-8d9d-55d6c8525c32",
   "metadata": {
    "execution": {
     "iopub.execute_input": "2021-08-12T13:07:09.134804Z",
     "iopub.status.busy": "2021-08-12T13:07:09.134559Z",
     "iopub.status.idle": "2021-08-12T13:07:09.156200Z",
     "shell.execute_reply": "2021-08-12T13:07:09.155719Z",
     "shell.execute_reply.started": "2021-08-12T13:07:09.134778Z"
    },
    "tags": []
   },
   "outputs": [],
   "source": [
    "from grb.utils.trainer import Trainer\n",
    "\n",
    "trainer = Trainer(dataset=dataset, \n",
    "                  optimizer=torch.optim.Adam(model.parameters(), lr=0.01),\n",
    "                  loss=torch.nn.functional.nll_loss,\n",
    "                  lr_scheduler=False,\n",
    "                  early_stop=True,\n",
    "                  early_stop_patience=500,\n",
    "                  feat_norm=feat_norm,\n",
    "                  device=device)"
   ]
  },
  {
   "cell_type": "code",
   "execution_count": 35,
   "id": "f567b85c-9a14-46e1-9a8f-17c94c0080bb",
   "metadata": {
    "execution": {
     "iopub.execute_input": "2021-08-12T13:07:09.696497Z",
     "iopub.status.busy": "2021-08-12T13:07:09.696250Z",
     "iopub.status.idle": "2021-08-12T13:07:14.089455Z",
     "shell.execute_reply": "2021-08-12T13:07:14.088869Z",
     "shell.execute_reply.started": "2021-08-12T13:07:09.696472Z"
    },
    "scrolled": true,
    "tags": []
   },
   "outputs": [
    {
     "name": "stderr",
     "output_type": "stream",
     "text": [
      "Epoch 00086 | Train loss 0.6195 | Train score 0.7991 | Val loss 0.5759 | Val score 0.8134:   4%|▎         | 72/2000 [00:00<00:11, 174.86it/s]"
     ]
    },
    {
     "name": "stdout",
     "output_type": "stream",
     "text": [
      "Epoch 00051 | Best validation score: 0.7836\n",
      "Model saved in './saved_modes/grb-cora/gcn/model.pt'.\n",
      "Epoch 00052 | Best validation score: 0.7910\n",
      "Model saved in './saved_modes/grb-cora/gcn/model.pt'.\n",
      "Epoch 00060 | Best validation score: 0.7948\n",
      "Model saved in './saved_modes/grb-cora/gcn/model.pt'.\n",
      "Epoch 00061 | Best validation score: 0.7985\n",
      "Model saved in './saved_modes/grb-cora/gcn/model.pt'.\n",
      "Epoch 00063 | Best validation score: 0.8022\n",
      "Model saved in './saved_modes/grb-cora/gcn/model.pt'.\n",
      "Epoch 00064 | Best validation score: 0.8134\n",
      "Model saved in './saved_modes/grb-cora/gcn/model.pt'.\n",
      "Epoch 00065 | Best validation score: 0.8172\n",
      "Model saved in './saved_modes/grb-cora/gcn/model.pt'.\n"
     ]
    },
    {
     "name": "stderr",
     "output_type": "stream",
     "text": [
      "Epoch 00126 | Train loss 0.4721 | Train score 0.8451 | Val loss 0.4907 | Val score 0.8545:   6%|▋         | 127/2000 [00:00<00:10, 175.68it/s]"
     ]
    },
    {
     "name": "stdout",
     "output_type": "stream",
     "text": [
      "Epoch 00092 | Best validation score: 0.8209\n",
      "Model saved in './saved_modes/grb-cora/gcn/model.pt'.\n",
      "Epoch 00093 | Best validation score: 0.8246\n",
      "Model saved in './saved_modes/grb-cora/gcn/model.pt'.\n",
      "Epoch 00096 | Best validation score: 0.8284\n",
      "Model saved in './saved_modes/grb-cora/gcn/model.pt'.\n",
      "Epoch 00097 | Best validation score: 0.8321\n",
      "Model saved in './saved_modes/grb-cora/gcn/model.pt'.\n",
      "Epoch 00102 | Best validation score: 0.8358\n",
      "Model saved in './saved_modes/grb-cora/gcn/model.pt'.\n",
      "Epoch 00104 | Best validation score: 0.8396\n",
      "Model saved in './saved_modes/grb-cora/gcn/model.pt'.\n",
      "Epoch 00118 | Best validation score: 0.8433\n",
      "Model saved in './saved_modes/grb-cora/gcn/model.pt'.\n",
      "Epoch 00123 | Best validation score: 0.8470\n",
      "Model saved in './saved_modes/grb-cora/gcn/model.pt'.\n",
      "Epoch 00125 | Best validation score: 0.8507\n",
      "Model saved in './saved_modes/grb-cora/gcn/model.pt'.\n",
      "Epoch 00126 | Best validation score: 0.8545\n",
      "Model saved in './saved_modes/grb-cora/gcn/model.pt'.\n"
     ]
    },
    {
     "name": "stderr",
     "output_type": "stream",
     "text": [
      "Epoch 00740 | Train loss 0.1370 | Train score 0.9471 | Val loss 0.6931 | Val score 0.8060:  37%|███▋      | 741/2000 [00:04<00:07, 168.99it/s]"
     ]
    },
    {
     "name": "stdout",
     "output_type": "stream",
     "text": [
      "Training early stopped. Best validation score: 0.8545\n",
      "Model saved in './saved_modes/grb-cora/gcn/early_stopped_model.pt'.\n"
     ]
    },
    {
     "name": "stderr",
     "output_type": "stream",
     "text": [
      "\n"
     ]
    }
   ],
   "source": [
    "trainer.train(model=model, \n",
    "              n_epoch=2000,\n",
    "              eval_every=1,\n",
    "              save_after=0,\n",
    "              save_dir=save_dir,\n",
    "              save_name=save_name,\n",
    "              train_mode=train_mode)"
   ]
  },
  {
   "cell_type": "markdown",
   "id": "23423752-5dd9-4f8a-89b8-8de74e21b92c",
   "metadata": {},
   "source": [
    "## Inference"
   ]
  },
  {
   "cell_type": "code",
   "execution_count": 36,
   "id": "4d0cf8b1-4518-46bf-b92f-378bb976641a",
   "metadata": {
    "execution": {
     "iopub.execute_input": "2021-08-12T13:07:22.940998Z",
     "iopub.status.busy": "2021-08-12T13:07:22.940754Z",
     "iopub.status.idle": "2021-08-12T13:07:22.948336Z",
     "shell.execute_reply": "2021-08-12T13:07:22.947758Z",
     "shell.execute_reply.started": "2021-08-12T13:07:22.940972Z"
    },
    "tags": []
   },
   "outputs": [
    {
     "data": {
      "text/plain": [
       "GCN(\n",
       "  (layers): ModuleList(\n",
       "    (0): GCNConv(\n",
       "      (linear): Linear(in_features=302, out_features=64, bias=True)\n",
       "      (dropout): Dropout(p=0.5, inplace=False)\n",
       "    )\n",
       "    (1): GCNConv(\n",
       "      (linear): Linear(in_features=64, out_features=64, bias=True)\n",
       "      (dropout): Dropout(p=0.5, inplace=False)\n",
       "    )\n",
       "    (2): GCNConv(\n",
       "      (linear): Linear(in_features=64, out_features=7, bias=True)\n",
       "    )\n",
       "  )\n",
       ")"
      ]
     },
     "execution_count": 36,
     "metadata": {},
     "output_type": "execute_result"
    }
   ],
   "source": [
    "model = torch.load(os.path.join(save_dir, save_name))\n",
    "model = model.to(device)\n",
    "model.eval()"
   ]
  },
  {
   "cell_type": "code",
   "execution_count": 37,
   "id": "0770136c-3259-4e51-b4ae-e2fc28a5e763",
   "metadata": {
    "execution": {
     "iopub.execute_input": "2021-08-12T13:07:23.666323Z",
     "iopub.status.busy": "2021-08-12T13:07:23.666075Z",
     "iopub.status.idle": "2021-08-12T13:07:23.678528Z",
     "shell.execute_reply": "2021-08-12T13:07:23.678056Z",
     "shell.execute_reply.started": "2021-08-12T13:07:23.666297Z"
    },
    "tags": []
   },
   "outputs": [
    {
     "name": "stdout",
     "output_type": "stream",
     "text": [
      "tensor([[-1.8770e+00, -3.8322e-01, -2.3015e+00,  ..., -1.1700e+00,\n",
      "         -3.7822e+00, -3.8087e+00],\n",
      "        [-2.6523e-01, -3.9858e-01, -1.3438e+00,  ...,  7.8287e+00,\n",
      "         -6.5029e+00, -2.4968e+00],\n",
      "        [ 7.2530e-01, -2.6292e-01, -1.3161e+00,  ...,  3.5806e+00,\n",
      "         -6.9180e+00, -2.9982e+00],\n",
      "        ...,\n",
      "        [ 1.5502e+00, -1.5170e+00,  1.0556e+00,  ..., -1.5491e+00,\n",
      "         -5.1555e+00, -2.6115e+00],\n",
      "        [-1.1753e+00, -6.9723e-03, -2.1175e+00,  ..., -3.6916e+00,\n",
      "          1.0135e+00, -1.3410e+00],\n",
      "        [-1.5373e+00,  5.0471e-03, -6.4687e-01,  ..., -1.6436e+00,\n",
      "         -3.7218e+00, -3.6808e+00]], device='cuda:0', grad_fn=<MmBackward>) torch.Size([2680, 7])\n"
     ]
    }
   ],
   "source": [
    "# by trainer\n",
    "pred = trainer.inference(model)\n",
    "print(pred, pred.shape)"
   ]
  },
  {
   "cell_type": "code",
   "execution_count": 38,
   "id": "278be10b-440a-4068-be2e-237e8d0b2e7e",
   "metadata": {
    "execution": {
     "iopub.execute_input": "2021-08-12T13:07:24.211732Z",
     "iopub.status.busy": "2021-08-12T13:07:24.211488Z",
     "iopub.status.idle": "2021-08-12T13:07:24.224124Z",
     "shell.execute_reply": "2021-08-12T13:07:24.223630Z",
     "shell.execute_reply.started": "2021-08-12T13:07:24.211707Z"
    },
    "tags": []
   },
   "outputs": [
    {
     "name": "stdout",
     "output_type": "stream",
     "text": [
      "tensor([[-1.8770e+00, -3.8322e-01, -2.3015e+00,  ..., -1.1700e+00,\n",
      "         -3.7822e+00, -3.8087e+00],\n",
      "        [-2.6523e-01, -3.9858e-01, -1.3438e+00,  ...,  7.8287e+00,\n",
      "         -6.5029e+00, -2.4968e+00],\n",
      "        [ 7.2530e-01, -2.6292e-01, -1.3161e+00,  ...,  3.5806e+00,\n",
      "         -6.9180e+00, -2.9982e+00],\n",
      "        ...,\n",
      "        [ 1.5502e+00, -1.5170e+00,  1.0556e+00,  ..., -1.5491e+00,\n",
      "         -5.1555e+00, -2.6115e+00],\n",
      "        [-1.1753e+00, -6.9723e-03, -2.1175e+00,  ..., -3.6916e+00,\n",
      "          1.0135e+00, -1.3410e+00],\n",
      "        [-1.5373e+00,  5.0471e-03, -6.4687e-01,  ..., -1.6436e+00,\n",
      "         -3.7218e+00, -3.6808e+00]], device='cuda:0', grad_fn=<MmBackward>) torch.Size([2680, 7])\n"
     ]
    }
   ],
   "source": [
    "# by utils\n",
    "pred = utils.inference(model, \n",
    "                       features=dataset.features,\n",
    "                       feat_norm=feat_norm,\n",
    "                       adj=dataset.adj,\n",
    "                       adj_norm_func=model.adj_norm_func,\n",
    "                       device=device)\n",
    "print(pred, pred.shape)"
   ]
  },
  {
   "cell_type": "markdown",
   "id": "5d1df58f-7116-47c0-8e1d-c70b0567c964",
   "metadata": {},
   "source": [
    "## Evaluation"
   ]
  },
  {
   "cell_type": "code",
   "execution_count": 39,
   "id": "bd7d828e-029d-4127-a6ee-37cdf316c59a",
   "metadata": {
    "execution": {
     "iopub.execute_input": "2021-08-12T13:07:25.554423Z",
     "iopub.status.busy": "2021-08-12T13:07:25.554210Z",
     "iopub.status.idle": "2021-08-12T13:07:25.565173Z",
     "shell.execute_reply": "2021-08-12T13:07:25.564757Z",
     "shell.execute_reply.started": "2021-08-12T13:07:25.554401Z"
    },
    "tags": []
   },
   "outputs": [
    {
     "name": "stdout",
     "output_type": "stream",
     "text": [
      "Test score: 0.8470\n"
     ]
    }
   ],
   "source": [
    "# by trainer\n",
    "test_score = trainer.evaluate(model, dataset.test_mask)\n",
    "print(\"Test score: {:.4f}\".format(test_score))"
   ]
  },
  {
   "cell_type": "code",
   "execution_count": 40,
   "id": "e3cf4e0a-afae-464a-9893-d2760b4734b4",
   "metadata": {
    "execution": {
     "iopub.execute_input": "2021-08-12T13:07:26.394453Z",
     "iopub.status.busy": "2021-08-12T13:07:26.394203Z",
     "iopub.status.idle": "2021-08-12T13:07:26.406516Z",
     "shell.execute_reply": "2021-08-12T13:07:26.406079Z",
     "shell.execute_reply.started": "2021-08-12T13:07:26.394426Z"
    },
    "tags": []
   },
   "outputs": [
    {
     "name": "stdout",
     "output_type": "stream",
     "text": [
      "Test score: 0.8470\n"
     ]
    }
   ],
   "source": [
    "# by utils\n",
    "test_score = utils.evaluate(model, \n",
    "                            features=dataset.features,\n",
    "                            adj=dataset.adj,\n",
    "                            labels=dataset.labels,\n",
    "                            feat_norm=feat_norm,\n",
    "                            adj_norm_func=model.adj_norm_func,\n",
    "                            mask=dataset.test_mask,\n",
    "                            device=device)\n",
    "print(\"Test score: {:.4f}\".format(test_score))"
   ]
  },
  {
   "cell_type": "markdown",
   "id": "25c1d781-8ad3-4f64-b59c-ce72c68d30d2",
   "metadata": {},
   "source": [
    "For further information, please refer to the [GRB Documentation](https://grb.readthedocs.io/en/latest/)."
   ]
  }
 ],
 "metadata": {
  "kernelspec": {
   "display_name": "Python 3",
   "language": "python",
   "name": "python3"
  },
  "language_info": {
   "codemirror_mode": {
    "name": "ipython",
    "version": 3
   },
   "file_extension": ".py",
   "mimetype": "text/x-python",
   "name": "python",
   "nbconvert_exporter": "python",
   "pygments_lexer": "ipython3",
   "version": "3.8.11"
  },
  "toc-autonumbering": true,
  "toc-showtags": false
 },
 "nbformat": 4,
 "nbformat_minor": 5
}
