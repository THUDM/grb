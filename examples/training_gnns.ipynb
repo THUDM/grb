{
 "cells": [
  {
   "cell_type": "markdown",
   "id": "d089bbd1-1a16-4791-a28f-42bb6aefc540",
   "metadata": {},
   "source": [
    "# Example of training Graph Neural Networks (GNNs)"
   ]
  },
  {
   "cell_type": "markdown",
   "id": "d0ef1616-30c8-40ff-9ca3-67e11abc74e2",
   "metadata": {},
   "source": [
    "GRB provides easy-to-use APIs to train GNNs, facilitating the entire process from loading graph data, building GNN models, to evaluation and inference. Here is an example of training GCNs (Graph Convolution Networks)."
   ]
  },
  {
   "cell_type": "markdown",
   "id": "9e6cec59-45da-46df-b840-28aa019d12e9",
   "metadata": {},
   "source": [
    "Contents\n",
    "- [Load Dataset](#Load-Dataset)\n",
    "- [Build Model](#Build-Model)\n",
    "- [Training](#Training)\n",
    "- [Inference](#Inference)\n",
    "- [Evaluation](#Evaluation)"
   ]
  },
  {
   "cell_type": "code",
   "execution_count": 1,
   "id": "aa7e279c-5a47-427c-95b7-485d2f554fb7",
   "metadata": {
    "execution": {
     "iopub.execute_input": "2021-08-16T12:40:11.100154Z",
     "iopub.status.busy": "2021-08-16T12:40:11.099874Z",
     "iopub.status.idle": "2021-08-16T12:40:11.838946Z",
     "shell.execute_reply": "2021-08-16T12:40:11.838372Z",
     "shell.execute_reply.started": "2021-08-16T12:40:11.100080Z"
    },
    "tags": []
   },
   "outputs": [],
   "source": [
    "import os\n",
    "import torch\n",
    "import grb.utils as utils"
   ]
  },
  {
   "cell_type": "markdown",
   "id": "62e16e1d-262d-4e59-858c-b945af907603",
   "metadata": {
    "execution": {
     "iopub.execute_input": "2021-08-11T11:59:56.178453Z",
     "iopub.status.busy": "2021-08-11T11:59:56.178207Z",
     "iopub.status.idle": "2021-08-11T11:59:56.181058Z",
     "shell.execute_reply": "2021-08-11T11:59:56.180559Z",
     "shell.execute_reply.started": "2021-08-11T11:59:56.178427Z"
    },
    "tags": []
   },
   "source": [
    "## Load Dataset"
   ]
  },
  {
   "cell_type": "markdown",
   "id": "7ba00b67-ef85-4e9d-a048-2f55f323f148",
   "metadata": {},
   "source": [
    "GRB datasets are named by the prefix *grb-*. There are four *mode* ('easy', 'medium', 'hard', 'full') for test set, representing different average degrees of test nodes, thus different difficulty for attacking them. The node features are processed by *arctan* normalization (first standardization then arctan function), which makes node features fall in the same scale."
   ]
  },
  {
   "cell_type": "code",
   "execution_count": 2,
   "id": "b6529982-a46b-4384-8b31-e61b93c0f0c1",
   "metadata": {
    "execution": {
     "iopub.execute_input": "2021-08-16T12:40:12.227604Z",
     "iopub.status.busy": "2021-08-16T12:40:12.227344Z",
     "iopub.status.idle": "2021-08-16T12:40:12.303400Z",
     "shell.execute_reply": "2021-08-16T12:40:12.302830Z",
     "shell.execute_reply.started": "2021-08-16T12:40:12.227578Z"
    },
    "tags": []
   },
   "outputs": [
    {
     "name": "stdout",
     "output_type": "stream",
     "text": [
      "Dataset 'grb-cora' loaded.\n",
      "    Number of nodes: 2680\n",
      "    Number of edges: 5148\n",
      "    Number of features: 302\n",
      "    Number of classes: 7\n",
      "    Number of train samples: 1608\n",
      "    Number of val samples: 268\n",
      "    Number of test samples: 804\n",
      "    Dataset mode: full\n",
      "    Feature range: [-0.9406, 0.9430]\n"
     ]
    }
   ],
   "source": [
    "from grb.dataset import Dataset\n",
    "\n",
    "dataset_name = 'grb-cora'\n",
    "dataset = Dataset(name=dataset_name, \n",
    "                  data_dir=\"../data/\",\n",
    "                  mode='full',\n",
    "                  feat_norm='arctan')"
   ]
  },
  {
   "cell_type": "markdown",
   "id": "97724892-f776-42ee-abcb-fadc554c5462",
   "metadata": {},
   "source": [
    "## Build Model"
   ]
  },
  {
   "cell_type": "markdown",
   "id": "df4fe302-e48d-4053-95aa-0ae65b8f46c6",
   "metadata": {},
   "source": [
    "GRB supports models based on pure Pytorch, CogDL or DGL. The following is an example of GCN implemented by pure Pytorch. Other models can be found in ``grb/model/torch``, ``grb/model/cogdl``, or ``grb/model/dgl``."
   ]
  },
  {
   "cell_type": "markdown",
   "id": "94a41133-70c9-481a-9e50-7d169a9a766b",
   "metadata": {
    "jp-MarkdownHeadingCollapsed": true,
    "tags": []
   },
   "source": [
    "### GCN"
   ]
  },
  {
   "cell_type": "code",
   "execution_count": 32,
   "id": "7b490466-351a-43f8-b6c8-dfa1727b8f5b",
   "metadata": {
    "execution": {
     "iopub.execute_input": "2021-08-12T13:06:49.416625Z",
     "iopub.status.busy": "2021-08-12T13:06:49.416382Z",
     "iopub.status.idle": "2021-08-12T13:06:49.423055Z",
     "shell.execute_reply": "2021-08-12T13:06:49.422481Z",
     "shell.execute_reply.started": "2021-08-12T13:06:49.416600Z"
    },
    "tags": []
   },
   "outputs": [
    {
     "name": "stdout",
     "output_type": "stream",
     "text": [
      "Number of parameters: 24007.\n",
      "GCN(\n",
      "  (layers): ModuleList(\n",
      "    (0): GCNConv(\n",
      "      (linear): Linear(in_features=302, out_features=64, bias=True)\n",
      "      (dropout): Dropout(p=0.5, inplace=False)\n",
      "    )\n",
      "    (1): GCNConv(\n",
      "      (linear): Linear(in_features=64, out_features=64, bias=True)\n",
      "      (dropout): Dropout(p=0.5, inplace=False)\n",
      "    )\n",
      "    (2): GCNConv(\n",
      "      (linear): Linear(in_features=64, out_features=7, bias=True)\n",
      "    )\n",
      "  )\n",
      ")\n"
     ]
    }
   ],
   "source": [
    "from grb.model.torch import GCN\n",
    "from grb.utils.normalize import GCNAdjNorm\n",
    "\n",
    "model_name = \"gcn\"\n",
    "model = GCN(in_features=dataset.num_features,\n",
    "            out_features=dataset.num_classes,\n",
    "            hidden_features=[64, 64], \n",
    "            adj_norm_func=GCNAdjNorm,\n",
    "            layer_norm=False,\n",
    "            residual=False,\n",
    "            dropout=0.5)\n",
    "print(\"Number of parameters: {}.\".format(utils.get_num_params(model)))\n",
    "print(model)"
   ]
  },
  {
   "cell_type": "markdown",
   "id": "1ca7c3f7-1af3-4a6a-8546-3e18716427ef",
   "metadata": {
    "tags": []
   },
   "source": [
    "### GAT"
   ]
  },
  {
   "cell_type": "code",
   "execution_count": 3,
   "id": "f1e7778e-b1f2-465c-93ef-b5ae49666f39",
   "metadata": {
    "execution": {
     "iopub.execute_input": "2021-08-16T12:40:14.975655Z",
     "iopub.status.busy": "2021-08-16T12:40:14.975420Z",
     "iopub.status.idle": "2021-08-16T12:40:15.088453Z",
     "shell.execute_reply": "2021-08-16T12:40:15.087864Z",
     "shell.execute_reply.started": "2021-08-16T12:40:14.975631Z"
    },
    "tags": []
   },
   "outputs": [
    {
     "name": "stdout",
     "output_type": "stream",
     "text": [
      "Number of parameters: 146197.\n",
      "GAT(\n",
      "  (layers): ModuleList(\n",
      "    (0): GATConv(\n",
      "      (fc): Linear(in_features=302, out_features=256, bias=False)\n",
      "      (feat_drop): Dropout(p=0.6, inplace=False)\n",
      "      (attn_drop): Dropout(p=0.6, inplace=False)\n",
      "      (leaky_relu): LeakyReLU(negative_slope=0.2)\n",
      "    )\n",
      "    (1): GATConv(\n",
      "      (fc): Linear(in_features=256, out_features=256, bias=False)\n",
      "      (feat_drop): Dropout(p=0.6, inplace=False)\n",
      "      (attn_drop): Dropout(p=0.6, inplace=False)\n",
      "      (leaky_relu): LeakyReLU(negative_slope=0.2)\n",
      "    )\n",
      "    (2): GATConv(\n",
      "      (fc): Linear(in_features=256, out_features=7, bias=False)\n",
      "      (feat_drop): Dropout(p=0.0, inplace=False)\n",
      "      (attn_drop): Dropout(p=0.0, inplace=False)\n",
      "      (leaky_relu): LeakyReLU(negative_slope=0.2)\n",
      "    )\n",
      "  )\n",
      "  (dropout): Dropout(p=0.5, inplace=False)\n",
      ")\n"
     ]
    },
    {
     "name": "stderr",
     "output_type": "stream",
     "text": [
      "Using backend: pytorch\n"
     ]
    }
   ],
   "source": [
    "from grb.model.dgl import GAT\n",
    "\n",
    "model_name = \"gat\"\n",
    "model = GAT(in_features=dataset.num_features,\n",
    "            out_features=dataset.num_classes,\n",
    "            hidden_features=[64, 64],\n",
    "            num_heads=4,\n",
    "            adj_norm_func=None,\n",
    "            layer_norm=False,\n",
    "            residual=False,\n",
    "            feat_dropout=0.6,\n",
    "            attn_dropout=0.6,\n",
    "            dropout=0.5)\n",
    "print(\"Number of parameters: {}.\".format(utils.get_num_params(model)))\n",
    "print(model)"
   ]
  },
  {
   "cell_type": "markdown",
   "id": "c7238600-e127-4ca7-b922-d6efc33b192c",
   "metadata": {
    "jp-MarkdownHeadingCollapsed": true,
    "tags": []
   },
   "source": [
    "### APPNP"
   ]
  },
  {
   "cell_type": "code",
   "execution_count": 10,
   "id": "167c503b-6e4b-4004-894b-f4ba38ce7f18",
   "metadata": {
    "execution": {
     "iopub.execute_input": "2021-08-12T13:03:21.676738Z",
     "iopub.status.busy": "2021-08-12T13:03:21.676494Z",
     "iopub.status.idle": "2021-08-12T13:03:21.682815Z",
     "shell.execute_reply": "2021-08-12T13:03:21.682253Z",
     "shell.execute_reply.started": "2021-08-12T13:03:21.676712Z"
    },
    "tags": []
   },
   "outputs": [
    {
     "name": "stdout",
     "output_type": "stream",
     "text": [
      "Number of parameters: 24007.\n",
      "APPNP(\n",
      "  (layers): ModuleList(\n",
      "    (0): Linear(in_features=302, out_features=64, bias=True)\n",
      "    (1): Linear(in_features=64, out_features=64, bias=True)\n",
      "    (2): Linear(in_features=64, out_features=7, bias=True)\n",
      "  )\n",
      "  (edge_dropout): SparseEdgeDrop()\n",
      "  (dropout): Dropout(p=0.5, inplace=False)\n",
      ")\n"
     ]
    }
   ],
   "source": [
    "from grb.model.torch import APPNP\n",
    "from grb.utils.normalize import GCNAdjNorm\n",
    "\n",
    "model_name = \"appnp\"\n",
    "model = APPNP(in_features=dataset.num_features,\n",
    "              out_features=dataset.num_classes,\n",
    "              hidden_features=[64, 64], \n",
    "              adj_norm_func=GCNAdjNorm,\n",
    "              layer_norm=False,\n",
    "              edge_drop=0.1,\n",
    "              alpha=0.01,\n",
    "              k=3,\n",
    "              dropout=0.5)\n",
    "print(\"Number of parameters: {}.\".format(utils.get_num_params(model)))\n",
    "print(model)"
   ]
  },
  {
   "cell_type": "markdown",
   "id": "834e5f30-b800-4283-b00d-a0db823360da",
   "metadata": {
    "jp-MarkdownHeadingCollapsed": true,
    "tags": []
   },
   "source": [
    "### GIN"
   ]
  },
  {
   "cell_type": "code",
   "execution_count": 12,
   "id": "9a9cf67b-8702-4f7f-9b2e-8e9cb31ad272",
   "metadata": {
    "execution": {
     "iopub.execute_input": "2021-08-16T09:20:16.996529Z",
     "iopub.status.busy": "2021-08-16T09:20:16.996350Z",
     "iopub.status.idle": "2021-08-16T09:20:17.001556Z",
     "shell.execute_reply": "2021-08-16T09:20:17.001192Z",
     "shell.execute_reply.started": "2021-08-16T09:20:16.996511Z"
    },
    "tags": []
   },
   "outputs": [
    {
     "name": "stdout",
     "output_type": "stream",
     "text": [
      "Number of parameters: 36745.\n",
      "GIN(\n",
      "  (layers): ModuleList(\n",
      "    (0): GINConv(\n",
      "      (linear1): Linear(in_features=302, out_features=64, bias=True)\n",
      "      (linear2): Linear(in_features=64, out_features=64, bias=True)\n",
      "      (norm): BatchNorm1d(64, eps=1e-05, momentum=0.1, affine=True, track_running_stats=True)\n",
      "      (dropout): Dropout(p=0.5, inplace=False)\n",
      "    )\n",
      "    (1): GINConv(\n",
      "      (linear1): Linear(in_features=64, out_features=64, bias=True)\n",
      "      (linear2): Linear(in_features=64, out_features=64, bias=True)\n",
      "      (norm): BatchNorm1d(64, eps=1e-05, momentum=0.1, affine=True, track_running_stats=True)\n",
      "      (dropout): Dropout(p=0.5, inplace=False)\n",
      "    )\n",
      "  )\n",
      "  (linear1): Linear(in_features=64, out_features=64, bias=True)\n",
      "  (linear2): Linear(in_features=64, out_features=7, bias=True)\n",
      "  (dropout): Dropout(p=0.5, inplace=False)\n",
      ")\n"
     ]
    }
   ],
   "source": [
    "from grb.model.torch import GIN\n",
    "\n",
    "model_name = \"gin\"\n",
    "model = GIN(in_features=dataset.num_features,\n",
    "            out_features=dataset.num_classes,\n",
    "            hidden_features=[64, 64], \n",
    "            adj_norm_func=None,\n",
    "            layer_norm=False,\n",
    "            dropout=0.5)\n",
    "print(\"Number of parameters: {}.\".format(utils.get_num_params(model)))\n",
    "print(model)"
   ]
  },
  {
   "cell_type": "markdown",
   "id": "ef4eb6ef-f241-42a7-a3e5-6d65ace2884a",
   "metadata": {
    "jp-MarkdownHeadingCollapsed": true,
    "tags": []
   },
   "source": [
    "### GraphSAGE"
   ]
  },
  {
   "cell_type": "code",
   "execution_count": 3,
   "id": "35042c4a-27b4-46d1-aa14-4ee27df520ae",
   "metadata": {
    "execution": {
     "iopub.execute_input": "2021-08-16T11:18:51.298640Z",
     "iopub.status.busy": "2021-08-16T11:18:51.298405Z",
     "iopub.status.idle": "2021-08-16T11:18:51.310485Z",
     "shell.execute_reply": "2021-08-16T11:18:51.309916Z",
     "shell.execute_reply.started": "2021-08-16T11:18:51.298616Z"
    }
   },
   "outputs": [
    {
     "name": "stdout",
     "output_type": "stream",
     "text": [
      "Number of parameters: 147840.\n",
      "GraphSAGE(\n",
      "  (layers): ModuleList(\n",
      "    (0): SAGEConv(\n",
      "      (pool_layer): Linear(in_features=302, out_features=302, bias=True)\n",
      "      (linear1): Linear(in_features=302, out_features=64, bias=True)\n",
      "      (linear2): Linear(in_features=302, out_features=64, bias=True)\n",
      "      (dropout): Dropout(p=0.5, inplace=False)\n",
      "    )\n",
      "    (1): SAGEConv(\n",
      "      (pool_layer): Linear(in_features=64, out_features=64, bias=True)\n",
      "      (linear1): Linear(in_features=64, out_features=64, bias=True)\n",
      "      (linear2): Linear(in_features=64, out_features=64, bias=True)\n",
      "      (dropout): Dropout(p=0.5, inplace=False)\n",
      "    )\n",
      "    (2): SAGEConv(\n",
      "      (pool_layer): Linear(in_features=64, out_features=64, bias=True)\n",
      "      (linear1): Linear(in_features=64, out_features=7, bias=True)\n",
      "      (linear2): Linear(in_features=64, out_features=7, bias=True)\n",
      "    )\n",
      "  )\n",
      ")\n"
     ]
    }
   ],
   "source": [
    "from grb.model.torch import GraphSAGE\n",
    "from grb.utils.normalize import SAGEAdjNorm\n",
    "\n",
    "model_name = \"graphsage\"\n",
    "model = GraphSAGE(in_features=dataset.num_features,\n",
    "                  out_features=dataset.num_classes,\n",
    "                  hidden_features=[64, 64], \n",
    "                  adj_norm_func=SAGEAdjNorm,\n",
    "                  layer_norm=False,\n",
    "                  dropout=0.5)\n",
    "print(\"Number of parameters: {}.\".format(utils.get_num_params(model)))\n",
    "print(model)"
   ]
  },
  {
   "cell_type": "markdown",
   "id": "7464f5b2-02d8-4ffd-b688-7e450930f408",
   "metadata": {
    "jp-MarkdownHeadingCollapsed": true,
    "tags": []
   },
   "source": [
    "### SGCN"
   ]
  },
  {
   "cell_type": "code",
   "execution_count": 3,
   "id": "fb3ae0dc-94c5-4bf3-a745-a00353d9dbf6",
   "metadata": {
    "execution": {
     "iopub.execute_input": "2021-08-16T11:46:14.191362Z",
     "iopub.status.busy": "2021-08-16T11:46:14.191106Z",
     "iopub.status.idle": "2021-08-16T11:46:14.203648Z",
     "shell.execute_reply": "2021-08-16T11:46:14.203087Z",
     "shell.execute_reply.started": "2021-08-16T11:46:14.191337Z"
    },
    "tags": []
   },
   "outputs": [
    {
     "name": "stdout",
     "output_type": "stream",
     "text": [
      "Number of parameters: 24611.\n",
      "SGCN(\n",
      "  (batch_norm): BatchNorm1d(302, eps=1e-05, momentum=0.1, affine=True, track_running_stats=True)\n",
      "  (in_conv): Linear(in_features=302, out_features=64, bias=True)\n",
      "  (out_conv): Linear(in_features=64, out_features=7, bias=True)\n",
      "  (layers): ModuleList(\n",
      "    (0): SGConv(\n",
      "      (linear): Linear(in_features=64, out_features=64, bias=True)\n",
      "    )\n",
      "  )\n",
      "  (dropout): Dropout(p=0.5, inplace=False)\n",
      ")\n"
     ]
    }
   ],
   "source": [
    "from grb.model.torch import SGCN\n",
    "from grb.utils.normalize import GCNAdjNorm\n",
    "\n",
    "model_name = \"sgcn\"\n",
    "model = SGCN(in_features=dataset.num_features,\n",
    "             out_features=dataset.num_classes,\n",
    "             hidden_features=[64, 64], \n",
    "             adj_norm_func=GCNAdjNorm,\n",
    "             k=4,\n",
    "             dropout=0.5)\n",
    "print(\"Number of parameters: {}.\".format(utils.get_num_params(model)))\n",
    "print(model)"
   ]
  },
  {
   "cell_type": "markdown",
   "id": "c00964fa-a0e3-4995-8bb2-7c8c8c165e01",
   "metadata": {
    "tags": []
   },
   "source": [
    "### TAGCN"
   ]
  },
  {
   "cell_type": "code",
   "execution_count": 3,
   "id": "12b57a62-a650-42fa-84a7-57d1cfa066ef",
   "metadata": {
    "execution": {
     "iopub.execute_input": "2021-08-16T12:38:43.455525Z",
     "iopub.status.busy": "2021-08-16T12:38:43.455271Z",
     "iopub.status.idle": "2021-08-16T12:38:43.466369Z",
     "shell.execute_reply": "2021-08-16T12:38:43.465870Z",
     "shell.execute_reply.started": "2021-08-16T12:38:43.455500Z"
    },
    "tags": []
   },
   "outputs": [
    {
     "name": "stdout",
     "output_type": "stream",
     "text": [
      "Number of parameters: 71751.\n",
      "TAGCN(\n",
      "  (layers): ModuleList(\n",
      "    (0): TAGConv(\n",
      "      (linear): Linear(in_features=906, out_features=64, bias=True)\n",
      "      (dropout): Dropout(p=0.5, inplace=False)\n",
      "    )\n",
      "    (1): TAGConv(\n",
      "      (linear): Linear(in_features=192, out_features=64, bias=True)\n",
      "      (dropout): Dropout(p=0.5, inplace=False)\n",
      "    )\n",
      "    (2): TAGConv(\n",
      "      (linear): Linear(in_features=192, out_features=7, bias=True)\n",
      "    )\n",
      "  )\n",
      ")\n"
     ]
    }
   ],
   "source": [
    "from grb.model.torch import TAGCN\n",
    "from grb.utils.normalize import GCNAdjNorm\n",
    "\n",
    "model_name = \"tagcn\"\n",
    "model = TAGCN(in_features=dataset.num_features,\n",
    "              out_features=dataset.num_classes,\n",
    "              hidden_features=[64, 64],\n",
    "              adj_norm_func=GCNAdjNorm,\n",
    "              k=2,\n",
    "              dropout=0.5)\n",
    "print(\"Number of parameters: {}.\".format(utils.get_num_params(model)))\n",
    "print(model)"
   ]
  },
  {
   "cell_type": "markdown",
   "id": "2eef66d7-2e06-4d15-a557-58d232d116e7",
   "metadata": {
    "tags": []
   },
   "source": [
    "### MLP"
   ]
  },
  {
   "cell_type": "code",
   "execution_count": 15,
   "id": "d6d0662a-7c52-48d3-a714-fcbe7ba17452",
   "metadata": {
    "execution": {
     "iopub.execute_input": "2021-08-16T12:01:37.282603Z",
     "iopub.status.busy": "2021-08-16T12:01:37.282361Z",
     "iopub.status.idle": "2021-08-16T12:01:37.288817Z",
     "shell.execute_reply": "2021-08-16T12:01:37.288206Z",
     "shell.execute_reply.started": "2021-08-16T12:01:37.282577Z"
    },
    "tags": []
   },
   "outputs": [
    {
     "name": "stdout",
     "output_type": "stream",
     "text": [
      "Number of parameters: 24007.\n",
      "MLP(\n",
      "  (layers): ModuleList(\n",
      "    (0): MLPLayer(\n",
      "      (linear): Linear(in_features=302, out_features=64, bias=True)\n",
      "      (dropout): Dropout(p=0.5, inplace=False)\n",
      "    )\n",
      "    (1): MLPLayer(\n",
      "      (linear): Linear(in_features=64, out_features=64, bias=True)\n",
      "      (dropout): Dropout(p=0.5, inplace=False)\n",
      "    )\n",
      "    (2): MLPLayer(\n",
      "      (linear): Linear(in_features=64, out_features=7, bias=True)\n",
      "    )\n",
      "  )\n",
      ")\n"
     ]
    }
   ],
   "source": [
    "from grb.model.torch import MLP\n",
    "\n",
    "model_name = \"mlp\"\n",
    "model = MLP(in_features=dataset.num_features,\n",
    "            out_features=dataset.num_classes,\n",
    "            hidden_features=[64, 64], \n",
    "            dropout=0.5)\n",
    "print(\"Number of parameters: {}.\".format(utils.get_num_params(model)))\n",
    "print(model)"
   ]
  },
  {
   "cell_type": "markdown",
   "id": "1ee0a75f-8620-4c42-abc8-72d9bc65d18c",
   "metadata": {
    "tags": []
   },
   "source": [
    "## Training"
   ]
  },
  {
   "cell_type": "markdown",
   "id": "09e37b87-01ee-43da-9dab-52f7b34f842c",
   "metadata": {},
   "source": [
    "GRB provides ``grb.utils.trainer`` that facilitates the training process of GNNs. The training mode can be chosen from ``inductive`` or ``transductive``. In the inductive mode, only train nodes can be seen during training, train+val nodes can be seen during validation, train+val+test nodes can be seen during testing. In the transductive mode, all nodes are available for each process.  "
   ]
  },
  {
   "cell_type": "code",
   "execution_count": 4,
   "id": "27e138eb-8190-4f3c-affa-c55053e22cb0",
   "metadata": {
    "execution": {
     "iopub.execute_input": "2021-08-16T12:40:20.762319Z",
     "iopub.status.busy": "2021-08-16T12:40:20.762065Z",
     "iopub.status.idle": "2021-08-16T12:40:20.765808Z",
     "shell.execute_reply": "2021-08-16T12:40:20.765196Z",
     "shell.execute_reply.started": "2021-08-16T12:40:20.762292Z"
    },
    "tags": []
   },
   "outputs": [],
   "source": [
    "save_dir = \"./saved_modes/{}/{}\".format(dataset_name, model_name)\n",
    "save_name = \"model.pt\"\n",
    "device = \"cuda:0\"\n",
    "feat_norm = None\n",
    "train_mode = \"inductive\"  # \"transductive\""
   ]
  },
  {
   "cell_type": "code",
   "execution_count": 5,
   "id": "43c9c619-cd60-47a3-8d9d-55d6c8525c32",
   "metadata": {
    "execution": {
     "iopub.execute_input": "2021-08-16T12:40:21.001739Z",
     "iopub.status.busy": "2021-08-16T12:40:21.001558Z",
     "iopub.status.idle": "2021-08-16T12:40:22.728691Z",
     "shell.execute_reply": "2021-08-16T12:40:22.728093Z",
     "shell.execute_reply.started": "2021-08-16T12:40:21.001716Z"
    },
    "tags": []
   },
   "outputs": [],
   "source": [
    "from grb.utils.trainer import Trainer\n",
    "\n",
    "trainer = Trainer(dataset=dataset, \n",
    "                  optimizer=torch.optim.Adam(model.parameters(), lr=0.01),\n",
    "                  loss=torch.nn.functional.nll_loss,\n",
    "                  lr_scheduler=False,\n",
    "                  early_stop=True,\n",
    "                  early_stop_patience=500,\n",
    "                  feat_norm=feat_norm,\n",
    "                  device=device)"
   ]
  },
  {
   "cell_type": "code",
   "execution_count": 6,
   "id": "f567b85c-9a14-46e1-9a8f-17c94c0080bb",
   "metadata": {
    "execution": {
     "iopub.execute_input": "2021-08-16T12:40:22.729590Z",
     "iopub.status.busy": "2021-08-16T12:40:22.729489Z",
     "iopub.status.idle": "2021-08-16T12:40:42.160148Z",
     "shell.execute_reply": "2021-08-16T12:40:42.159558Z",
     "shell.execute_reply.started": "2021-08-16T12:40:22.729576Z"
    },
    "scrolled": true,
    "tags": []
   },
   "outputs": [
    {
     "name": "stderr",
     "output_type": "stream",
     "text": [
      "Epoch 00014 | Train loss 1.9133 | Train score 0.3203 | Val loss 1.7600 | Val score 0.3918:   1%|          | 15/2000 [00:00<00:53, 36.99it/s]"
     ]
    },
    {
     "name": "stdout",
     "output_type": "stream",
     "text": [
      "Epoch 00002 | Best validation score: 0.3433\n",
      "Model saved in './saved_modes/grb-cora/gat/model.pt'.\n",
      "Epoch 00010 | Best validation score: 0.3507\n",
      "Model saved in './saved_modes/grb-cora/gat/model.pt'.\n",
      "Epoch 00011 | Best validation score: 0.3545\n",
      "Model saved in './saved_modes/grb-cora/gat/model.pt'.\n",
      "Epoch 00012 | Best validation score: 0.3619\n",
      "Model saved in './saved_modes/grb-cora/gat/model.pt'.\n",
      "Epoch 00013 | Best validation score: 0.3769\n",
      "Model saved in './saved_modes/grb-cora/gat/model.pt'.\n",
      "Epoch 00014 | Best validation score: 0.3918\n",
      "Model saved in './saved_modes/grb-cora/gat/model.pt'.\n"
     ]
    },
    {
     "name": "stderr",
     "output_type": "stream",
     "text": [
      "Epoch 00027 | Train loss 1.6210 | Train score 0.4459 | Val loss 1.5186 | Val score 0.5896:   1%|▏         | 27/2000 [00:00<00:41, 48.07it/s]"
     ]
    },
    {
     "name": "stdout",
     "output_type": "stream",
     "text": [
      "Epoch 00016 | Best validation score: 0.4328\n",
      "Model saved in './saved_modes/grb-cora/gat/model.pt'.\n",
      "Epoch 00017 | Best validation score: 0.4851\n",
      "Model saved in './saved_modes/grb-cora/gat/model.pt'.\n",
      "Epoch 00018 | Best validation score: 0.5224\n",
      "Model saved in './saved_modes/grb-cora/gat/model.pt'.\n",
      "Epoch 00019 | Best validation score: 0.5373\n",
      "Model saved in './saved_modes/grb-cora/gat/model.pt'.\n",
      "Epoch 00020 | Best validation score: 0.5522\n",
      "Model saved in './saved_modes/grb-cora/gat/model.pt'.\n",
      "Epoch 00021 | Best validation score: 0.5597\n",
      "Model saved in './saved_modes/grb-cora/gat/model.pt'.\n",
      "Epoch 00022 | Best validation score: 0.5672\n",
      "Model saved in './saved_modes/grb-cora/gat/model.pt'.\n",
      "Epoch 00023 | Best validation score: 0.5784\n",
      "Model saved in './saved_modes/grb-cora/gat/model.pt'.\n",
      "Epoch 00024 | Best validation score: 0.6007\n",
      "Model saved in './saved_modes/grb-cora/gat/model.pt'.\n",
      "Epoch 00026 | Best validation score: 0.6082\n",
      "Model saved in './saved_modes/grb-cora/gat/model.pt'.\n"
     ]
    },
    {
     "name": "stderr",
     "output_type": "stream",
     "text": [
      "Epoch 00048 | Train loss 1.4146 | Train score 0.5641 | Val loss 1.1677 | Val score 0.6530:   2%|▏         | 42/2000 [00:01<00:34, 56.98it/s]"
     ]
    },
    {
     "name": "stdout",
     "output_type": "stream",
     "text": [
      "Epoch 00035 | Best validation score: 0.6157\n",
      "Model saved in './saved_modes/grb-cora/gat/model.pt'.\n",
      "Epoch 00036 | Best validation score: 0.6269\n",
      "Model saved in './saved_modes/grb-cora/gat/model.pt'.\n",
      "Epoch 00037 | Best validation score: 0.6343\n",
      "Model saved in './saved_modes/grb-cora/gat/model.pt'.\n",
      "Epoch 00038 | Best validation score: 0.6493\n",
      "Model saved in './saved_modes/grb-cora/gat/model.pt'.\n",
      "Epoch 00039 | Best validation score: 0.6530\n",
      "Model saved in './saved_modes/grb-cora/gat/model.pt'.\n",
      "Epoch 00047 | Best validation score: 0.6604\n",
      "Model saved in './saved_modes/grb-cora/gat/model.pt'.\n"
     ]
    },
    {
     "name": "stderr",
     "output_type": "stream",
     "text": [
      "Epoch 00064 | Train loss 1.4496 | Train score 0.5653 | Val loss 1.0818 | Val score 0.6866:   3%|▎         | 58/2000 [00:01<00:30, 64.07it/s]"
     ]
    },
    {
     "name": "stdout",
     "output_type": "stream",
     "text": [
      "Epoch 00050 | Best validation score: 0.6791\n",
      "Model saved in './saved_modes/grb-cora/gat/model.pt'.\n",
      "Epoch 00052 | Best validation score: 0.7052\n",
      "Model saved in './saved_modes/grb-cora/gat/model.pt'.\n"
     ]
    },
    {
     "name": "stderr",
     "output_type": "stream",
     "text": [
      "Epoch 00080 | Train loss 1.1672 | Train score 0.6511 | Val loss 0.9526 | Val score 0.7201:   4%|▍         | 80/2000 [00:01<00:28, 66.76it/s]"
     ]
    },
    {
     "name": "stdout",
     "output_type": "stream",
     "text": [
      "Epoch 00067 | Best validation score: 0.7201\n",
      "Model saved in './saved_modes/grb-cora/gat/model.pt'.\n",
      "Epoch 00068 | Best validation score: 0.7239\n",
      "Model saved in './saved_modes/grb-cora/gat/model.pt'.\n",
      "Epoch 00071 | Best validation score: 0.7351\n",
      "Model saved in './saved_modes/grb-cora/gat/model.pt'.\n"
     ]
    },
    {
     "name": "stderr",
     "output_type": "stream",
     "text": [
      "Epoch 00106 | Train loss 1.1929 | Train score 0.6200 | Val loss 0.8598 | Val score 0.7425:   5%|▌         | 101/2000 [00:01<00:28, 66.60it/s]"
     ]
    },
    {
     "name": "stdout",
     "output_type": "stream",
     "text": [
      "Epoch 00093 | Best validation score: 0.7388\n",
      "Model saved in './saved_modes/grb-cora/gat/model.pt'.\n",
      "Epoch 00094 | Best validation score: 0.7425\n",
      "Model saved in './saved_modes/grb-cora/gat/model.pt'.\n"
     ]
    },
    {
     "name": "stderr",
     "output_type": "stream",
     "text": [
      "Epoch 00135 | Train loss 1.1436 | Train score 0.6791 | Val loss 0.8124 | Val score 0.7537:   7%|▋         | 131/2000 [00:02<00:27, 67.86it/s]"
     ]
    },
    {
     "name": "stdout",
     "output_type": "stream",
     "text": [
      "Epoch 00122 | Best validation score: 0.7537\n",
      "Model saved in './saved_modes/grb-cora/gat/model.pt'.\n",
      "Epoch 00123 | Best validation score: 0.7612\n",
      "Model saved in './saved_modes/grb-cora/gat/model.pt'.\n",
      "Epoch 00125 | Best validation score: 0.7649\n",
      "Model saved in './saved_modes/grb-cora/gat/model.pt'.\n"
     ]
    },
    {
     "name": "stderr",
     "output_type": "stream",
     "text": [
      "Epoch 00163 | Train loss 0.9562 | Train score 0.6940 | Val loss 0.7838 | Val score 0.7724:   8%|▊         | 159/2000 [00:02<00:27, 66.69it/s]"
     ]
    },
    {
     "name": "stdout",
     "output_type": "stream",
     "text": [
      "Epoch 00150 | Best validation score: 0.7687\n",
      "Model saved in './saved_modes/grb-cora/gat/model.pt'.\n",
      "Epoch 00151 | Best validation score: 0.7761\n",
      "Model saved in './saved_modes/grb-cora/gat/model.pt'.\n",
      "Epoch 00152 | Best validation score: 0.7799\n",
      "Model saved in './saved_modes/grb-cora/gat/model.pt'.\n"
     ]
    },
    {
     "name": "stderr",
     "output_type": "stream",
     "text": [
      "Epoch 00199 | Train loss 0.9372 | Train score 0.7220 | Val loss 0.7096 | Val score 0.7799:  10%|▉         | 195/2000 [00:03<00:26, 68.56it/s]"
     ]
    },
    {
     "name": "stdout",
     "output_type": "stream",
     "text": [
      "Epoch 00186 | Best validation score: 0.7873\n",
      "Model saved in './saved_modes/grb-cora/gat/model.pt'.\n",
      "Epoch 00191 | Best validation score: 0.7910\n",
      "Model saved in './saved_modes/grb-cora/gat/model.pt'.\n"
     ]
    },
    {
     "name": "stderr",
     "output_type": "stream",
     "text": [
      "Epoch 00294 | Train loss 0.9300 | Train score 0.7307 | Val loss 0.6683 | Val score 0.7910:  15%|█▍        | 295/2000 [00:04<00:25, 67.85it/s]"
     ]
    },
    {
     "name": "stdout",
     "output_type": "stream",
     "text": [
      "Epoch 00281 | Best validation score: 0.7948\n",
      "Model saved in './saved_modes/grb-cora/gat/model.pt'.\n",
      "Epoch 00283 | Best validation score: 0.7985\n",
      "Model saved in './saved_modes/grb-cora/gat/model.pt'.\n",
      "Epoch 00284 | Best validation score: 0.8060\n",
      "Model saved in './saved_modes/grb-cora/gat/model.pt'.\n"
     ]
    },
    {
     "name": "stderr",
     "output_type": "stream",
     "text": [
      "Epoch 00573 | Train loss 0.8898 | Train score 0.7593 | Val loss 0.6038 | Val score 0.7910:  29%|██▊       | 574/2000 [00:08<00:20, 68.34it/s]"
     ]
    },
    {
     "name": "stdout",
     "output_type": "stream",
     "text": [
      "Epoch 00560 | Best validation score: 0.8097\n",
      "Model saved in './saved_modes/grb-cora/gat/model.pt'.\n"
     ]
    },
    {
     "name": "stderr",
     "output_type": "stream",
     "text": [
      "Epoch 00832 | Train loss 0.7767 | Train score 0.7606 | Val loss 0.6154 | Val score 0.7836:  42%|████▏     | 830/2000 [00:12<00:16, 69.18it/s]"
     ]
    },
    {
     "name": "stdout",
     "output_type": "stream",
     "text": [
      "Epoch 00819 | Best validation score: 0.8172\n",
      "Model saved in './saved_modes/grb-cora/gat/model.pt'.\n"
     ]
    },
    {
     "name": "stderr",
     "output_type": "stream",
     "text": [
      "Epoch 01325 | Train loss 0.8388 | Train score 0.7525 | Val loss 0.6168 | Val score 0.7948:  66%|██████▋   | 1326/2000 [00:19<00:09, 68.28it/s]"
     ]
    },
    {
     "name": "stdout",
     "output_type": "stream",
     "text": [
      "Training early stopped. Best validation score: 0.8172\n",
      "Model saved in './saved_modes/grb-cora/gat/early_stopped_model.pt'.\n"
     ]
    },
    {
     "name": "stderr",
     "output_type": "stream",
     "text": [
      "\n"
     ]
    }
   ],
   "source": [
    "trainer.train(model=model, \n",
    "              n_epoch=2000,\n",
    "              eval_every=1,\n",
    "              save_after=0,\n",
    "              save_dir=save_dir,\n",
    "              save_name=save_name,\n",
    "              train_mode=train_mode)"
   ]
  },
  {
   "cell_type": "markdown",
   "id": "23423752-5dd9-4f8a-89b8-8de74e21b92c",
   "metadata": {},
   "source": [
    "## Inference"
   ]
  },
  {
   "cell_type": "code",
   "execution_count": 7,
   "id": "4d0cf8b1-4518-46bf-b92f-378bb976641a",
   "metadata": {
    "execution": {
     "iopub.execute_input": "2021-08-16T12:40:45.818093Z",
     "iopub.status.busy": "2021-08-16T12:40:45.817853Z",
     "iopub.status.idle": "2021-08-16T12:40:45.831255Z",
     "shell.execute_reply": "2021-08-16T12:40:45.830777Z",
     "shell.execute_reply.started": "2021-08-16T12:40:45.818068Z"
    },
    "tags": []
   },
   "outputs": [
    {
     "data": {
      "text/plain": [
       "GAT(\n",
       "  (layers): ModuleList(\n",
       "    (0): GATConv(\n",
       "      (fc): Linear(in_features=302, out_features=256, bias=False)\n",
       "      (feat_drop): Dropout(p=0.6, inplace=False)\n",
       "      (attn_drop): Dropout(p=0.6, inplace=False)\n",
       "      (leaky_relu): LeakyReLU(negative_slope=0.2)\n",
       "    )\n",
       "    (1): GATConv(\n",
       "      (fc): Linear(in_features=256, out_features=256, bias=False)\n",
       "      (feat_drop): Dropout(p=0.6, inplace=False)\n",
       "      (attn_drop): Dropout(p=0.6, inplace=False)\n",
       "      (leaky_relu): LeakyReLU(negative_slope=0.2)\n",
       "    )\n",
       "    (2): GATConv(\n",
       "      (fc): Linear(in_features=256, out_features=7, bias=False)\n",
       "      (feat_drop): Dropout(p=0.0, inplace=False)\n",
       "      (attn_drop): Dropout(p=0.0, inplace=False)\n",
       "      (leaky_relu): LeakyReLU(negative_slope=0.2)\n",
       "    )\n",
       "  )\n",
       "  (dropout): Dropout(p=0.5, inplace=False)\n",
       ")"
      ]
     },
     "execution_count": 7,
     "metadata": {},
     "output_type": "execute_result"
    }
   ],
   "source": [
    "model = torch.load(os.path.join(save_dir, save_name))\n",
    "model = model.to(device)\n",
    "model.eval()"
   ]
  },
  {
   "cell_type": "code",
   "execution_count": 8,
   "id": "0770136c-3259-4e51-b4ae-e2fc28a5e763",
   "metadata": {
    "execution": {
     "iopub.execute_input": "2021-08-16T12:40:47.267760Z",
     "iopub.status.busy": "2021-08-16T12:40:47.267529Z",
     "iopub.status.idle": "2021-08-16T12:40:47.278236Z",
     "shell.execute_reply": "2021-08-16T12:40:47.277894Z",
     "shell.execute_reply.started": "2021-08-16T12:40:47.267735Z"
    },
    "tags": []
   },
   "outputs": [
    {
     "name": "stdout",
     "output_type": "stream",
     "text": [
      "tensor([[-1.7952,  0.0645,  0.1924,  ..., -2.1137, -6.9829, -7.3225],\n",
      "        [-2.6028, -4.5270, -5.4507,  ...,  3.3869, -6.9371, -7.1876],\n",
      "        [-3.0015, -4.1209, -4.3404,  ..., -0.1068, -6.3108, -6.5047],\n",
      "        ...,\n",
      "        [-2.2660, -4.0566, -2.6448,  ..., -3.1083, -4.8493, -5.3660],\n",
      "        [-7.0528, -8.5380, -8.0672,  ..., -8.7857, -7.4439, -9.3096],\n",
      "        [-1.7393,  0.4303,  1.3291,  ..., -1.8213, -7.0121, -7.8008]],\n",
      "       device='cuda:0', grad_fn=<ViewBackward>) torch.Size([2680, 7])\n"
     ]
    }
   ],
   "source": [
    "# by trainer\n",
    "pred = trainer.inference(model)\n",
    "print(pred, pred.shape)"
   ]
  },
  {
   "cell_type": "code",
   "execution_count": 9,
   "id": "278be10b-440a-4068-be2e-237e8d0b2e7e",
   "metadata": {
    "execution": {
     "iopub.execute_input": "2021-08-16T12:40:48.085327Z",
     "iopub.status.busy": "2021-08-16T12:40:48.085086Z",
     "iopub.status.idle": "2021-08-16T12:40:48.099478Z",
     "shell.execute_reply": "2021-08-16T12:40:48.099081Z",
     "shell.execute_reply.started": "2021-08-16T12:40:48.085302Z"
    },
    "tags": []
   },
   "outputs": [
    {
     "name": "stdout",
     "output_type": "stream",
     "text": [
      "tensor([[-1.7952,  0.0645,  0.1924,  ..., -2.1137, -6.9829, -7.3225],\n",
      "        [-2.6028, -4.5270, -5.4507,  ...,  3.3869, -6.9371, -7.1876],\n",
      "        [-3.0015, -4.1209, -4.3404,  ..., -0.1068, -6.3108, -6.5047],\n",
      "        ...,\n",
      "        [-2.2660, -4.0566, -2.6448,  ..., -3.1083, -4.8493, -5.3660],\n",
      "        [-7.0528, -8.5380, -8.0672,  ..., -8.7857, -7.4439, -9.3096],\n",
      "        [-1.7393,  0.4303,  1.3291,  ..., -1.8213, -7.0121, -7.8008]],\n",
      "       device='cuda:0', grad_fn=<ViewBackward>) torch.Size([2680, 7])\n"
     ]
    }
   ],
   "source": [
    "# by utils\n",
    "pred = utils.inference(model, \n",
    "                       features=dataset.features,\n",
    "                       feat_norm=feat_norm,\n",
    "                       adj=dataset.adj,\n",
    "                       adj_norm_func=model.adj_norm_func,\n",
    "                       device=device)\n",
    "print(pred, pred.shape)"
   ]
  },
  {
   "cell_type": "markdown",
   "id": "5d1df58f-7116-47c0-8e1d-c70b0567c964",
   "metadata": {},
   "source": [
    "## Evaluation"
   ]
  },
  {
   "cell_type": "code",
   "execution_count": 10,
   "id": "bd7d828e-029d-4127-a6ee-37cdf316c59a",
   "metadata": {
    "execution": {
     "iopub.execute_input": "2021-08-16T12:40:50.885504Z",
     "iopub.status.busy": "2021-08-16T12:40:50.885256Z",
     "iopub.status.idle": "2021-08-16T12:40:50.895920Z",
     "shell.execute_reply": "2021-08-16T12:40:50.895528Z",
     "shell.execute_reply.started": "2021-08-16T12:40:50.885477Z"
    },
    "tags": []
   },
   "outputs": [
    {
     "name": "stdout",
     "output_type": "stream",
     "text": [
      "Test score: 0.8607\n"
     ]
    }
   ],
   "source": [
    "# by trainer\n",
    "test_score = trainer.evaluate(model, dataset.test_mask)\n",
    "print(\"Test score: {:.4f}\".format(test_score))"
   ]
  },
  {
   "cell_type": "code",
   "execution_count": 11,
   "id": "e3cf4e0a-afae-464a-9893-d2760b4734b4",
   "metadata": {
    "execution": {
     "iopub.execute_input": "2021-08-16T12:40:51.816000Z",
     "iopub.status.busy": "2021-08-16T12:40:51.815750Z",
     "iopub.status.idle": "2021-08-16T12:40:51.828479Z",
     "shell.execute_reply": "2021-08-16T12:40:51.828098Z",
     "shell.execute_reply.started": "2021-08-16T12:40:51.815974Z"
    },
    "tags": []
   },
   "outputs": [
    {
     "name": "stdout",
     "output_type": "stream",
     "text": [
      "Test score: 0.8607\n"
     ]
    }
   ],
   "source": [
    "# by utils\n",
    "test_score = utils.evaluate(model, \n",
    "                            features=dataset.features,\n",
    "                            adj=dataset.adj,\n",
    "                            labels=dataset.labels,\n",
    "                            feat_norm=feat_norm,\n",
    "                            adj_norm_func=model.adj_norm_func,\n",
    "                            mask=dataset.test_mask,\n",
    "                            device=device)\n",
    "print(\"Test score: {:.4f}\".format(test_score))"
   ]
  },
  {
   "cell_type": "markdown",
   "id": "25c1d781-8ad3-4f64-b59c-ce72c68d30d2",
   "metadata": {},
   "source": [
    "For further information, please refer to the [GRB Documentation](https://grb.readthedocs.io/en/latest/)."
   ]
  }
 ],
 "metadata": {
  "kernelspec": {
   "display_name": "Python 3",
   "language": "python",
   "name": "python3"
  },
  "language_info": {
   "codemirror_mode": {
    "name": "ipython",
    "version": 3
   },
   "file_extension": ".py",
   "mimetype": "text/x-python",
   "name": "python",
   "nbconvert_exporter": "python",
   "pygments_lexer": "ipython3",
   "version": "3.8.11"
  },
  "toc-autonumbering": true,
  "toc-showtags": false
 },
 "nbformat": 4,
 "nbformat_minor": 5
}
